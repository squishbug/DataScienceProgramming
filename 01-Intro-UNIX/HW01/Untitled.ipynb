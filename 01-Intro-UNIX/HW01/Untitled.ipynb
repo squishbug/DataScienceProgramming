{
 "cells": [
  {
   "cell_type": "code",
   "execution_count": 7,
   "metadata": {
    "ExecuteTime": {
     "end_time": "2017-09-19T18:43:16.405050",
     "start_time": "2017-09-19T18:43:16.342244"
    },
    "collapsed": false
   },
   "outputs": [],
   "source": [
    "%%sh\n",
    "cat << EOF > question2.sh\n",
    "#!/bin/bash\n",
    "echo \"Science-related directories in /home/data/20_newsgroup/:\"\n",
    "ls /home/data/20_newsgroup/ | grep -i sci\n",
    "echo \"There are \\`ls /home/data/20_newsgroup/ | grep -ic sci\\` directories containing articles related to science.\"\n",
    "EOF"
   ]
  },
  {
   "cell_type": "code",
   "execution_count": 8,
   "metadata": {
    "ExecuteTime": {
     "end_time": "2017-09-19T18:44:55.178974",
     "start_time": "2017-09-19T18:44:55.139172"
    },
    "collapsed": true
   },
   "outputs": [],
   "source": [
    "%%sh\n",
    "cat << EOF > question3.sh\n",
    "#!/bin/bash\n",
    "echo \"Science-related directories in /home/data/20_newsgroup/:\"\n",
    "ls /home/data/20_newsgroup/ | grep -i sci\n",
    "echo \"There are \\`ls /home/data/20_newsgroup/ | grep -ic sci\\` directories containing articles related to science.\"\n",
    "echo \"There are \\`ls /home/data/20_newsgroup/ | grep -icv sci\\` directories NOT containing articles related to science.\"\n",
    "EOF"
   ]
  },
  {
   "cell_type": "code",
   "execution_count": 10,
   "metadata": {
    "ExecuteTime": {
     "end_time": "2017-09-19T18:55:10.846889",
     "start_time": "2017-09-19T18:55:10.808548"
    },
    "collapsed": true
   },
   "outputs": [],
   "source": [
    "%%sh\n",
    "cat << EOF > question4.sh\n",
    "#!/bin/bash\n",
    "grep -iw water | tr 'A-Z' 'a-z' | tr 'atie' '4713' > leetlines.txt\n",
    "echo \"\\`wc -l < leetlines.txt\\` lines written.\"\n",
    "EOF"
   ]
  },
  {
   "cell_type": "code",
   "execution_count": 13,
   "metadata": {
    "ExecuteTime": {
     "end_time": "2017-09-19T19:03:45.919213",
     "start_time": "2017-09-19T19:03:45.891328"
    },
    "collapsed": true
   },
   "outputs": [],
   "source": [
    "%%sh\n",
    "cat << EOF > question5a.sh\n",
    "#!/bin/bash\n",
    "grep -io \"sing\" | wc -l\n",
    "# be careful! the question doesn't ask you to count lines with SING in them,\n",
    "# it asks for occurence counts!\n",
    "EOF"
   ]
  },
  {
   "cell_type": "code",
   "execution_count": 14,
   "metadata": {
    "ExecuteTime": {
     "end_time": "2017-09-19T19:03:46.854886",
     "start_time": "2017-09-19T19:03:46.813844"
    },
    "collapsed": true
   },
   "outputs": [],
   "source": [
    "%%sh\n",
    "cat << EOF > question5b.sh\n",
    "#!/bin/bash\n",
    "grep -iow sing | wc -l\n",
    "# be careful! the question doesn't ask you to count lines with word SING in them,\n",
    "# it asks for occurence counts!\n",
    "EOF"
   ]
  },
  {
   "cell_type": "code",
   "execution_count": 19,
   "metadata": {
    "ExecuteTime": {
     "end_time": "2017-09-19T19:25:49.872096",
     "start_time": "2017-09-19T19:25:49.834848"
    },
    "collapsed": true
   },
   "outputs": [],
   "source": [
    "%%sh\n",
    "cat << EOF > question6.sh\n",
    "#!/bin/bash\n",
    "\n",
    "# (optional) just a quick check to make sure the right number of arguments is passed\n",
    "if [ \"\\$#\" -ne 2 ]; then\n",
    "    echo \"    Error[] Usage: questions6.sh <filename> <string>\"\n",
    "    exit 1\n",
    "fi\n",
    "\n",
    "# rename the arguments: f = file, s = string\n",
    "f=\\$1\n",
    "s=\\$2\n",
    "\n",
    "# count occurences of string s in file f\n",
    "grep -io \"\\${s}\" \\${f} | wc -l\n",
    "\n",
    "EOF"
   ]
  },
  {
   "cell_type": "code",
   "execution_count": null,
   "metadata": {
    "collapsed": true
   },
   "outputs": [],
   "source": []
  }
 ],
 "metadata": {
  "kernelspec": {
   "display_name": "Python 2",
   "language": "python",
   "name": "python2"
  },
  "language_info": {
   "codemirror_mode": {
    "name": "ipython",
    "version": 2
   },
   "file_extension": ".py",
   "mimetype": "text/x-python",
   "name": "python",
   "nbconvert_exporter": "python",
   "pygments_lexer": "ipython2",
   "version": "2.7.5"
  },
  "toc": {
   "nav_menu": {
    "height": "12px",
    "width": "252px"
   },
   "navigate_menu": true,
   "number_sections": true,
   "sideBar": true,
   "threshold": 4,
   "toc_cell": false,
   "toc_section_display": "block",
   "toc_window_display": false
  }
 },
 "nbformat": 4,
 "nbformat_minor": 0
}
