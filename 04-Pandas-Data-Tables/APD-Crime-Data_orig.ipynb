{
 "cells": [
  {
   "cell_type": "code",
   "execution_count": null,
   "metadata": {
    "collapsed": false
   },
   "outputs": [],
   "source": [
    "from IPython.core.display import display, HTML\n",
    "display(HTML(\"<style>.container { width:100% !important; }</style>\"))"
   ]
  },
  {
   "cell_type": "markdown",
   "metadata": {},
   "source": [
    "# Atlanta Police Department ![APD Logo](https://atlantapd.galls.com/photos/partners/atlantapd/logo.jpg)\n",
    "\n",
    "\n",
    "The Atlanta Police Department provides Part 1 crime data at http://www.atlantapd.org/crimedatadownloads.aspx\n",
    "\n",
    "A recent copy of the data file is stored in the cluster. <span style=\"color: red; font-weight: bold;\">Please, do not copy this data file into your home directory!</span>"
   ]
  },
  {
   "cell_type": "code",
   "execution_count": 1,
   "metadata": {
    "ExecuteTime": {
     "end_time": "2017-09-13T18:47:00.119953",
     "start_time": "2017-09-13T18:46:59.513385"
    },
    "collapsed": true
   },
   "outputs": [],
   "source": [
    "### Load libraries\n",
    "%matplotlib inline\n",
    "import numpy as np\n",
    "import pandas as pd\n",
    "import matplotlib.pyplot as plt"
   ]
  },
  {
   "cell_type": "code",
   "execution_count": null,
   "metadata": {
    "collapsed": false,
    "scrolled": false
   },
   "outputs": [],
   "source": [
    "help(plt.legend)"
   ]
  },
  {
   "cell_type": "markdown",
   "metadata": {},
   "source": [
    "Load data (don't change this if you're running the notebook on the cluster)\n",
    "\n",
    "We have two files\n",
    "- `/home/data/APD/COBRA083016_2015.xlsx` for 2015\n",
    "- `/home/data/APD/COBRA083016.xlsx` from 2009 to current date"
   ]
  },
  {
   "cell_type": "code",
   "execution_count": 2,
   "metadata": {
    "ExecuteTime": {
     "end_time": "2017-09-13T18:47:16.112202",
     "start_time": "2017-09-13T18:47:04.041293"
    },
    "collapsed": false
   },
   "outputs": [
    {
     "name": "stdout",
     "output_type": "stream",
     "text": [
      "CPU times: user 12 s, sys: 21.5 ms, total: 12 s\n",
      "Wall time: 12.1 s\n"
     ]
    }
   ],
   "source": [
    "%%time\n",
    "df = pd.read_excel('/home/data/APD/COBRA083016_2015.xlsx', sheetname='Query')"
   ]
  },
  {
   "cell_type": "code",
   "execution_count": 3,
   "metadata": {
    "ExecuteTime": {
     "end_time": "2017-09-13T18:47:16.119896",
     "start_time": "2017-09-13T18:47:16.114470"
    },
    "collapsed": false
   },
   "outputs": [
    {
     "data": {
      "text/plain": [
       "(30011, 23)"
      ]
     },
     "execution_count": 3,
     "metadata": {},
     "output_type": "execute_result"
    }
   ],
   "source": [
    "df.shape"
   ]
  },
  {
   "cell_type": "code",
   "execution_count": null,
   "metadata": {
    "collapsed": false
   },
   "outputs": [],
   "source": [
    "for c in df.columns:\n",
    "    print(c)"
   ]
  },
  {
   "cell_type": "code",
   "execution_count": null,
   "metadata": {
    "collapsed": false
   },
   "outputs": [],
   "source": [
    "df[0:5]"
   ]
  },
  {
   "cell_type": "code",
   "execution_count": null,
   "metadata": {
    "collapsed": false
   },
   "outputs": [],
   "source": [
    "df.describe()"
   ]
  },
  {
   "cell_type": "code",
   "execution_count": null,
   "metadata": {
    "collapsed": false
   },
   "outputs": [],
   "source": [
    "df.offense_id.min(), df.offense_id.max()"
   ]
  },
  {
   "cell_type": "code",
   "execution_count": null,
   "metadata": {
    "collapsed": false
   },
   "outputs": [],
   "source": [
    "df.groupby(['UC2 Literal']).offense_id.count()"
   ]
  },
  {
   "cell_type": "markdown",
   "metadata": {},
   "source": [
    "## Exploring Dates"
   ]
  },
  {
   "cell_type": "code",
   "execution_count": null,
   "metadata": {
    "collapsed": false
   },
   "outputs": [],
   "source": [
    "df[['offense_id', 'occur_date', 'occur_time', 'rpt_date']][1:10]"
   ]
  },
  {
   "cell_type": "markdown",
   "metadata": {},
   "source": [
    "Convert into date-time type"
   ]
  },
  {
   "cell_type": "code",
   "execution_count": null,
   "metadata": {
    "collapsed": false
   },
   "outputs": [],
   "source": [
    "df['occur_ts'] = pd.to_datetime(df.occur_date+' '+df.occur_time)"
   ]
  },
  {
   "cell_type": "code",
   "execution_count": null,
   "metadata": {
    "collapsed": false
   },
   "outputs": [],
   "source": [
    "#df[['offense_id', 'occur_date', 'occur_time', 'occur_ts', 'rpt_date']][1:10]"
   ]
  },
  {
   "cell_type": "code",
   "execution_count": null,
   "metadata": {
    "collapsed": false
   },
   "outputs": [],
   "source": [
    "df['occur_ts'] = pd.to_datetime(df.occur_date+' '+df.occur_time)\n",
    "df['occur_month'] = df['occur_ts'].map(lambda x: x.month)\n",
    "df['occur_woy'] = df.occur_ts.dt.weekofyear"
   ]
  },
  {
   "cell_type": "code",
   "execution_count": null,
   "metadata": {
    "collapsed": false
   },
   "outputs": [],
   "source": [
    "df.describe()"
   ]
  },
  {
   "cell_type": "code",
   "execution_count": null,
   "metadata": {
    "collapsed": false
   },
   "outputs": [],
   "source": [
    "resdf = df.groupby(['UC2 Literal', 'occur_month']).offense_id.count()\n",
    "resdf"
   ]
  },
  {
   "cell_type": "code",
   "execution_count": null,
   "metadata": {
    "collapsed": false
   },
   "outputs": [],
   "source": [
    "resdf['BURGLARY-RESIDENCE'].as_matrix()"
   ]
  },
  {
   "cell_type": "code",
   "execution_count": null,
   "metadata": {
    "collapsed": false
   },
   "outputs": [],
   "source": [
    "resdf['BURGLARY-RESIDENCE'].iloc(0)"
   ]
  },
  {
   "cell_type": "code",
   "execution_count": null,
   "metadata": {
    "collapsed": false
   },
   "outputs": [],
   "source": [
    "%matplotlib inline\n",
    "fig = plt.figure(figsize=(10,6)) # 10inx10in\n",
    "#plt.plot(resdf['BURGLARY-RESIDENCE'].index, resdf['BURGLARY-RESIDENCE'])\n",
    "plt.scatter(resdf['BURGLARY-RESIDENCE'].index, resdf['BURGLARY-RESIDENCE'], marker='x')\n",
    "plt.scatter(resdf['BURGLARY-NONRES'].index, resdf['BURGLARY-NONRES'], marker='o')\n",
    "\n",
    "plt.ylim(0, 500)\n",
    "plt.title('BURGLARY-RESIDENCE')\n",
    "plt.xticks(range(13), ['', 'Jan', 'Feb', 'Mar', 'Apr', 'May', 'Jun', 'Jul', 'Aug', 'Sep', 'Oct', 'Nov', 'Dec'])\n",
    "fig.savefig('BurglaryResidence_over_month.svg')\n",
    "x = 1"
   ]
  },
  {
   "cell_type": "code",
   "execution_count": null,
   "metadata": {
    "collapsed": true
   },
   "outputs": [],
   "source": [
    "df = pd.read_excel('/home/data/APD/COBRA083016_2015.xlsx', sheetname='Query')\n",
    "df['occur_ts'] = pd.to_datetime(df.occur_date+' '+df.occur_time)\n",
    "df['occur_month'] = df['occur_ts'].map(lambda x: x.month)\n",
    "df['occur_woy'] = df.occur_ts.dt.weekofyear"
   ]
  },
  {
   "cell_type": "code",
   "execution_count": null,
   "metadata": {
    "collapsed": false
   },
   "outputs": [],
   "source": [
    "%matplotlib inline\n",
    "resdf = df.groupby(['UC2 Literal', 'occur_month']).offense_id.count()\n",
    "fig = plt.figure(figsize=(10,6))\n",
    "plt.scatter(resdf['BURGLARY-RESIDENCE'].index, resdf['BURGLARY-RESIDENCE'], marker='x')\n",
    "plt.ylim(0, 500)\n",
    "plt.title('BURGLARY-RESIDENCE')\n",
    "plt.xticks(range(13), ['', 'Jan', 'Feb', 'Mar', 'Apr', 'May', 'Jun', 'Jul', 'Aug', 'Sep', 'Oct', 'Nov', 'Dec'])\n",
    "plt.savefig('quiz3-burglary-residence.png')\n",
    "\n",
    "''"
   ]
  },
  {
   "cell_type": "code",
   "execution_count": null,
   "metadata": {
    "collapsed": false
   },
   "outputs": [],
   "source": [
    "plt.savefig('quiz3-burglary-residence.png')\n"
   ]
  },
  {
   "cell_type": "markdown",
   "metadata": {
    "collapsed": true
   },
   "source": [
    "# Part 1 - Observations from the data\n"
   ]
  },
  {
   "cell_type": "code",
   "execution_count": null,
   "metadata": {
    "collapsed": true
   },
   "outputs": [],
   "source": []
  },
  {
   "cell_type": "code",
   "execution_count": null,
   "metadata": {
    "collapsed": true
   },
   "outputs": [],
   "source": []
  },
  {
   "cell_type": "markdown",
   "metadata": {
    "collapsed": true
   },
   "source": [
    "# Part 2 - Seasonal Model"
   ]
  },
  {
   "cell_type": "code",
   "execution_count": null,
   "metadata": {
    "collapsed": true
   },
   "outputs": [],
   "source": [
    "## load complete dataset\n",
    "dff = pd.read_excel('/home/data/APD/COBRA083016.xlsx', sheetname='Query')"
   ]
  },
  {
   "cell_type": "code",
   "execution_count": null,
   "metadata": {
    "collapsed": false
   },
   "outputs": [],
   "source": [
    "dff.shape"
   ]
  },
  {
   "cell_type": "code",
   "execution_count": null,
   "metadata": {
    "collapsed": true
   },
   "outputs": [],
   "source": [
    "for evt in ['occur', 'poss']:\n",
    "    dff['%s_ts'%evt] = pd.to_datetime(dff['%s_date'%evt]+' '+dff['%s_time'%evt])\n",
    "dff['rpt_ts'] = pd.to_datetime(dff.rpt_date)"
   ]
  },
  {
   "cell_type": "code",
   "execution_count": null,
   "metadata": {
    "collapsed": false,
    "scrolled": true
   },
   "outputs": [],
   "source": [
    "', '.join(dff.columns)"
   ]
  },
  {
   "cell_type": "code",
   "execution_count": null,
   "metadata": {
    "collapsed": true
   },
   "outputs": [],
   "source": [
    "dff['occur_year'] = dff.occur_ts.dt.year\n",
    "dff['occur_month'] = dff.occur_ts.dt.month\n",
    "dff['occur_dayweek'] = dff.occur_ts.dt.dayofweek"
   ]
  },
  {
   "cell_type": "markdown",
   "metadata": {},
   "source": [
    "### Crime per year\n",
    "Let's look at the "
   ]
  },
  {
   "cell_type": "code",
   "execution_count": null,
   "metadata": {
    "collapsed": false
   },
   "outputs": [],
   "source": [
    "crime_year = dff[dff.occur_year.between(2009, 2015)].groupby(by=['UC2 Literal', 'occur_year']).offense_id.count()"
   ]
  },
  {
   "cell_type": "code",
   "execution_count": null,
   "metadata": {
    "collapsed": false,
    "scrolled": true
   },
   "outputs": [],
   "source": [
    "%matplotlib inline\n",
    "fig = plt.figure(figsize=(40,30))\n",
    "crime_types = crime_year.index.levels[0]\n",
    "years = crime_year.index.levels[1]\n",
    "for c in range(len(crime_types)):\n",
    "    y_max = max(crime_year.loc[crime_types[c]])\n",
    "    \n",
    "    plt.subplot(4,3,c+1)\n",
    "    plt.hlines(crime_year.loc[crime_types[c]].iloc[-1]*100/y_max, years[0], years[-1], linestyles=\"dashed\", color=\"r\")\n",
    "    plt.bar(crime_year.loc[crime_types[c]].index, crime_year.loc[crime_types[c]]*100/y_max, label=crime_types[c], alpha=0.5)\n",
    "    ##plt.legend()\n",
    "    plt.ylim(0, 100)\n",
    "    plt.xticks(years+0.4, [str(int(y)) for y in years], rotation=0, fontsize=24)\n",
    "    plt.yticks([0,20,40,60,80,100], ['0%','20%','40%','60%','80%','100%'], fontsize=24)\n",
    "    plt.title(crime_types[c], fontsize=30)\n",
    "    None"
   ]
  },
  {
   "cell_type": "markdown",
   "metadata": {},
   "source": [
    "Let's look at residential burglary."
   ]
  },
  {
   "cell_type": "code",
   "execution_count": null,
   "metadata": {
    "collapsed": false
   },
   "outputs": [],
   "source": [
    "c = 3\n",
    "crime_types[c]"
   ]
  },
  {
   "cell_type": "code",
   "execution_count": null,
   "metadata": {
    "collapsed": true
   },
   "outputs": [],
   "source": [
    "crime_year_month = dff[dff.occur_year.between(2009, 2015)].groupby(by=['UC2 Literal', 'occur_year', 'occur_month']).offense_id.count()"
   ]
  },
  {
   "cell_type": "code",
   "execution_count": null,
   "metadata": {
    "collapsed": false
   },
   "outputs": [],
   "source": [
    "c = 3 ## 'BURGLARY-RESIDENCE'\n",
    "resburglaries = crime_year_month.loc[crime_types[c]]\n",
    "fig = plt.figure(figsize=(20,10))\n",
    "for y in years:\n",
    "    plt.plot(resburglaries.loc[y].index, resburglaries.loc[y], label=(\"%4.0f\"%y))\n",
    "plt.legend()\n",
    "plt.title(\"Seasonal Trends - %s\"%crime_types[c], fontsize=20)\n",
    "plt.xticks(range(13), ['', 'Jan', 'Feb', 'Mar', 'Apr', 'May', 'Jun', 'Jul', 'Aug', 'Sep', 'Oct', 'Nov', 'Dec'])\n",
    "plt.xlim(0,13)\n",
    "None"
   ]
  },
  {
   "cell_type": "markdown",
   "metadata": {},
   "source": [
    "Normalized over the annual average"
   ]
  },
  {
   "cell_type": "code",
   "execution_count": null,
   "metadata": {
    "collapsed": false
   },
   "outputs": [],
   "source": [
    "c = 3 ## 'BURGLARY-RESIDENCE'\n",
    "fig = plt.figure(figsize=(20,10))\n",
    "for y in years:\n",
    "    avg = resburglaries.loc[y].mean()\n",
    "    plt.hlines(avg, 1, 13, linestyle='dashed')\n",
    "    plt.plot(resburglaries.loc[y].index, resburglaries.loc[y], label=(\"%4.0f\"%y))\n",
    "plt.legend()\n",
    "plt.title(\"Seasonal Trends - %s (with annuale averages)\"%crime_types[c], fontsize=20)\n",
    "plt.xticks(list(range(1,13)), ['Jan', 'Feb', 'Mar', 'Apr', 'May', 'Jun', 'Jul', 'Aug', 'Sep', 'Oct', 'Nov', 'Dec'])\n",
    "plt.xlim(0,13)\n",
    "None"
   ]
  },
  {
   "cell_type": "code",
   "execution_count": null,
   "metadata": {
    "collapsed": false
   },
   "outputs": [],
   "source": [
    "c = 3 ## 'BURGLARY-RESIDENCE'\n",
    "fig = plt.figure(figsize=(20,10))\n",
    "for y in years:\n",
    "    avg = resburglaries.loc[y].mean()\n",
    "    std = resburglaries.loc[y].std()\n",
    "    ##plt.hlines(avg, 1, 13, linestyle='dashed')\n",
    "    plt.plot(resburglaries.loc[y].index, (resburglaries.loc[y]-avg)/std, label=(\"%4.0f\"%y))\n",
    "plt.legend()\n",
    "plt.title(\"Seasonal Trends - %s (normalized)\"%crime_types[c], fontsize=20)\n",
    "plt.xticks(list(range(1,13)), ['Jan', 'Feb', 'Mar', 'Apr', 'May', 'Jun', 'Jul', 'Aug', 'Sep', 'Oct', 'Nov', 'Dec'])\n",
    "plt.xlim(0,13)\n",
    "plt.ylabel(\"Standard deviations $\\sigma_y$\")\n",
    "None"
   ]
  },
  {
   "cell_type": "code",
   "execution_count": null,
   "metadata": {
    "collapsed": true
   },
   "outputs": [],
   "source": []
  },
  {
   "cell_type": "code",
   "execution_count": null,
   "metadata": {
    "collapsed": false
   },
   "outputs": [],
   "source": [
    "seasonal_adjust = resburglaries.reset_index().groupby(by=['occur_month']).offense_id.agg('mean')"
   ]
  },
  {
   "cell_type": "code",
   "execution_count": null,
   "metadata": {
    "collapsed": true
   },
   "outputs": [],
   "source": []
  },
  {
   "cell_type": "code",
   "execution_count": null,
   "metadata": {
    "collapsed": true
   },
   "outputs": [],
   "source": []
  },
  {
   "cell_type": "code",
   "execution_count": null,
   "metadata": {
    "collapsed": true
   },
   "outputs": [],
   "source": []
  },
  {
   "cell_type": "code",
   "execution_count": null,
   "metadata": {
    "collapsed": true
   },
   "outputs": [],
   "source": []
  },
  {
   "cell_type": "code",
   "execution_count": null,
   "metadata": {
    "collapsed": true
   },
   "outputs": [],
   "source": []
  },
  {
   "cell_type": "markdown",
   "metadata": {
    "collapsed": true
   },
   "source": [
    "### Fitting the regression line\n",
    "Suppose there are $n$ data points {{math|{(''x<sub>i</sub>'', ''y<sub>i</sub>''), ''i'' {{=}} 1, ..., ''n''}.}} The function that describes x and y is:\n",
    "\n",
    "$$y_i = \\alpha + \\beta x_i + \\varepsilon_i.$$\n",
    "\n",
    "The goal is to find the equation of the straight line\n",
    "\n",
    "$$y = \\alpha + \\beta x,$$\n",
    "\n",
    "which would provide a \"best\" fit for the data points. Here the \"best\" will be understood as in the [[Ordinary least squares|least-squares]] approach: a line that minimizes the sum of squared residuals of the linear regression model. In other words, {{mvar|α}} (the {{mvar|y}}-intercept) and {{mvar|β}} (the slope) solve the following minimization problem:\n",
    "\n",
    "$$\\text{Find }\\min_{\\alpha,\\,\\beta} Q(\\alpha, \\beta), \\qquad \\text{for } Q(\\alpha, \\beta) = \\sum_{i=1}^n\\varepsilon_i^{\\,2} = \\sum_{i=1}^n (y_i - \\alpha - \\beta x_i)^2\\ $$\n",
    "\n",
    "By using either [[calculus]], the geometry of [[inner product space]]s, or simply expanding to get a quadratic expression in {{mvar|α}} and {{mvar|β}}, it can be shown that the values of {{mvar|α}} and {{mvar|β}} that minimize the objective function {{mvar|Q}}<ref>Kenney, J. F. and Keeping, E. S. (1962) \"Linear Regression and Correlation.\" Ch. 15 in ''Mathematics of Statistics'', Pt. 1, 3rd ed. Princeton, NJ: Van Nostrand, pp. 252–285</ref> are\n",
    "\n",
    ": <math>\\begin{align}\n",
    "  \\hat\\beta &= \\frac{ \\sum_{i=1}^{n} (x_i - \\bar{x})(y_i - \\bar{y}) }{ \\sum_{i=1}^n (x_i - \\bar{x})^2 } \\\\[6pt]\n",
    "            &= \\frac{ \\sum_{i=1}^{n} (x_i y_i - x_i \\bar{y} - \\bar{x} y_i + \\bar{x} \\bar{y})} { \\sum_{i=1}^n (x_i^2 - 2 x_i \\bar{x} + \\bar{x}^2) } \\\\[6pt]\n",
    "            &= \\frac{ \\sum_{i=1}^{n} (x_i y_i) - \\bar{y} \\sum_{i=1}^{n}  x_i  - \\bar{x} \\sum_{i=1}^{n} y_i + n  \\bar{x} \\bar{y}} { \\sum_{i=1}^n (x_i^2) - 2 \\bar{x}  \\sum_{i=1}^n  x_i  + n \\bar{x}^2 } \\\\[6pt]\n",
    "            &= \\frac{ \\frac{1}{n} \\sum_{i=1}^{n} x_i y_i - \\bar{x} \\bar{y} }{ \\frac{1}{n}\\sum_{i=1}^n {x_i^2} -   \\overline{x}^2 } \\\\[6pt]\n",
    "            &= \\frac{ \\overline{xy} - \\bar{x}\\bar{y} }{ \\overline{x^2} - \\bar{x}^2 } = \\frac{ \\operatorname{Cov}[x, y] }{ \\operatorname{Var}[x] } \\\\\n",
    "            &= r_{xy} \\frac{s_y}{s_x}, \\\\[6pt]\n",
    " \\hat\\alpha & = \\bar{y} - \\hat\\beta\\,\\bar{x},\n",
    "\\end{align}</math>\n",
    "\n",
    "where {{math|''r<sub>xy</sub>''}} is the [[Correlation#Pearson's product-moment coefficient|sample correlation coefficient]] between {{mvar|x}} and {{mvar|y}}; and {{math|''s<sub>x</sub>''}} and {{math|''s<sub>y</sub>''}} are the [[sample standard deviation]] of {{mvar|x}} and {{mvar|y}}. A horizontal bar over a quantity indicates the average value of that quantity. For example:\n",
    "\n",
    ":<math>\\overline{xy} = \\frac{1}{n} \\sum_{i=1}^n x_i y_i.</math>\n",
    "\n",
    "Substituting the above expressions for <math>\\hat{\\alpha}</math> and <math>\\hat{\\beta}</math> into\n",
    "\n",
    ": <math>f = \\hat{\\alpha} + \\hat{\\beta} x,</math>\n",
    "\n",
    "yields\n",
    "\n",
    ": <math>\\frac{ f - \\bar{y}}{s_y} = r_{xy} \\frac{ x - \\bar{x}}{s_x}  </math>\n",
    "\n",
    "This shows that {{math|''r<sub>xy</sub>''}} is the slope of the regression line of the [[Standard score|standardized]] data points (and that this line passes through the origin).\n",
    "\n",
    "It is sometimes useful to calculate {{math|''r<sub>xy</sub>''}} from the data independently using this equation:\n",
    "\n",
    ":<math>r_{xy} = \\frac{ \\overline{xy} - \\bar{x}\\bar{y} }{ \\sqrt{ \\left(\\overline{x^2} - \\bar{x}^2\\right)\\left(\\overline{y^2} - \\bar{y}^2\\right)} } </math>\n",
    "\n",
    "The [[coefficient of determination]] (R squared) is equal to <math>r_{xy}^2</math> when the model is linear with a single independent variable. See [[Correlation#Pearson's product-moment coefficient|sample correlation coefficient]] for additional details.\n",
    "\n",
    "===Linear regression without the intercept term===\n",
    "Sometimes it is appropriate to force the regression line to pass through the origin, because {{mvar|x}} and {{mvar|y}} are assumed to be proportional. For the model without the intercept term, {{math|''y'' {{=}} ''βx''}}, the OLS estimator for {{mvar|β}} simplifies to\n",
    "\n",
    ": <math>\\hat{\\beta} = \\frac{ \\sum_{i=1}^n x_i y_i }{ \\sum_{i=1}^n x_i^2 } = \\frac{\\overline{x y}}{\\overline{x^2}} </math>\n",
    "\n",
    "Substituting {{math|(''x'' − ''h'', ''y'' − ''k'')}} in place of {{math|(''x'', ''y'')}} gives the regression through {{math|(''h'', ''k'')}}:\n",
    "\n",
    ": <math>\\begin{align}\n",
    "  \\hat\\beta &= \\frac{\\overline{(x - h) (y - k)}}{\\overline{(x - h)^2}} \\\\[6pt]\n",
    "            &= \\frac{\\overline{x y} + k \\bar{x} - h \\bar{y} - h k }{\\overline{x^2} - 2 h \\bar{x} + h^2} \\\\[6pt]\n",
    "            &= \\frac{\\overline{x y} - \\bar{x} \\bar{y} + (\\bar{x} - h)(\\bar{y} - k)}{\\overline{x^2} - \\bar{x}^2 + (\\bar{x} - h)^2} \\\\[6pt]\n",
    "            &= \\frac{\\operatorname{Cov}[x,y] + (\\bar{x} - h)(\\bar{y}-k)}{\\operatorname{Var}[x] + (\\bar{x} - h)^2}\n",
    "\\end{align}</math>\n",
    "\n",
    "The last form above demonstrates how moving the line away from the center of mass of the data points affects the slope.\n"
   ]
  },
  {
   "cell_type": "code",
   "execution_count": null,
   "metadata": {
    "collapsed": false
   },
   "outputs": [],
   "source": [
    "### in case we want to save a DataFrame\n",
    "#writer = pd.ExcelWriter('myresults.xlsx')\n",
    "#df.to_excel(writer,'Results')\n",
    "#writer.save()"
   ]
  },
  {
   "cell_type": "code",
   "execution_count": null,
   "metadata": {
    "collapsed": true
   },
   "outputs": [],
   "source": [
    "resdf"
   ]
  },
  {
   "cell_type": "code",
   "execution_count": null,
   "metadata": {
    "collapsed": true
   },
   "outputs": [],
   "source": []
  },
  {
   "cell_type": "code",
   "execution_count": null,
   "metadata": {
    "collapsed": true
   },
   "outputs": [],
   "source": []
  },
  {
   "cell_type": "code",
   "execution_count": null,
   "metadata": {
    "collapsed": true
   },
   "outputs": [],
   "source": []
  },
  {
   "cell_type": "code",
   "execution_count": null,
   "metadata": {
    "collapsed": true
   },
   "outputs": [],
   "source": []
  }
 ],
 "metadata": {
  "hide_input": false,
  "kernelspec": {
   "display_name": "Python 2",
   "language": "python",
   "name": "python2"
  },
  "language_info": {
   "codemirror_mode": {
    "name": "ipython",
    "version": 2
   },
   "file_extension": ".py",
   "mimetype": "text/x-python",
   "name": "python",
   "nbconvert_exporter": "python",
   "pygments_lexer": "ipython2",
   "version": "2.7.5"
  },
  "toc": {
   "nav_menu": {
    "height": "223px",
    "width": "252px"
   },
   "navigate_menu": true,
   "number_sections": true,
   "sideBar": true,
   "threshold": 4,
   "toc_cell": false,
   "toc_section_display": "block",
   "toc_window_display": false
  }
 },
 "nbformat": 4,
 "nbformat_minor": 0
}
