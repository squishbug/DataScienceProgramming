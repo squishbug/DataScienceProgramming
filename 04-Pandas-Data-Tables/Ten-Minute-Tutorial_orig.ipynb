{
 "cells": [
  {
   "cell_type": "markdown",
   "metadata": {},
   "source": [
    "# Pandas\n",
    "***pandas*** is a Python package providing fast, flexible, and expressive data structures designed to make working with “relational” or “labeled” data both easy and intuitive. It aims to be the fundamental high-level building block for doing practical, real world data analysis in Python. Additionally, it has the broader goal of becoming the most powerful and flexible open source data analysis / manipulation tool available in any language. It is already well on its way toward this goal.\n",
    "\n",
    "Source: http://pandas.pydata.org/pandas-docs/stable/"
   ]
  },
  {
   "cell_type": "markdown",
   "metadata": {},
   "source": [
    "# 10 Minutes to pandas\n",
    "This is a short introduction to pandas, geared mainly for new users. You can see more complex recipes in the Cookbook\n",
    "The original document is posted at http://pandas.pydata.org/pandas-docs/stable/10min.html\n",
    "\n",
    "Customarily, we import as follows:"
   ]
  },
  {
   "cell_type": "code",
   "execution_count": 2,
   "metadata": {
    "collapsed": false
   },
   "outputs": [],
   "source": [
    "import pandas as pd\n",
    "import numpy as np\n",
    "import matplotlib.pyplot as plt"
   ]
  },
  {
   "cell_type": "markdown",
   "metadata": {},
   "source": [
    "## Object Creation\n",
    "See the [Data Structure Intro section](http://pandas.pydata.org/pandas-docs/stable/dsintro.html#dsintro)\n",
    "\n",
    "Creating a `Series` by passing a list of values, letting pandas create a default integer index:"
   ]
  },
  {
   "cell_type": "code",
   "execution_count": 3,
   "metadata": {
    "collapsed": false
   },
   "outputs": [
    {
     "data": {
      "text/plain": [
       "0    1.0\n",
       "1    3.0\n",
       "2    5.0\n",
       "3    NaN\n",
       "4    6.0\n",
       "5    8.0\n",
       "dtype: float64"
      ]
     },
     "execution_count": 3,
     "metadata": {},
     "output_type": "execute_result"
    }
   ],
   "source": [
    "s = pd.Series([1,3,5,np.nan,6,8])\n",
    "s"
   ]
  },
  {
   "cell_type": "markdown",
   "metadata": {},
   "source": [
    "Creating a `DataFrame` by passing a numpy array, with a datetime index and labeled columns:"
   ]
  },
  {
   "cell_type": "code",
   "execution_count": 4,
   "metadata": {
    "collapsed": false
   },
   "outputs": [
    {
     "data": {
      "text/plain": [
       "DatetimeIndex(['2013-01-01', '2013-01-02', '2013-01-03', '2013-01-04',\n",
       "               '2013-01-05', '2013-01-06'],\n",
       "              dtype='datetime64[ns]', freq='D')"
      ]
     },
     "execution_count": 4,
     "metadata": {},
     "output_type": "execute_result"
    }
   ],
   "source": [
    "dates = pd.date_range('20130101', periods=6)\n",
    "dates"
   ]
  },
  {
   "cell_type": "code",
   "execution_count": 9,
   "metadata": {
    "collapsed": false,
    "scrolled": true
   },
   "outputs": [
    {
     "data": {
      "text/html": [
       "<div>\n",
       "<table border=\"1\" class=\"dataframe\">\n",
       "  <thead>\n",
       "    <tr style=\"text-align: right;\">\n",
       "      <th></th>\n",
       "      <th>Ann</th>\n",
       "      <th>Bob</th>\n",
       "      <th>Charly</th>\n",
       "      <th>Don</th>\n",
       "    </tr>\n",
       "  </thead>\n",
       "  <tbody>\n",
       "    <tr>\n",
       "      <th>2013-01-01</th>\n",
       "      <td>-0.186518</td>\n",
       "      <td>-0.385830</td>\n",
       "      <td>-1.613007</td>\n",
       "      <td>-0.866188</td>\n",
       "    </tr>\n",
       "    <tr>\n",
       "      <th>2013-01-02</th>\n",
       "      <td>-0.869272</td>\n",
       "      <td>-0.667518</td>\n",
       "      <td>-0.594663</td>\n",
       "      <td>0.376043</td>\n",
       "    </tr>\n",
       "    <tr>\n",
       "      <th>2013-01-03</th>\n",
       "      <td>0.063678</td>\n",
       "      <td>1.746219</td>\n",
       "      <td>1.366210</td>\n",
       "      <td>-0.072918</td>\n",
       "    </tr>\n",
       "    <tr>\n",
       "      <th>2013-01-04</th>\n",
       "      <td>-0.170625</td>\n",
       "      <td>0.472639</td>\n",
       "      <td>0.261512</td>\n",
       "      <td>0.828992</td>\n",
       "    </tr>\n",
       "    <tr>\n",
       "      <th>2013-01-05</th>\n",
       "      <td>0.569475</td>\n",
       "      <td>-0.798349</td>\n",
       "      <td>0.968672</td>\n",
       "      <td>-0.286756</td>\n",
       "    </tr>\n",
       "    <tr>\n",
       "      <th>2013-01-06</th>\n",
       "      <td>1.468753</td>\n",
       "      <td>0.123569</td>\n",
       "      <td>0.316814</td>\n",
       "      <td>0.107775</td>\n",
       "    </tr>\n",
       "  </tbody>\n",
       "</table>\n",
       "</div>"
      ],
      "text/plain": [
       "                 Ann       Bob    Charly       Don\n",
       "2013-01-01 -0.186518 -0.385830 -1.613007 -0.866188\n",
       "2013-01-02 -0.869272 -0.667518 -0.594663  0.376043\n",
       "2013-01-03  0.063678  1.746219  1.366210 -0.072918\n",
       "2013-01-04 -0.170625  0.472639  0.261512  0.828992\n",
       "2013-01-05  0.569475 -0.798349  0.968672 -0.286756\n",
       "2013-01-06  1.468753  0.123569  0.316814  0.107775"
      ]
     },
     "execution_count": 9,
     "metadata": {},
     "output_type": "execute_result"
    }
   ],
   "source": [
    "df = pd.DataFrame(np.random.randn(6,4), index=dates, columns = ['Ann', \"Bob\", \"Charly\", \"Don\"])\n",
    "                  ## columns=list('ABCD'))\n",
    "df"
   ]
  },
  {
   "cell_type": "code",
   "execution_count": 11,
   "metadata": {
    "collapsed": false
   },
   "outputs": [
    {
     "data": {
      "text/plain": [
       "2013-01-01   -2.479195\n",
       "2013-01-02   -0.218620\n",
       "2013-01-03    1.293292\n",
       "2013-01-04    1.090504\n",
       "2013-01-05    0.681916\n",
       "2013-01-06    0.424589\n",
       "Freq: D, dtype: float64"
      ]
     },
     "execution_count": 11,
     "metadata": {},
     "output_type": "execute_result"
    }
   ],
   "source": [
    "df.Charly+df.Don"
   ]
  },
  {
   "cell_type": "code",
   "execution_count": 12,
   "metadata": {
    "collapsed": false
   },
   "outputs": [
    {
     "data": {
      "text/html": [
       "<div>\n",
       "<table border=\"1\" class=\"dataframe\">\n",
       "  <thead>\n",
       "    <tr style=\"text-align: right;\">\n",
       "      <th></th>\n",
       "      <th>A</th>\n",
       "      <th>B</th>\n",
       "      <th>C</th>\n",
       "      <th>D</th>\n",
       "      <th>E</th>\n",
       "      <th>F</th>\n",
       "    </tr>\n",
       "  </thead>\n",
       "  <tbody>\n",
       "    <tr>\n",
       "      <th>0</th>\n",
       "      <td>1.0</td>\n",
       "      <td>2013-01-02</td>\n",
       "      <td>1.0</td>\n",
       "      <td>3</td>\n",
       "      <td>test</td>\n",
       "      <td>foo</td>\n",
       "    </tr>\n",
       "    <tr>\n",
       "      <th>1</th>\n",
       "      <td>1.0</td>\n",
       "      <td>2013-01-02</td>\n",
       "      <td>1.0</td>\n",
       "      <td>3</td>\n",
       "      <td>train</td>\n",
       "      <td>foo</td>\n",
       "    </tr>\n",
       "    <tr>\n",
       "      <th>2</th>\n",
       "      <td>1.0</td>\n",
       "      <td>2013-01-02</td>\n",
       "      <td>1.0</td>\n",
       "      <td>3</td>\n",
       "      <td>test</td>\n",
       "      <td>foo</td>\n",
       "    </tr>\n",
       "    <tr>\n",
       "      <th>3</th>\n",
       "      <td>1.0</td>\n",
       "      <td>2013-01-02</td>\n",
       "      <td>1.0</td>\n",
       "      <td>3</td>\n",
       "      <td>train</td>\n",
       "      <td>foo</td>\n",
       "    </tr>\n",
       "  </tbody>\n",
       "</table>\n",
       "</div>"
      ],
      "text/plain": [
       "     A          B    C  D      E    F\n",
       "0  1.0 2013-01-02  1.0  3   test  foo\n",
       "1  1.0 2013-01-02  1.0  3  train  foo\n",
       "2  1.0 2013-01-02  1.0  3   test  foo\n",
       "3  1.0 2013-01-02  1.0  3  train  foo"
      ]
     },
     "execution_count": 12,
     "metadata": {},
     "output_type": "execute_result"
    }
   ],
   "source": [
    "df2 = pd.DataFrame({ 'A' : 1.,\n",
    "   ....:                      'B' : pd.Timestamp('20130102'),\n",
    "   ....:                      'C' : pd.Series(1,index=list(range(4)),dtype='float32'),\n",
    "   ....:                      'D' : np.array([3] * 4,dtype='int32'),\n",
    "   ....:                      'E' : pd.Categorical([\"test\",\"train\",\"test\",\"train\"]),\n",
    "   ....:                      'F' : 'foo' })\n",
    "   ....: \n",
    "\n",
    "df2"
   ]
  },
  {
   "cell_type": "markdown",
   "metadata": {},
   "source": [
    "Having specific `dtypes`"
   ]
  },
  {
   "cell_type": "code",
   "execution_count": 13,
   "metadata": {
    "collapsed": false
   },
   "outputs": [
    {
     "data": {
      "text/plain": [
       "A           float64\n",
       "B    datetime64[ns]\n",
       "C           float32\n",
       "D             int32\n",
       "E          category\n",
       "F            object\n",
       "dtype: object"
      ]
     },
     "execution_count": 13,
     "metadata": {},
     "output_type": "execute_result"
    }
   ],
   "source": [
    "df2.dtypes"
   ]
  },
  {
   "cell_type": "markdown",
   "metadata": {},
   "source": [
    "If you’re using IPython, tab completion for column names (as well as public attributes) is automatically enabled. Here’s a subset of the attributes that will be completed:\n",
    "<pre>\n",
    "In [13]: df2.&lt;TAB&gt;\n",
    "df2.A                  df2.boxplot\n",
    "df2.abs                df2.C\n",
    "df2.add                df2.clip\n",
    "df2.add_prefix         df2.clip_lower\n",
    "df2.add_suffix         df2.clip_upper\n",
    "df2.align              df2.columns\n",
    "df2.all                df2.combine\n",
    "df2.any                df2.combineAdd\n",
    "df2.append             df2.combine_first\n",
    "df2.apply              df2.combineMult\n",
    "df2.applymap           df2.compound\n",
    "df2.as_blocks          df2.consolidate\n",
    "df2.asfreq             df2.convert_objects\n",
    "df2.as_matrix          df2.copy\n",
    "df2.astype             df2.corr\n",
    "df2.at                 df2.corrwith\n",
    "df2.at_time            df2.count\n",
    "df2.axes               df2.cov\n",
    "df2.B                  df2.cummax\n",
    "df2.between_time       df2.cummin\n",
    "df2.bfill              df2.cumprod\n",
    "df2.blocks             df2.cumsum\n",
    "df2.bool               df2.D\n",
    "</pre>\n",
    "As you can see, the columns A, B, C, and D are automatically tab completed. E is there as well; the rest of the attributes have been truncated for brevity."
   ]
  },
  {
   "cell_type": "markdown",
   "metadata": {},
   "source": [
    "# Viewing Data\n",
    "See the [Basics section](http://pandas.pydata.org/pandas-docs/stable/basics.html#basics)\n",
    "\n",
    "See the top & bottom rows of the frame"
   ]
  },
  {
   "cell_type": "code",
   "execution_count": 14,
   "metadata": {
    "collapsed": false
   },
   "outputs": [
    {
     "data": {
      "text/html": [
       "<div>\n",
       "<table border=\"1\" class=\"dataframe\">\n",
       "  <thead>\n",
       "    <tr style=\"text-align: right;\">\n",
       "      <th></th>\n",
       "      <th>Ann</th>\n",
       "      <th>Bob</th>\n",
       "      <th>Charly</th>\n",
       "      <th>Don</th>\n",
       "    </tr>\n",
       "  </thead>\n",
       "  <tbody>\n",
       "    <tr>\n",
       "      <th>2013-01-01</th>\n",
       "      <td>-0.186518</td>\n",
       "      <td>-0.385830</td>\n",
       "      <td>-1.613007</td>\n",
       "      <td>-0.866188</td>\n",
       "    </tr>\n",
       "    <tr>\n",
       "      <th>2013-01-02</th>\n",
       "      <td>-0.869272</td>\n",
       "      <td>-0.667518</td>\n",
       "      <td>-0.594663</td>\n",
       "      <td>0.376043</td>\n",
       "    </tr>\n",
       "    <tr>\n",
       "      <th>2013-01-03</th>\n",
       "      <td>0.063678</td>\n",
       "      <td>1.746219</td>\n",
       "      <td>1.366210</td>\n",
       "      <td>-0.072918</td>\n",
       "    </tr>\n",
       "    <tr>\n",
       "      <th>2013-01-04</th>\n",
       "      <td>-0.170625</td>\n",
       "      <td>0.472639</td>\n",
       "      <td>0.261512</td>\n",
       "      <td>0.828992</td>\n",
       "    </tr>\n",
       "    <tr>\n",
       "      <th>2013-01-05</th>\n",
       "      <td>0.569475</td>\n",
       "      <td>-0.798349</td>\n",
       "      <td>0.968672</td>\n",
       "      <td>-0.286756</td>\n",
       "    </tr>\n",
       "  </tbody>\n",
       "</table>\n",
       "</div>"
      ],
      "text/plain": [
       "                 Ann       Bob    Charly       Don\n",
       "2013-01-01 -0.186518 -0.385830 -1.613007 -0.866188\n",
       "2013-01-02 -0.869272 -0.667518 -0.594663  0.376043\n",
       "2013-01-03  0.063678  1.746219  1.366210 -0.072918\n",
       "2013-01-04 -0.170625  0.472639  0.261512  0.828992\n",
       "2013-01-05  0.569475 -0.798349  0.968672 -0.286756"
      ]
     },
     "execution_count": 14,
     "metadata": {},
     "output_type": "execute_result"
    }
   ],
   "source": [
    "df.head()"
   ]
  },
  {
   "cell_type": "code",
   "execution_count": 15,
   "metadata": {
    "collapsed": false
   },
   "outputs": [
    {
     "data": {
      "text/html": [
       "<div>\n",
       "<table border=\"1\" class=\"dataframe\">\n",
       "  <thead>\n",
       "    <tr style=\"text-align: right;\">\n",
       "      <th></th>\n",
       "      <th>Ann</th>\n",
       "      <th>Bob</th>\n",
       "      <th>Charly</th>\n",
       "      <th>Don</th>\n",
       "    </tr>\n",
       "  </thead>\n",
       "  <tbody>\n",
       "    <tr>\n",
       "      <th>2013-01-04</th>\n",
       "      <td>-0.170625</td>\n",
       "      <td>0.472639</td>\n",
       "      <td>0.261512</td>\n",
       "      <td>0.828992</td>\n",
       "    </tr>\n",
       "    <tr>\n",
       "      <th>2013-01-05</th>\n",
       "      <td>0.569475</td>\n",
       "      <td>-0.798349</td>\n",
       "      <td>0.968672</td>\n",
       "      <td>-0.286756</td>\n",
       "    </tr>\n",
       "    <tr>\n",
       "      <th>2013-01-06</th>\n",
       "      <td>1.468753</td>\n",
       "      <td>0.123569</td>\n",
       "      <td>0.316814</td>\n",
       "      <td>0.107775</td>\n",
       "    </tr>\n",
       "  </tbody>\n",
       "</table>\n",
       "</div>"
      ],
      "text/plain": [
       "                 Ann       Bob    Charly       Don\n",
       "2013-01-04 -0.170625  0.472639  0.261512  0.828992\n",
       "2013-01-05  0.569475 -0.798349  0.968672 -0.286756\n",
       "2013-01-06  1.468753  0.123569  0.316814  0.107775"
      ]
     },
     "execution_count": 15,
     "metadata": {},
     "output_type": "execute_result"
    }
   ],
   "source": [
    "df.tail(3)"
   ]
  },
  {
   "cell_type": "code",
   "execution_count": 16,
   "metadata": {
    "collapsed": false
   },
   "outputs": [
    {
     "data": {
      "text/plain": [
       "DatetimeIndex(['2013-01-01', '2013-01-02', '2013-01-03', '2013-01-04',\n",
       "               '2013-01-05', '2013-01-06'],\n",
       "              dtype='datetime64[ns]', freq='D')"
      ]
     },
     "execution_count": 16,
     "metadata": {},
     "output_type": "execute_result"
    }
   ],
   "source": [
    "df.index"
   ]
  },
  {
   "cell_type": "code",
   "execution_count": 17,
   "metadata": {
    "collapsed": false
   },
   "outputs": [
    {
     "data": {
      "text/plain": [
       "Index(['Ann', 'Bob', 'Charly', 'Don'], dtype='object')"
      ]
     },
     "execution_count": 17,
     "metadata": {},
     "output_type": "execute_result"
    }
   ],
   "source": [
    "df.columns"
   ]
  },
  {
   "cell_type": "code",
   "execution_count": 18,
   "metadata": {
    "collapsed": false
   },
   "outputs": [
    {
     "data": {
      "text/plain": [
       "array([[-0.18651843, -0.38582988, -1.61300739, -0.86618789],\n",
       "       [-0.86927187, -0.66751844, -0.59466295,  0.37604253],\n",
       "       [ 0.06367836,  1.74621913,  1.36620993, -0.07291836],\n",
       "       [-0.17062511,  0.47263927,  0.26151245,  0.82899167],\n",
       "       [ 0.56947507, -0.79834941,  0.96867161, -0.28675557],\n",
       "       [ 1.46875278,  0.12356911,  0.31681382,  0.10777479]])"
      ]
     },
     "execution_count": 18,
     "metadata": {},
     "output_type": "execute_result"
    }
   ],
   "source": [
    "df.values"
   ]
  },
  {
   "cell_type": "code",
   "execution_count": 19,
   "metadata": {
    "collapsed": false,
    "scrolled": true
   },
   "outputs": [
    {
     "data": {
      "text/html": [
       "<div>\n",
       "<table border=\"1\" class=\"dataframe\">\n",
       "  <thead>\n",
       "    <tr style=\"text-align: right;\">\n",
       "      <th></th>\n",
       "      <th>Ann</th>\n",
       "      <th>Bob</th>\n",
       "      <th>Charly</th>\n",
       "      <th>Don</th>\n",
       "    </tr>\n",
       "  </thead>\n",
       "  <tbody>\n",
       "    <tr>\n",
       "      <th>count</th>\n",
       "      <td>6.000000</td>\n",
       "      <td>6.000000</td>\n",
       "      <td>6.000000</td>\n",
       "      <td>6.000000</td>\n",
       "    </tr>\n",
       "    <tr>\n",
       "      <th>mean</th>\n",
       "      <td>0.145915</td>\n",
       "      <td>0.081788</td>\n",
       "      <td>0.117590</td>\n",
       "      <td>0.014491</td>\n",
       "    </tr>\n",
       "    <tr>\n",
       "      <th>std</th>\n",
       "      <td>0.797167</td>\n",
       "      <td>0.946532</td>\n",
       "      <td>1.081302</td>\n",
       "      <td>0.579106</td>\n",
       "    </tr>\n",
       "    <tr>\n",
       "      <th>min</th>\n",
       "      <td>-0.869272</td>\n",
       "      <td>-0.798349</td>\n",
       "      <td>-1.613007</td>\n",
       "      <td>-0.866188</td>\n",
       "    </tr>\n",
       "    <tr>\n",
       "      <th>25%</th>\n",
       "      <td>-0.182545</td>\n",
       "      <td>-0.597096</td>\n",
       "      <td>-0.380619</td>\n",
       "      <td>-0.233296</td>\n",
       "    </tr>\n",
       "    <tr>\n",
       "      <th>50%</th>\n",
       "      <td>-0.053473</td>\n",
       "      <td>-0.131130</td>\n",
       "      <td>0.289163</td>\n",
       "      <td>0.017428</td>\n",
       "    </tr>\n",
       "    <tr>\n",
       "      <th>75%</th>\n",
       "      <td>0.443026</td>\n",
       "      <td>0.385372</td>\n",
       "      <td>0.805707</td>\n",
       "      <td>0.308976</td>\n",
       "    </tr>\n",
       "    <tr>\n",
       "      <th>max</th>\n",
       "      <td>1.468753</td>\n",
       "      <td>1.746219</td>\n",
       "      <td>1.366210</td>\n",
       "      <td>0.828992</td>\n",
       "    </tr>\n",
       "  </tbody>\n",
       "</table>\n",
       "</div>"
      ],
      "text/plain": [
       "            Ann       Bob    Charly       Don\n",
       "count  6.000000  6.000000  6.000000  6.000000\n",
       "mean   0.145915  0.081788  0.117590  0.014491\n",
       "std    0.797167  0.946532  1.081302  0.579106\n",
       "min   -0.869272 -0.798349 -1.613007 -0.866188\n",
       "25%   -0.182545 -0.597096 -0.380619 -0.233296\n",
       "50%   -0.053473 -0.131130  0.289163  0.017428\n",
       "75%    0.443026  0.385372  0.805707  0.308976\n",
       "max    1.468753  1.746219  1.366210  0.828992"
      ]
     },
     "execution_count": 19,
     "metadata": {},
     "output_type": "execute_result"
    }
   ],
   "source": [
    "df.describe()"
   ]
  },
  {
   "cell_type": "code",
   "execution_count": 21,
   "metadata": {
    "collapsed": false
   },
   "outputs": [
    {
     "data": {
      "text/plain": [
       "Index(['A', 'B', 'C', 'D', 'E', 'F'], dtype='object')"
      ]
     },
     "execution_count": 21,
     "metadata": {},
     "output_type": "execute_result"
    }
   ],
   "source": [
    "df2.columns"
   ]
  },
  {
   "cell_type": "code",
   "execution_count": 22,
   "metadata": {
    "collapsed": false
   },
   "outputs": [
    {
     "data": {
      "text/plain": [
       "A           float64\n",
       "B    datetime64[ns]\n",
       "C           float32\n",
       "D             int32\n",
       "E          category\n",
       "F            object\n",
       "dtype: object"
      ]
     },
     "execution_count": 22,
     "metadata": {},
     "output_type": "execute_result"
    }
   ],
   "source": [
    "df2.dtypes"
   ]
  },
  {
   "cell_type": "code",
   "execution_count": 20,
   "metadata": {
    "collapsed": false
   },
   "outputs": [
    {
     "data": {
      "text/html": [
       "<div>\n",
       "<table border=\"1\" class=\"dataframe\">\n",
       "  <thead>\n",
       "    <tr style=\"text-align: right;\">\n",
       "      <th></th>\n",
       "      <th>A</th>\n",
       "      <th>C</th>\n",
       "      <th>D</th>\n",
       "    </tr>\n",
       "  </thead>\n",
       "  <tbody>\n",
       "    <tr>\n",
       "      <th>count</th>\n",
       "      <td>4.0</td>\n",
       "      <td>4.0</td>\n",
       "      <td>4.0</td>\n",
       "    </tr>\n",
       "    <tr>\n",
       "      <th>mean</th>\n",
       "      <td>1.0</td>\n",
       "      <td>1.0</td>\n",
       "      <td>3.0</td>\n",
       "    </tr>\n",
       "    <tr>\n",
       "      <th>std</th>\n",
       "      <td>0.0</td>\n",
       "      <td>0.0</td>\n",
       "      <td>0.0</td>\n",
       "    </tr>\n",
       "    <tr>\n",
       "      <th>min</th>\n",
       "      <td>1.0</td>\n",
       "      <td>1.0</td>\n",
       "      <td>3.0</td>\n",
       "    </tr>\n",
       "    <tr>\n",
       "      <th>25%</th>\n",
       "      <td>1.0</td>\n",
       "      <td>1.0</td>\n",
       "      <td>3.0</td>\n",
       "    </tr>\n",
       "    <tr>\n",
       "      <th>50%</th>\n",
       "      <td>1.0</td>\n",
       "      <td>1.0</td>\n",
       "      <td>3.0</td>\n",
       "    </tr>\n",
       "    <tr>\n",
       "      <th>75%</th>\n",
       "      <td>1.0</td>\n",
       "      <td>1.0</td>\n",
       "      <td>3.0</td>\n",
       "    </tr>\n",
       "    <tr>\n",
       "      <th>max</th>\n",
       "      <td>1.0</td>\n",
       "      <td>1.0</td>\n",
       "      <td>3.0</td>\n",
       "    </tr>\n",
       "  </tbody>\n",
       "</table>\n",
       "</div>"
      ],
      "text/plain": [
       "         A    C    D\n",
       "count  4.0  4.0  4.0\n",
       "mean   1.0  1.0  3.0\n",
       "std    0.0  0.0  0.0\n",
       "min    1.0  1.0  3.0\n",
       "25%    1.0  1.0  3.0\n",
       "50%    1.0  1.0  3.0\n",
       "75%    1.0  1.0  3.0\n",
       "max    1.0  1.0  3.0"
      ]
     },
     "execution_count": 20,
     "metadata": {},
     "output_type": "execute_result"
    }
   ],
   "source": [
    "df2.describe()"
   ]
  },
  {
   "cell_type": "markdown",
   "metadata": {},
   "source": [
    "Transposing your data"
   ]
  },
  {
   "cell_type": "code",
   "execution_count": 23,
   "metadata": {
    "collapsed": false
   },
   "outputs": [
    {
     "data": {
      "text/html": [
       "<div>\n",
       "<table border=\"1\" class=\"dataframe\">\n",
       "  <thead>\n",
       "    <tr style=\"text-align: right;\">\n",
       "      <th></th>\n",
       "      <th>2013-01-01 00:00:00</th>\n",
       "      <th>2013-01-02 00:00:00</th>\n",
       "      <th>2013-01-03 00:00:00</th>\n",
       "      <th>2013-01-04 00:00:00</th>\n",
       "      <th>2013-01-05 00:00:00</th>\n",
       "      <th>2013-01-06 00:00:00</th>\n",
       "    </tr>\n",
       "  </thead>\n",
       "  <tbody>\n",
       "    <tr>\n",
       "      <th>Ann</th>\n",
       "      <td>-0.186518</td>\n",
       "      <td>-0.869272</td>\n",
       "      <td>0.063678</td>\n",
       "      <td>-0.170625</td>\n",
       "      <td>0.569475</td>\n",
       "      <td>1.468753</td>\n",
       "    </tr>\n",
       "    <tr>\n",
       "      <th>Bob</th>\n",
       "      <td>-0.385830</td>\n",
       "      <td>-0.667518</td>\n",
       "      <td>1.746219</td>\n",
       "      <td>0.472639</td>\n",
       "      <td>-0.798349</td>\n",
       "      <td>0.123569</td>\n",
       "    </tr>\n",
       "    <tr>\n",
       "      <th>Charly</th>\n",
       "      <td>-1.613007</td>\n",
       "      <td>-0.594663</td>\n",
       "      <td>1.366210</td>\n",
       "      <td>0.261512</td>\n",
       "      <td>0.968672</td>\n",
       "      <td>0.316814</td>\n",
       "    </tr>\n",
       "    <tr>\n",
       "      <th>Don</th>\n",
       "      <td>-0.866188</td>\n",
       "      <td>0.376043</td>\n",
       "      <td>-0.072918</td>\n",
       "      <td>0.828992</td>\n",
       "      <td>-0.286756</td>\n",
       "      <td>0.107775</td>\n",
       "    </tr>\n",
       "  </tbody>\n",
       "</table>\n",
       "</div>"
      ],
      "text/plain": [
       "        2013-01-01  2013-01-02  2013-01-03  2013-01-04  2013-01-05  2013-01-06\n",
       "Ann      -0.186518   -0.869272    0.063678   -0.170625    0.569475    1.468753\n",
       "Bob      -0.385830   -0.667518    1.746219    0.472639   -0.798349    0.123569\n",
       "Charly   -1.613007   -0.594663    1.366210    0.261512    0.968672    0.316814\n",
       "Don      -0.866188    0.376043   -0.072918    0.828992   -0.286756    0.107775"
      ]
     },
     "execution_count": 23,
     "metadata": {},
     "output_type": "execute_result"
    }
   ],
   "source": [
    "df.T"
   ]
  },
  {
   "cell_type": "markdown",
   "metadata": {},
   "source": [
    "Sorting by an axis"
   ]
  },
  {
   "cell_type": "code",
   "execution_count": 24,
   "metadata": {
    "collapsed": false
   },
   "outputs": [
    {
     "data": {
      "text/html": [
       "<div>\n",
       "<table border=\"1\" class=\"dataframe\">\n",
       "  <thead>\n",
       "    <tr style=\"text-align: right;\">\n",
       "      <th></th>\n",
       "      <th>Don</th>\n",
       "      <th>Charly</th>\n",
       "      <th>Bob</th>\n",
       "      <th>Ann</th>\n",
       "    </tr>\n",
       "  </thead>\n",
       "  <tbody>\n",
       "    <tr>\n",
       "      <th>2013-01-01</th>\n",
       "      <td>-0.866188</td>\n",
       "      <td>-1.613007</td>\n",
       "      <td>-0.385830</td>\n",
       "      <td>-0.186518</td>\n",
       "    </tr>\n",
       "    <tr>\n",
       "      <th>2013-01-02</th>\n",
       "      <td>0.376043</td>\n",
       "      <td>-0.594663</td>\n",
       "      <td>-0.667518</td>\n",
       "      <td>-0.869272</td>\n",
       "    </tr>\n",
       "    <tr>\n",
       "      <th>2013-01-03</th>\n",
       "      <td>-0.072918</td>\n",
       "      <td>1.366210</td>\n",
       "      <td>1.746219</td>\n",
       "      <td>0.063678</td>\n",
       "    </tr>\n",
       "    <tr>\n",
       "      <th>2013-01-04</th>\n",
       "      <td>0.828992</td>\n",
       "      <td>0.261512</td>\n",
       "      <td>0.472639</td>\n",
       "      <td>-0.170625</td>\n",
       "    </tr>\n",
       "    <tr>\n",
       "      <th>2013-01-05</th>\n",
       "      <td>-0.286756</td>\n",
       "      <td>0.968672</td>\n",
       "      <td>-0.798349</td>\n",
       "      <td>0.569475</td>\n",
       "    </tr>\n",
       "    <tr>\n",
       "      <th>2013-01-06</th>\n",
       "      <td>0.107775</td>\n",
       "      <td>0.316814</td>\n",
       "      <td>0.123569</td>\n",
       "      <td>1.468753</td>\n",
       "    </tr>\n",
       "  </tbody>\n",
       "</table>\n",
       "</div>"
      ],
      "text/plain": [
       "                 Don    Charly       Bob       Ann\n",
       "2013-01-01 -0.866188 -1.613007 -0.385830 -0.186518\n",
       "2013-01-02  0.376043 -0.594663 -0.667518 -0.869272\n",
       "2013-01-03 -0.072918  1.366210  1.746219  0.063678\n",
       "2013-01-04  0.828992  0.261512  0.472639 -0.170625\n",
       "2013-01-05 -0.286756  0.968672 -0.798349  0.569475\n",
       "2013-01-06  0.107775  0.316814  0.123569  1.468753"
      ]
     },
     "execution_count": 24,
     "metadata": {},
     "output_type": "execute_result"
    }
   ],
   "source": [
    "df.sort_index(axis=1, ascending=False)"
   ]
  },
  {
   "cell_type": "markdown",
   "metadata": {},
   "source": [
    "Sorting by values"
   ]
  },
  {
   "cell_type": "code",
   "execution_count": 26,
   "metadata": {
    "collapsed": false
   },
   "outputs": [
    {
     "data": {
      "text/html": [
       "<div>\n",
       "<table border=\"1\" class=\"dataframe\">\n",
       "  <thead>\n",
       "    <tr style=\"text-align: right;\">\n",
       "      <th></th>\n",
       "      <th>Ann</th>\n",
       "      <th>Bob</th>\n",
       "      <th>Charly</th>\n",
       "      <th>Don</th>\n",
       "    </tr>\n",
       "  </thead>\n",
       "  <tbody>\n",
       "    <tr>\n",
       "      <th>2013-01-05</th>\n",
       "      <td>0.569475</td>\n",
       "      <td>-0.798349</td>\n",
       "      <td>0.968672</td>\n",
       "      <td>-0.286756</td>\n",
       "    </tr>\n",
       "    <tr>\n",
       "      <th>2013-01-02</th>\n",
       "      <td>-0.869272</td>\n",
       "      <td>-0.667518</td>\n",
       "      <td>-0.594663</td>\n",
       "      <td>0.376043</td>\n",
       "    </tr>\n",
       "    <tr>\n",
       "      <th>2013-01-01</th>\n",
       "      <td>-0.186518</td>\n",
       "      <td>-0.385830</td>\n",
       "      <td>-1.613007</td>\n",
       "      <td>-0.866188</td>\n",
       "    </tr>\n",
       "    <tr>\n",
       "      <th>2013-01-06</th>\n",
       "      <td>1.468753</td>\n",
       "      <td>0.123569</td>\n",
       "      <td>0.316814</td>\n",
       "      <td>0.107775</td>\n",
       "    </tr>\n",
       "    <tr>\n",
       "      <th>2013-01-04</th>\n",
       "      <td>-0.170625</td>\n",
       "      <td>0.472639</td>\n",
       "      <td>0.261512</td>\n",
       "      <td>0.828992</td>\n",
       "    </tr>\n",
       "    <tr>\n",
       "      <th>2013-01-03</th>\n",
       "      <td>0.063678</td>\n",
       "      <td>1.746219</td>\n",
       "      <td>1.366210</td>\n",
       "      <td>-0.072918</td>\n",
       "    </tr>\n",
       "  </tbody>\n",
       "</table>\n",
       "</div>"
      ],
      "text/plain": [
       "                 Ann       Bob    Charly       Don\n",
       "2013-01-05  0.569475 -0.798349  0.968672 -0.286756\n",
       "2013-01-02 -0.869272 -0.667518 -0.594663  0.376043\n",
       "2013-01-01 -0.186518 -0.385830 -1.613007 -0.866188\n",
       "2013-01-06  1.468753  0.123569  0.316814  0.107775\n",
       "2013-01-04 -0.170625  0.472639  0.261512  0.828992\n",
       "2013-01-03  0.063678  1.746219  1.366210 -0.072918"
      ]
     },
     "execution_count": 26,
     "metadata": {},
     "output_type": "execute_result"
    }
   ],
   "source": [
    "df.sort_values(by='Bob', ascending=True)"
   ]
  },
  {
   "cell_type": "markdown",
   "metadata": {},
   "source": [
    "# Selection\n",
    "***Note:*** While standard Python / Numpy expressions for selecting and setting are intuitive and come in handy for interactive work, for production code, we recommend the optimized pandas data access methods, `.at`, .`iat`, `.loc`, `.iloc` and `.ix`.\n",
    "\n",
    "See the indexing documentation [Indexing and Selecting Data](http://pandas.pydata.org/pandas-docs/stable/indexing.html#indexing) and [MultiIndex / Advanced Indexing](http://pandas.pydata.org/pandas-docs/stable/advanced.html#advanced)\n",
    "\n",
    "## Getting\n",
    "\n",
    "Selecting a single column, which yields a `Series`, equivalent to `df.A`"
   ]
  },
  {
   "cell_type": "code",
   "execution_count": 28,
   "metadata": {
    "collapsed": false
   },
   "outputs": [
    {
     "data": {
      "text/plain": [
       "2013-01-01   -0.186518\n",
       "2013-01-02   -0.869272\n",
       "2013-01-03    0.063678\n",
       "2013-01-04   -0.170625\n",
       "2013-01-05    0.569475\n",
       "2013-01-06    1.468753\n",
       "Freq: D, Name: Ann, dtype: float64"
      ]
     },
     "execution_count": 28,
     "metadata": {},
     "output_type": "execute_result"
    }
   ],
   "source": [
    "df['Ann']"
   ]
  },
  {
   "cell_type": "markdown",
   "metadata": {},
   "source": [
    "Selecting via [], which slices the rows."
   ]
  },
  {
   "cell_type": "code",
   "execution_count": 30,
   "metadata": {
    "collapsed": false
   },
   "outputs": [
    {
     "data": {
      "text/html": [
       "<div>\n",
       "<table border=\"1\" class=\"dataframe\">\n",
       "  <thead>\n",
       "    <tr style=\"text-align: right;\">\n",
       "      <th></th>\n",
       "      <th>Ann</th>\n",
       "      <th>Bob</th>\n",
       "      <th>Charly</th>\n",
       "      <th>Don</th>\n",
       "    </tr>\n",
       "  </thead>\n",
       "  <tbody>\n",
       "    <tr>\n",
       "      <th>2013-01-02</th>\n",
       "      <td>-0.869272</td>\n",
       "      <td>-0.667518</td>\n",
       "      <td>-0.594663</td>\n",
       "      <td>0.376043</td>\n",
       "    </tr>\n",
       "    <tr>\n",
       "      <th>2013-01-03</th>\n",
       "      <td>0.063678</td>\n",
       "      <td>1.746219</td>\n",
       "      <td>1.366210</td>\n",
       "      <td>-0.072918</td>\n",
       "    </tr>\n",
       "  </tbody>\n",
       "</table>\n",
       "</div>"
      ],
      "text/plain": [
       "                 Ann       Bob    Charly       Don\n",
       "2013-01-02 -0.869272 -0.667518 -0.594663  0.376043\n",
       "2013-01-03  0.063678  1.746219  1.366210 -0.072918"
      ]
     },
     "execution_count": 30,
     "metadata": {},
     "output_type": "execute_result"
    }
   ],
   "source": [
    "df[1:3]"
   ]
  },
  {
   "cell_type": "code",
   "execution_count": 31,
   "metadata": {
    "collapsed": false
   },
   "outputs": [
    {
     "data": {
      "text/html": [
       "<div>\n",
       "<table border=\"1\" class=\"dataframe\">\n",
       "  <thead>\n",
       "    <tr style=\"text-align: right;\">\n",
       "      <th></th>\n",
       "      <th>Ann</th>\n",
       "      <th>Bob</th>\n",
       "      <th>Charly</th>\n",
       "      <th>Don</th>\n",
       "    </tr>\n",
       "  </thead>\n",
       "  <tbody>\n",
       "    <tr>\n",
       "      <th>2013-01-02</th>\n",
       "      <td>-0.869272</td>\n",
       "      <td>-0.667518</td>\n",
       "      <td>-0.594663</td>\n",
       "      <td>0.376043</td>\n",
       "    </tr>\n",
       "    <tr>\n",
       "      <th>2013-01-03</th>\n",
       "      <td>0.063678</td>\n",
       "      <td>1.746219</td>\n",
       "      <td>1.366210</td>\n",
       "      <td>-0.072918</td>\n",
       "    </tr>\n",
       "    <tr>\n",
       "      <th>2013-01-04</th>\n",
       "      <td>-0.170625</td>\n",
       "      <td>0.472639</td>\n",
       "      <td>0.261512</td>\n",
       "      <td>0.828992</td>\n",
       "    </tr>\n",
       "  </tbody>\n",
       "</table>\n",
       "</div>"
      ],
      "text/plain": [
       "                 Ann       Bob    Charly       Don\n",
       "2013-01-02 -0.869272 -0.667518 -0.594663  0.376043\n",
       "2013-01-03  0.063678  1.746219  1.366210 -0.072918\n",
       "2013-01-04 -0.170625  0.472639  0.261512  0.828992"
      ]
     },
     "execution_count": 31,
     "metadata": {},
     "output_type": "execute_result"
    }
   ],
   "source": [
    "df['20130102':'20130104']"
   ]
  },
  {
   "cell_type": "markdown",
   "metadata": {},
   "source": [
    "## Selection by Label\n",
    "\n",
    "See more in [Selection by Label](http://pandas.pydata.org/pandas-docs/stable/indexing.html#indexing-label)\n",
    "\n",
    "For getting a cross section using a label"
   ]
  },
  {
   "cell_type": "code",
   "execution_count": 32,
   "metadata": {
    "collapsed": false
   },
   "outputs": [
    {
     "data": {
      "text/plain": [
       "Timestamp('2013-01-01 00:00:00', offset='D')"
      ]
     },
     "execution_count": 32,
     "metadata": {},
     "output_type": "execute_result"
    }
   ],
   "source": [
    "dates[0]"
   ]
  },
  {
   "cell_type": "code",
   "execution_count": null,
   "metadata": {
    "collapsed": false
   },
   "outputs": [],
   "source": [
    "df.loc[dates[0]]"
   ]
  },
  {
   "cell_type": "markdown",
   "metadata": {},
   "source": [
    "Selecting on a multi-axis by label"
   ]
  },
  {
   "cell_type": "code",
   "execution_count": 34,
   "metadata": {
    "collapsed": false
   },
   "outputs": [
    {
     "data": {
      "text/html": [
       "<div>\n",
       "<table border=\"1\" class=\"dataframe\">\n",
       "  <thead>\n",
       "    <tr style=\"text-align: right;\">\n",
       "      <th></th>\n",
       "      <th>Ann</th>\n",
       "      <th>Bob</th>\n",
       "    </tr>\n",
       "  </thead>\n",
       "  <tbody>\n",
       "    <tr>\n",
       "      <th>2013-01-01</th>\n",
       "      <td>-0.186518</td>\n",
       "      <td>-0.385830</td>\n",
       "    </tr>\n",
       "    <tr>\n",
       "      <th>2013-01-02</th>\n",
       "      <td>-0.869272</td>\n",
       "      <td>-0.667518</td>\n",
       "    </tr>\n",
       "    <tr>\n",
       "      <th>2013-01-03</th>\n",
       "      <td>0.063678</td>\n",
       "      <td>1.746219</td>\n",
       "    </tr>\n",
       "    <tr>\n",
       "      <th>2013-01-04</th>\n",
       "      <td>-0.170625</td>\n",
       "      <td>0.472639</td>\n",
       "    </tr>\n",
       "    <tr>\n",
       "      <th>2013-01-05</th>\n",
       "      <td>0.569475</td>\n",
       "      <td>-0.798349</td>\n",
       "    </tr>\n",
       "    <tr>\n",
       "      <th>2013-01-06</th>\n",
       "      <td>1.468753</td>\n",
       "      <td>0.123569</td>\n",
       "    </tr>\n",
       "  </tbody>\n",
       "</table>\n",
       "</div>"
      ],
      "text/plain": [
       "                 Ann       Bob\n",
       "2013-01-01 -0.186518 -0.385830\n",
       "2013-01-02 -0.869272 -0.667518\n",
       "2013-01-03  0.063678  1.746219\n",
       "2013-01-04 -0.170625  0.472639\n",
       "2013-01-05  0.569475 -0.798349\n",
       "2013-01-06  1.468753  0.123569"
      ]
     },
     "execution_count": 34,
     "metadata": {},
     "output_type": "execute_result"
    }
   ],
   "source": [
    "df.loc[:,['Ann','Bob']]"
   ]
  },
  {
   "cell_type": "markdown",
   "metadata": {},
   "source": [
    "Showing label slicing, both endpoints are *included*"
   ]
  },
  {
   "cell_type": "code",
   "execution_count": null,
   "metadata": {
    "collapsed": false
   },
   "outputs": [],
   "source": [
    "df.loc['20130102':'20130104',['A','B']]"
   ]
  },
  {
   "cell_type": "markdown",
   "metadata": {},
   "source": [
    "Reduction in the dimensions of the returned object"
   ]
  },
  {
   "cell_type": "code",
   "execution_count": null,
   "metadata": {
    "collapsed": false
   },
   "outputs": [],
   "source": [
    "df.loc['20130102',['A','B']]"
   ]
  },
  {
   "cell_type": "markdown",
   "metadata": {},
   "source": [
    "For getting a scalar value"
   ]
  },
  {
   "cell_type": "code",
   "execution_count": null,
   "metadata": {
    "collapsed": false
   },
   "outputs": [],
   "source": [
    "df.loc[dates[0],'A']"
   ]
  },
  {
   "cell_type": "markdown",
   "metadata": {},
   "source": [
    "For getting fast access to a scalar (equiv to the prior method)"
   ]
  },
  {
   "cell_type": "code",
   "execution_count": null,
   "metadata": {
    "collapsed": false
   },
   "outputs": [],
   "source": [
    "df.at[dates[0],'A']"
   ]
  },
  {
   "cell_type": "markdown",
   "metadata": {},
   "source": [
    "## Selection by Position\n",
    "\n",
    "See more in [Selection by Position](http://pandas.pydata.org/pandas-docs/stable/indexing.html#indexing-integer)\n",
    "\n",
    "Select via the position of the passed integers"
   ]
  },
  {
   "cell_type": "code",
   "execution_count": null,
   "metadata": {
    "collapsed": false
   },
   "outputs": [],
   "source": [
    "df.iloc[3]"
   ]
  },
  {
   "cell_type": "markdown",
   "metadata": {},
   "source": [
    "By integer slices, acting similar to numpy/python"
   ]
  },
  {
   "cell_type": "code",
   "execution_count": null,
   "metadata": {
    "collapsed": false
   },
   "outputs": [],
   "source": [
    "df.iloc[3:5,0:2]"
   ]
  },
  {
   "cell_type": "markdown",
   "metadata": {},
   "source": [
    "By lists of integer position locations, similar to the numpy/python style"
   ]
  },
  {
   "cell_type": "code",
   "execution_count": null,
   "metadata": {
    "collapsed": false
   },
   "outputs": [],
   "source": [
    "df.iloc[[1,2,4],[0,2]]"
   ]
  },
  {
   "cell_type": "markdown",
   "metadata": {},
   "source": [
    "For slicing rows explicitly"
   ]
  },
  {
   "cell_type": "code",
   "execution_count": 35,
   "metadata": {
    "collapsed": false
   },
   "outputs": [
    {
     "data": {
      "text/html": [
       "<div>\n",
       "<table border=\"1\" class=\"dataframe\">\n",
       "  <thead>\n",
       "    <tr style=\"text-align: right;\">\n",
       "      <th></th>\n",
       "      <th>Ann</th>\n",
       "      <th>Bob</th>\n",
       "      <th>Charly</th>\n",
       "      <th>Don</th>\n",
       "    </tr>\n",
       "  </thead>\n",
       "  <tbody>\n",
       "    <tr>\n",
       "      <th>2013-01-02</th>\n",
       "      <td>-0.869272</td>\n",
       "      <td>-0.667518</td>\n",
       "      <td>-0.594663</td>\n",
       "      <td>0.376043</td>\n",
       "    </tr>\n",
       "    <tr>\n",
       "      <th>2013-01-03</th>\n",
       "      <td>0.063678</td>\n",
       "      <td>1.746219</td>\n",
       "      <td>1.366210</td>\n",
       "      <td>-0.072918</td>\n",
       "    </tr>\n",
       "  </tbody>\n",
       "</table>\n",
       "</div>"
      ],
      "text/plain": [
       "                 Ann       Bob    Charly       Don\n",
       "2013-01-02 -0.869272 -0.667518 -0.594663  0.376043\n",
       "2013-01-03  0.063678  1.746219  1.366210 -0.072918"
      ]
     },
     "execution_count": 35,
     "metadata": {},
     "output_type": "execute_result"
    }
   ],
   "source": [
    "df.iloc[1:3,:]"
   ]
  },
  {
   "cell_type": "markdown",
   "metadata": {},
   "source": [
    "For slicing columns explicitly"
   ]
  },
  {
   "cell_type": "code",
   "execution_count": null,
   "metadata": {
    "collapsed": false
   },
   "outputs": [],
   "source": [
    "df.iloc[:,1:3]"
   ]
  },
  {
   "cell_type": "markdown",
   "metadata": {},
   "source": [
    "For getting a value explicitly"
   ]
  },
  {
   "cell_type": "code",
   "execution_count": null,
   "metadata": {
    "collapsed": true
   },
   "outputs": [],
   "source": [
    "In [37]: df.iloc[1,1]\n",
    "Out[37]: -0.17321464905330858\n",
    "For getting fast access to a scalar (equiv to the prior method)\n",
    "\n",
    "In [38]: df.iat[1,1]\n",
    "Out[38]: -0.17321464905330858"
   ]
  },
  {
   "cell_type": "markdown",
   "metadata": {},
   "source": [
    "## Boolean Indexing\n",
    "\n",
    "Using a single column’s values to select data."
   ]
  },
  {
   "cell_type": "code",
   "execution_count": 43,
   "metadata": {
    "collapsed": false
   },
   "outputs": [],
   "source": [
    "flt = (df.Ann >= 0.5) & (df.Ann < 1.5) "
   ]
  },
  {
   "cell_type": "code",
   "execution_count": 49,
   "metadata": {
    "collapsed": false
   },
   "outputs": [
    {
     "data": {
      "text/html": [
       "<div>\n",
       "<table border=\"1\" class=\"dataframe\">\n",
       "  <thead>\n",
       "    <tr style=\"text-align: right;\">\n",
       "      <th></th>\n",
       "      <th>Ann</th>\n",
       "      <th>Bob</th>\n",
       "      <th>Charly</th>\n",
       "      <th>Don</th>\n",
       "    </tr>\n",
       "  </thead>\n",
       "  <tbody>\n",
       "    <tr>\n",
       "      <th>2013-01-05</th>\n",
       "      <td>0.569475</td>\n",
       "      <td>-0.798349</td>\n",
       "      <td>0.968672</td>\n",
       "      <td>-0.286756</td>\n",
       "    </tr>\n",
       "    <tr>\n",
       "      <th>2013-01-06</th>\n",
       "      <td>1.468753</td>\n",
       "      <td>0.123569</td>\n",
       "      <td>0.316814</td>\n",
       "      <td>0.107775</td>\n",
       "    </tr>\n",
       "  </tbody>\n",
       "</table>\n",
       "</div>"
      ],
      "text/plain": [
       "                 Ann       Bob    Charly       Don\n",
       "2013-01-05  0.569475 -0.798349  0.968672 -0.286756\n",
       "2013-01-06  1.468753  0.123569  0.316814  0.107775"
      ]
     },
     "execution_count": 49,
     "metadata": {},
     "output_type": "execute_result"
    }
   ],
   "source": [
    "df[flt]"
   ]
  },
  {
   "cell_type": "code",
   "execution_count": 47,
   "metadata": {
    "collapsed": false
   },
   "outputs": [
    {
     "data": {
      "text/html": [
       "<div>\n",
       "<table border=\"1\" class=\"dataframe\">\n",
       "  <thead>\n",
       "    <tr style=\"text-align: right;\">\n",
       "      <th></th>\n",
       "      <th>Ann</th>\n",
       "      <th>Bob</th>\n",
       "      <th>Charly</th>\n",
       "      <th>Don</th>\n",
       "    </tr>\n",
       "  </thead>\n",
       "  <tbody>\n",
       "    <tr>\n",
       "      <th>2013-01-05</th>\n",
       "      <td>0.569475</td>\n",
       "      <td>-0.798349</td>\n",
       "      <td>0.968672</td>\n",
       "      <td>-0.286756</td>\n",
       "    </tr>\n",
       "    <tr>\n",
       "      <th>2013-01-06</th>\n",
       "      <td>1.468753</td>\n",
       "      <td>0.123569</td>\n",
       "      <td>0.316814</td>\n",
       "      <td>0.107775</td>\n",
       "    </tr>\n",
       "  </tbody>\n",
       "</table>\n",
       "</div>"
      ],
      "text/plain": [
       "                 Ann       Bob    Charly       Don\n",
       "2013-01-05  0.569475 -0.798349  0.968672 -0.286756\n",
       "2013-01-06  1.468753  0.123569  0.316814  0.107775"
      ]
     },
     "execution_count": 47,
     "metadata": {},
     "output_type": "execute_result"
    }
   ],
   "source": [
    "In [39]: df[(df.Ann >= 0.5) & (df.Ann < 1.5)]"
   ]
  },
  {
   "cell_type": "markdown",
   "metadata": {},
   "source": [
    "A `where` operation for getting."
   ]
  },
  {
   "cell_type": "code",
   "execution_count": null,
   "metadata": {
    "collapsed": false
   },
   "outputs": [],
   "source": [
    "df[df > 0]"
   ]
  },
  {
   "cell_type": "markdown",
   "metadata": {},
   "source": [
    "Using the `isin()` method for filtering:"
   ]
  },
  {
   "cell_type": "code",
   "execution_count": 50,
   "metadata": {
    "collapsed": false
   },
   "outputs": [
    {
     "data": {
      "text/html": [
       "<div>\n",
       "<table border=\"1\" class=\"dataframe\">\n",
       "  <thead>\n",
       "    <tr style=\"text-align: right;\">\n",
       "      <th></th>\n",
       "      <th>Ann</th>\n",
       "      <th>Bob</th>\n",
       "      <th>Charly</th>\n",
       "      <th>Don</th>\n",
       "      <th>E</th>\n",
       "    </tr>\n",
       "  </thead>\n",
       "  <tbody>\n",
       "    <tr>\n",
       "      <th>2013-01-01</th>\n",
       "      <td>-0.186518</td>\n",
       "      <td>-0.385830</td>\n",
       "      <td>-1.613007</td>\n",
       "      <td>-0.866188</td>\n",
       "      <td>one</td>\n",
       "    </tr>\n",
       "    <tr>\n",
       "      <th>2013-01-02</th>\n",
       "      <td>-0.869272</td>\n",
       "      <td>-0.667518</td>\n",
       "      <td>-0.594663</td>\n",
       "      <td>0.376043</td>\n",
       "      <td>one</td>\n",
       "    </tr>\n",
       "    <tr>\n",
       "      <th>2013-01-03</th>\n",
       "      <td>0.063678</td>\n",
       "      <td>1.746219</td>\n",
       "      <td>1.366210</td>\n",
       "      <td>-0.072918</td>\n",
       "      <td>two</td>\n",
       "    </tr>\n",
       "    <tr>\n",
       "      <th>2013-01-04</th>\n",
       "      <td>-0.170625</td>\n",
       "      <td>0.472639</td>\n",
       "      <td>0.261512</td>\n",
       "      <td>0.828992</td>\n",
       "      <td>three</td>\n",
       "    </tr>\n",
       "    <tr>\n",
       "      <th>2013-01-05</th>\n",
       "      <td>0.569475</td>\n",
       "      <td>-0.798349</td>\n",
       "      <td>0.968672</td>\n",
       "      <td>-0.286756</td>\n",
       "      <td>four</td>\n",
       "    </tr>\n",
       "    <tr>\n",
       "      <th>2013-01-06</th>\n",
       "      <td>1.468753</td>\n",
       "      <td>0.123569</td>\n",
       "      <td>0.316814</td>\n",
       "      <td>0.107775</td>\n",
       "      <td>three</td>\n",
       "    </tr>\n",
       "  </tbody>\n",
       "</table>\n",
       "</div>"
      ],
      "text/plain": [
       "                 Ann       Bob    Charly       Don      E\n",
       "2013-01-01 -0.186518 -0.385830 -1.613007 -0.866188    one\n",
       "2013-01-02 -0.869272 -0.667518 -0.594663  0.376043    one\n",
       "2013-01-03  0.063678  1.746219  1.366210 -0.072918    two\n",
       "2013-01-04 -0.170625  0.472639  0.261512  0.828992  three\n",
       "2013-01-05  0.569475 -0.798349  0.968672 -0.286756   four\n",
       "2013-01-06  1.468753  0.123569  0.316814  0.107775  three"
      ]
     },
     "execution_count": 50,
     "metadata": {},
     "output_type": "execute_result"
    }
   ],
   "source": [
    "df2 = df.copy()\n",
    "df2['E'] = ['one', 'one','two','three','four','three']\n",
    "df2"
   ]
  },
  {
   "cell_type": "code",
   "execution_count": 51,
   "metadata": {
    "collapsed": false
   },
   "outputs": [
    {
     "data": {
      "text/html": [
       "<div>\n",
       "<table border=\"1\" class=\"dataframe\">\n",
       "  <thead>\n",
       "    <tr style=\"text-align: right;\">\n",
       "      <th></th>\n",
       "      <th>Ann</th>\n",
       "      <th>Bob</th>\n",
       "      <th>Charly</th>\n",
       "      <th>Don</th>\n",
       "      <th>E</th>\n",
       "    </tr>\n",
       "  </thead>\n",
       "  <tbody>\n",
       "    <tr>\n",
       "      <th>2013-01-03</th>\n",
       "      <td>0.063678</td>\n",
       "      <td>1.746219</td>\n",
       "      <td>1.366210</td>\n",
       "      <td>-0.072918</td>\n",
       "      <td>two</td>\n",
       "    </tr>\n",
       "    <tr>\n",
       "      <th>2013-01-05</th>\n",
       "      <td>0.569475</td>\n",
       "      <td>-0.798349</td>\n",
       "      <td>0.968672</td>\n",
       "      <td>-0.286756</td>\n",
       "      <td>four</td>\n",
       "    </tr>\n",
       "  </tbody>\n",
       "</table>\n",
       "</div>"
      ],
      "text/plain": [
       "                 Ann       Bob    Charly       Don     E\n",
       "2013-01-03  0.063678  1.746219  1.366210 -0.072918   two\n",
       "2013-01-05  0.569475 -0.798349  0.968672 -0.286756  four"
      ]
     },
     "execution_count": 51,
     "metadata": {},
     "output_type": "execute_result"
    }
   ],
   "source": [
    "df2[df2['E'].isin(['two','four'])]"
   ]
  },
  {
   "cell_type": "markdown",
   "metadata": {},
   "source": [
    "## Setting\n",
    "\n",
    "Setting a new column automatically aligns the data by the indexes"
   ]
  },
  {
   "cell_type": "code",
   "execution_count": 52,
   "metadata": {
    "collapsed": false
   },
   "outputs": [
    {
     "data": {
      "text/plain": [
       "2013-01-02    1\n",
       "2013-01-03    2\n",
       "2013-01-04    3\n",
       "2013-01-05    4\n",
       "2013-01-06    5\n",
       "2013-01-07    6\n",
       "Freq: D, dtype: int64"
      ]
     },
     "execution_count": 52,
     "metadata": {},
     "output_type": "execute_result"
    }
   ],
   "source": [
    "s1 = pd.Series([1,2,3,4,5,6], index=pd.date_range('20130102', periods=6))\n",
    "s1"
   ]
  },
  {
   "cell_type": "code",
   "execution_count": 54,
   "metadata": {
    "collapsed": false,
    "scrolled": true
   },
   "outputs": [
    {
     "data": {
      "text/html": [
       "<div>\n",
       "<table border=\"1\" class=\"dataframe\">\n",
       "  <thead>\n",
       "    <tr style=\"text-align: right;\">\n",
       "      <th></th>\n",
       "      <th>Ann</th>\n",
       "      <th>Bob</th>\n",
       "      <th>Charly</th>\n",
       "      <th>Don</th>\n",
       "      <th>F</th>\n",
       "      <th>G</th>\n",
       "    </tr>\n",
       "  </thead>\n",
       "  <tbody>\n",
       "    <tr>\n",
       "      <th>2013-01-01</th>\n",
       "      <td>-0.186518</td>\n",
       "      <td>-0.385830</td>\n",
       "      <td>-1.613007</td>\n",
       "      <td>-0.866188</td>\n",
       "      <td>NaN</td>\n",
       "      <td>0.199311</td>\n",
       "    </tr>\n",
       "    <tr>\n",
       "      <th>2013-01-02</th>\n",
       "      <td>-0.869272</td>\n",
       "      <td>-0.667518</td>\n",
       "      <td>-0.594663</td>\n",
       "      <td>0.376043</td>\n",
       "      <td>1.0</td>\n",
       "      <td>-0.201753</td>\n",
       "    </tr>\n",
       "    <tr>\n",
       "      <th>2013-01-03</th>\n",
       "      <td>0.063678</td>\n",
       "      <td>1.746219</td>\n",
       "      <td>1.366210</td>\n",
       "      <td>-0.072918</td>\n",
       "      <td>2.0</td>\n",
       "      <td>-1.682541</td>\n",
       "    </tr>\n",
       "    <tr>\n",
       "      <th>2013-01-04</th>\n",
       "      <td>-0.170625</td>\n",
       "      <td>0.472639</td>\n",
       "      <td>0.261512</td>\n",
       "      <td>0.828992</td>\n",
       "      <td>3.0</td>\n",
       "      <td>-0.643264</td>\n",
       "    </tr>\n",
       "    <tr>\n",
       "      <th>2013-01-05</th>\n",
       "      <td>0.569475</td>\n",
       "      <td>-0.798349</td>\n",
       "      <td>0.968672</td>\n",
       "      <td>-0.286756</td>\n",
       "      <td>4.0</td>\n",
       "      <td>1.367824</td>\n",
       "    </tr>\n",
       "    <tr>\n",
       "      <th>2013-01-06</th>\n",
       "      <td>1.468753</td>\n",
       "      <td>0.123569</td>\n",
       "      <td>0.316814</td>\n",
       "      <td>0.107775</td>\n",
       "      <td>5.0</td>\n",
       "      <td>1.345184</td>\n",
       "    </tr>\n",
       "  </tbody>\n",
       "</table>\n",
       "</div>"
      ],
      "text/plain": [
       "                 Ann       Bob    Charly       Don    F         G\n",
       "2013-01-01 -0.186518 -0.385830 -1.613007 -0.866188  NaN  0.199311\n",
       "2013-01-02 -0.869272 -0.667518 -0.594663  0.376043  1.0 -0.201753\n",
       "2013-01-03  0.063678  1.746219  1.366210 -0.072918  2.0 -1.682541\n",
       "2013-01-04 -0.170625  0.472639  0.261512  0.828992  3.0 -0.643264\n",
       "2013-01-05  0.569475 -0.798349  0.968672 -0.286756  4.0  1.367824\n",
       "2013-01-06  1.468753  0.123569  0.316814  0.107775  5.0  1.345184"
      ]
     },
     "execution_count": 54,
     "metadata": {},
     "output_type": "execute_result"
    }
   ],
   "source": [
    "df['F'] = s1\n",
    "df['G'] = df['Ann']-df['Bob']\n",
    "df"
   ]
  },
  {
   "cell_type": "code",
   "execution_count": null,
   "metadata": {
    "collapsed": true
   },
   "outputs": [],
   "source": [
    "df.G"
   ]
  },
  {
   "cell_type": "markdown",
   "metadata": {},
   "source": [
    "Setting values by label"
   ]
  },
  {
   "cell_type": "code",
   "execution_count": 56,
   "metadata": {
    "collapsed": false
   },
   "outputs": [
    {
     "data": {
      "text/html": [
       "<div>\n",
       "<table border=\"1\" class=\"dataframe\">\n",
       "  <thead>\n",
       "    <tr style=\"text-align: right;\">\n",
       "      <th></th>\n",
       "      <th>Ann</th>\n",
       "      <th>Bob</th>\n",
       "      <th>Charly</th>\n",
       "      <th>Don</th>\n",
       "      <th>F</th>\n",
       "      <th>G</th>\n",
       "      <th>A</th>\n",
       "    </tr>\n",
       "  </thead>\n",
       "  <tbody>\n",
       "    <tr>\n",
       "      <th>2013-01-01</th>\n",
       "      <td>17.600000</td>\n",
       "      <td>-0.385830</td>\n",
       "      <td>-1.613007</td>\n",
       "      <td>-0.866188</td>\n",
       "      <td>NaN</td>\n",
       "      <td>0.199311</td>\n",
       "      <td>0.0</td>\n",
       "    </tr>\n",
       "    <tr>\n",
       "      <th>2013-01-02</th>\n",
       "      <td>-0.869272</td>\n",
       "      <td>-0.667518</td>\n",
       "      <td>-0.594663</td>\n",
       "      <td>0.376043</td>\n",
       "      <td>1.0</td>\n",
       "      <td>-0.201753</td>\n",
       "      <td>NaN</td>\n",
       "    </tr>\n",
       "    <tr>\n",
       "      <th>2013-01-03</th>\n",
       "      <td>0.063678</td>\n",
       "      <td>1.746219</td>\n",
       "      <td>1.366210</td>\n",
       "      <td>-0.072918</td>\n",
       "      <td>2.0</td>\n",
       "      <td>-1.682541</td>\n",
       "      <td>NaN</td>\n",
       "    </tr>\n",
       "    <tr>\n",
       "      <th>2013-01-04</th>\n",
       "      <td>-0.170625</td>\n",
       "      <td>0.472639</td>\n",
       "      <td>0.261512</td>\n",
       "      <td>0.828992</td>\n",
       "      <td>3.0</td>\n",
       "      <td>-0.643264</td>\n",
       "      <td>NaN</td>\n",
       "    </tr>\n",
       "    <tr>\n",
       "      <th>2013-01-05</th>\n",
       "      <td>0.569475</td>\n",
       "      <td>-0.798349</td>\n",
       "      <td>0.968672</td>\n",
       "      <td>-0.286756</td>\n",
       "      <td>4.0</td>\n",
       "      <td>1.367824</td>\n",
       "      <td>NaN</td>\n",
       "    </tr>\n",
       "    <tr>\n",
       "      <th>2013-01-06</th>\n",
       "      <td>1.468753</td>\n",
       "      <td>0.123569</td>\n",
       "      <td>0.316814</td>\n",
       "      <td>0.107775</td>\n",
       "      <td>5.0</td>\n",
       "      <td>1.345184</td>\n",
       "      <td>NaN</td>\n",
       "    </tr>\n",
       "  </tbody>\n",
       "</table>\n",
       "</div>"
      ],
      "text/plain": [
       "                  Ann       Bob    Charly       Don    F         G    A\n",
       "2013-01-01  17.600000 -0.385830 -1.613007 -0.866188  NaN  0.199311  0.0\n",
       "2013-01-02  -0.869272 -0.667518 -0.594663  0.376043  1.0 -0.201753  NaN\n",
       "2013-01-03   0.063678  1.746219  1.366210 -0.072918  2.0 -1.682541  NaN\n",
       "2013-01-04  -0.170625  0.472639  0.261512  0.828992  3.0 -0.643264  NaN\n",
       "2013-01-05   0.569475 -0.798349  0.968672 -0.286756  4.0  1.367824  NaN\n",
       "2013-01-06   1.468753  0.123569  0.316814  0.107775  5.0  1.345184  NaN"
      ]
     },
     "execution_count": 56,
     "metadata": {},
     "output_type": "execute_result"
    }
   ],
   "source": [
    "df.at[dates[0],'Ann'] = 17.6\n",
    "df"
   ]
  },
  {
   "cell_type": "markdown",
   "metadata": {},
   "source": [
    "Setting values by position"
   ]
  },
  {
   "cell_type": "code",
   "execution_count": 59,
   "metadata": {
    "collapsed": false
   },
   "outputs": [
    {
     "data": {
      "text/html": [
       "<div>\n",
       "<table border=\"1\" class=\"dataframe\">\n",
       "  <thead>\n",
       "    <tr style=\"text-align: right;\">\n",
       "      <th></th>\n",
       "      <th>Ann</th>\n",
       "      <th>Bob</th>\n",
       "      <th>Charly</th>\n",
       "      <th>Don</th>\n",
       "      <th>F</th>\n",
       "      <th>G</th>\n",
       "      <th>A</th>\n",
       "    </tr>\n",
       "  </thead>\n",
       "  <tbody>\n",
       "    <tr>\n",
       "      <th>2013-01-01</th>\n",
       "      <td>17.600000</td>\n",
       "      <td>349.000000</td>\n",
       "      <td>-1.613007</td>\n",
       "      <td>-0.866188</td>\n",
       "      <td>NaN</td>\n",
       "      <td>0.199311</td>\n",
       "      <td>0.0</td>\n",
       "    </tr>\n",
       "    <tr>\n",
       "      <th>2013-01-02</th>\n",
       "      <td>-0.869272</td>\n",
       "      <td>-0.667518</td>\n",
       "      <td>-0.594663</td>\n",
       "      <td>0.376043</td>\n",
       "      <td>1.0</td>\n",
       "      <td>-0.201753</td>\n",
       "      <td>NaN</td>\n",
       "    </tr>\n",
       "    <tr>\n",
       "      <th>2013-01-03</th>\n",
       "      <td>0.063678</td>\n",
       "      <td>1.746219</td>\n",
       "      <td>1.366210</td>\n",
       "      <td>-0.072918</td>\n",
       "      <td>2.0</td>\n",
       "      <td>-1.682541</td>\n",
       "      <td>NaN</td>\n",
       "    </tr>\n",
       "    <tr>\n",
       "      <th>2013-01-04</th>\n",
       "      <td>-0.170625</td>\n",
       "      <td>0.472639</td>\n",
       "      <td>0.261512</td>\n",
       "      <td>0.828992</td>\n",
       "      <td>3.0</td>\n",
       "      <td>-0.643264</td>\n",
       "      <td>NaN</td>\n",
       "    </tr>\n",
       "    <tr>\n",
       "      <th>2013-01-05</th>\n",
       "      <td>0.569475</td>\n",
       "      <td>-0.798349</td>\n",
       "      <td>0.968672</td>\n",
       "      <td>-0.286756</td>\n",
       "      <td>4.0</td>\n",
       "      <td>1.367824</td>\n",
       "      <td>NaN</td>\n",
       "    </tr>\n",
       "    <tr>\n",
       "      <th>2013-01-06</th>\n",
       "      <td>1.468753</td>\n",
       "      <td>0.123569</td>\n",
       "      <td>349.000000</td>\n",
       "      <td>0.107775</td>\n",
       "      <td>5.0</td>\n",
       "      <td>1.345184</td>\n",
       "      <td>NaN</td>\n",
       "    </tr>\n",
       "  </tbody>\n",
       "</table>\n",
       "</div>"
      ],
      "text/plain": [
       "                  Ann         Bob      Charly       Don    F         G    A\n",
       "2013-01-01  17.600000  349.000000   -1.613007 -0.866188  NaN  0.199311  0.0\n",
       "2013-01-02  -0.869272   -0.667518   -0.594663  0.376043  1.0 -0.201753  NaN\n",
       "2013-01-03   0.063678    1.746219    1.366210 -0.072918  2.0 -1.682541  NaN\n",
       "2013-01-04  -0.170625    0.472639    0.261512  0.828992  3.0 -0.643264  NaN\n",
       "2013-01-05   0.569475   -0.798349    0.968672 -0.286756  4.0  1.367824  NaN\n",
       "2013-01-06   1.468753    0.123569  349.000000  0.107775  5.0  1.345184  NaN"
      ]
     },
     "execution_count": 59,
     "metadata": {},
     "output_type": "execute_result"
    }
   ],
   "source": [
    "df.iat[5,2] = 349\n",
    "df"
   ]
  },
  {
   "cell_type": "markdown",
   "metadata": {},
   "source": [
    "Setting by assigning with a numpy array"
   ]
  },
  {
   "cell_type": "code",
   "execution_count": null,
   "metadata": {
    "collapsed": true
   },
   "outputs": [],
   "source": [
    "df.loc[:,'D'] = np.array([5] * len(df))"
   ]
  },
  {
   "cell_type": "markdown",
   "metadata": {},
   "source": [
    "The result of the prior setting operations"
   ]
  },
  {
   "cell_type": "code",
   "execution_count": null,
   "metadata": {
    "collapsed": false
   },
   "outputs": [],
   "source": [
    "df"
   ]
  },
  {
   "cell_type": "markdown",
   "metadata": {},
   "source": [
    "A `where` operation with setting."
   ]
  },
  {
   "cell_type": "code",
   "execution_count": null,
   "metadata": {
    "collapsed": false
   },
   "outputs": [],
   "source": [
    "df2 = df.copy()\n",
    "df2[df2 > 0] = -df2\n",
    "df2"
   ]
  },
  {
   "cell_type": "markdown",
   "metadata": {},
   "source": [
    "# Missing Data\n",
    "pandas primarily uses the value `np.nan` to represent missing data. It is by default not included in computations.\n",
    "See the [Missing Data section]()\n",
    "\n",
    "Reindexing allows you to change/add/delete the index on a specified axis. This returns a copy of the data."
   ]
  },
  {
   "cell_type": "code",
   "execution_count": 60,
   "metadata": {
    "collapsed": false
   },
   "outputs": [
    {
     "data": {
      "text/html": [
       "<div>\n",
       "<table border=\"1\" class=\"dataframe\">\n",
       "  <thead>\n",
       "    <tr style=\"text-align: right;\">\n",
       "      <th></th>\n",
       "      <th>Ann</th>\n",
       "      <th>Bob</th>\n",
       "      <th>Charly</th>\n",
       "      <th>Don</th>\n",
       "      <th>F</th>\n",
       "      <th>G</th>\n",
       "      <th>A</th>\n",
       "      <th>E</th>\n",
       "    </tr>\n",
       "  </thead>\n",
       "  <tbody>\n",
       "    <tr>\n",
       "      <th>2013-01-01</th>\n",
       "      <td>17.600000</td>\n",
       "      <td>349.000000</td>\n",
       "      <td>-1.613007</td>\n",
       "      <td>-0.866188</td>\n",
       "      <td>NaN</td>\n",
       "      <td>0.199311</td>\n",
       "      <td>0.0</td>\n",
       "      <td>1.0</td>\n",
       "    </tr>\n",
       "    <tr>\n",
       "      <th>2013-01-02</th>\n",
       "      <td>-0.869272</td>\n",
       "      <td>-0.667518</td>\n",
       "      <td>-0.594663</td>\n",
       "      <td>0.376043</td>\n",
       "      <td>1.0</td>\n",
       "      <td>-0.201753</td>\n",
       "      <td>NaN</td>\n",
       "      <td>1.0</td>\n",
       "    </tr>\n",
       "    <tr>\n",
       "      <th>2013-01-03</th>\n",
       "      <td>0.063678</td>\n",
       "      <td>1.746219</td>\n",
       "      <td>1.366210</td>\n",
       "      <td>-0.072918</td>\n",
       "      <td>2.0</td>\n",
       "      <td>-1.682541</td>\n",
       "      <td>NaN</td>\n",
       "      <td>NaN</td>\n",
       "    </tr>\n",
       "    <tr>\n",
       "      <th>2013-01-04</th>\n",
       "      <td>-0.170625</td>\n",
       "      <td>0.472639</td>\n",
       "      <td>0.261512</td>\n",
       "      <td>0.828992</td>\n",
       "      <td>3.0</td>\n",
       "      <td>-0.643264</td>\n",
       "      <td>NaN</td>\n",
       "      <td>NaN</td>\n",
       "    </tr>\n",
       "  </tbody>\n",
       "</table>\n",
       "</div>"
      ],
      "text/plain": [
       "                  Ann         Bob    Charly       Don    F         G    A    E\n",
       "2013-01-01  17.600000  349.000000 -1.613007 -0.866188  NaN  0.199311  0.0  1.0\n",
       "2013-01-02  -0.869272   -0.667518 -0.594663  0.376043  1.0 -0.201753  NaN  1.0\n",
       "2013-01-03   0.063678    1.746219  1.366210 -0.072918  2.0 -1.682541  NaN  NaN\n",
       "2013-01-04  -0.170625    0.472639  0.261512  0.828992  3.0 -0.643264  NaN  NaN"
      ]
     },
     "execution_count": 60,
     "metadata": {},
     "output_type": "execute_result"
    }
   ],
   "source": [
    "df1 = df.reindex(index=dates[0:4], columns=list(df.columns) + ['E'])\n",
    "df1.loc[dates[0]:dates[1],'E'] = 1\n",
    "df1"
   ]
  },
  {
   "cell_type": "markdown",
   "metadata": {},
   "source": [
    "To drop any rows that have missing data."
   ]
  },
  {
   "cell_type": "code",
   "execution_count": 61,
   "metadata": {
    "collapsed": false
   },
   "outputs": [
    {
     "data": {
      "text/html": [
       "<div>\n",
       "<table border=\"1\" class=\"dataframe\">\n",
       "  <thead>\n",
       "    <tr style=\"text-align: right;\">\n",
       "      <th></th>\n",
       "      <th>Ann</th>\n",
       "      <th>Bob</th>\n",
       "      <th>Charly</th>\n",
       "      <th>Don</th>\n",
       "      <th>F</th>\n",
       "      <th>G</th>\n",
       "      <th>A</th>\n",
       "      <th>E</th>\n",
       "    </tr>\n",
       "  </thead>\n",
       "  <tbody>\n",
       "  </tbody>\n",
       "</table>\n",
       "</div>"
      ],
      "text/plain": [
       "Empty DataFrame\n",
       "Columns: [Ann, Bob, Charly, Don, F, G, A, E]\n",
       "Index: []"
      ]
     },
     "execution_count": 61,
     "metadata": {},
     "output_type": "execute_result"
    }
   ],
   "source": [
    "df1.dropna(how='any')"
   ]
  },
  {
   "cell_type": "markdown",
   "metadata": {},
   "source": [
    "Filling missing data"
   ]
  },
  {
   "cell_type": "code",
   "execution_count": 62,
   "metadata": {
    "collapsed": false
   },
   "outputs": [
    {
     "data": {
      "text/html": [
       "<div>\n",
       "<table border=\"1\" class=\"dataframe\">\n",
       "  <thead>\n",
       "    <tr style=\"text-align: right;\">\n",
       "      <th></th>\n",
       "      <th>Ann</th>\n",
       "      <th>Bob</th>\n",
       "      <th>Charly</th>\n",
       "      <th>Don</th>\n",
       "      <th>F</th>\n",
       "      <th>G</th>\n",
       "      <th>A</th>\n",
       "      <th>E</th>\n",
       "    </tr>\n",
       "  </thead>\n",
       "  <tbody>\n",
       "    <tr>\n",
       "      <th>2013-01-01</th>\n",
       "      <td>17.600000</td>\n",
       "      <td>349.000000</td>\n",
       "      <td>-1.613007</td>\n",
       "      <td>-0.866188</td>\n",
       "      <td>NaN</td>\n",
       "      <td>0.199311</td>\n",
       "      <td>0.0</td>\n",
       "      <td>1.0</td>\n",
       "    </tr>\n",
       "    <tr>\n",
       "      <th>2013-01-02</th>\n",
       "      <td>-0.869272</td>\n",
       "      <td>-0.667518</td>\n",
       "      <td>-0.594663</td>\n",
       "      <td>0.376043</td>\n",
       "      <td>1.0</td>\n",
       "      <td>-0.201753</td>\n",
       "      <td>NaN</td>\n",
       "      <td>1.0</td>\n",
       "    </tr>\n",
       "    <tr>\n",
       "      <th>2013-01-03</th>\n",
       "      <td>0.063678</td>\n",
       "      <td>1.746219</td>\n",
       "      <td>1.366210</td>\n",
       "      <td>-0.072918</td>\n",
       "      <td>2.0</td>\n",
       "      <td>-1.682541</td>\n",
       "      <td>NaN</td>\n",
       "      <td>NaN</td>\n",
       "    </tr>\n",
       "    <tr>\n",
       "      <th>2013-01-04</th>\n",
       "      <td>-0.170625</td>\n",
       "      <td>0.472639</td>\n",
       "      <td>0.261512</td>\n",
       "      <td>0.828992</td>\n",
       "      <td>3.0</td>\n",
       "      <td>-0.643264</td>\n",
       "      <td>NaN</td>\n",
       "      <td>NaN</td>\n",
       "    </tr>\n",
       "  </tbody>\n",
       "</table>\n",
       "</div>"
      ],
      "text/plain": [
       "                  Ann         Bob    Charly       Don    F         G    A    E\n",
       "2013-01-01  17.600000  349.000000 -1.613007 -0.866188  NaN  0.199311  0.0  1.0\n",
       "2013-01-02  -0.869272   -0.667518 -0.594663  0.376043  1.0 -0.201753  NaN  1.0\n",
       "2013-01-03   0.063678    1.746219  1.366210 -0.072918  2.0 -1.682541  NaN  NaN\n",
       "2013-01-04  -0.170625    0.472639  0.261512  0.828992  3.0 -0.643264  NaN  NaN"
      ]
     },
     "execution_count": 62,
     "metadata": {},
     "output_type": "execute_result"
    }
   ],
   "source": [
    "df1"
   ]
  },
  {
   "cell_type": "code",
   "execution_count": 63,
   "metadata": {
    "collapsed": false
   },
   "outputs": [
    {
     "data": {
      "text/html": [
       "<div>\n",
       "<table border=\"1\" class=\"dataframe\">\n",
       "  <thead>\n",
       "    <tr style=\"text-align: right;\">\n",
       "      <th></th>\n",
       "      <th>Ann</th>\n",
       "      <th>Bob</th>\n",
       "      <th>Charly</th>\n",
       "      <th>Don</th>\n",
       "      <th>F</th>\n",
       "      <th>G</th>\n",
       "      <th>A</th>\n",
       "      <th>E</th>\n",
       "    </tr>\n",
       "  </thead>\n",
       "  <tbody>\n",
       "    <tr>\n",
       "      <th>2013-01-01</th>\n",
       "      <td>17.600000</td>\n",
       "      <td>349.000000</td>\n",
       "      <td>-1.613007</td>\n",
       "      <td>-0.866188</td>\n",
       "      <td>5.0</td>\n",
       "      <td>0.199311</td>\n",
       "      <td>0.0</td>\n",
       "      <td>1.0</td>\n",
       "    </tr>\n",
       "    <tr>\n",
       "      <th>2013-01-02</th>\n",
       "      <td>-0.869272</td>\n",
       "      <td>-0.667518</td>\n",
       "      <td>-0.594663</td>\n",
       "      <td>0.376043</td>\n",
       "      <td>1.0</td>\n",
       "      <td>-0.201753</td>\n",
       "      <td>5.0</td>\n",
       "      <td>1.0</td>\n",
       "    </tr>\n",
       "    <tr>\n",
       "      <th>2013-01-03</th>\n",
       "      <td>0.063678</td>\n",
       "      <td>1.746219</td>\n",
       "      <td>1.366210</td>\n",
       "      <td>-0.072918</td>\n",
       "      <td>2.0</td>\n",
       "      <td>-1.682541</td>\n",
       "      <td>5.0</td>\n",
       "      <td>5.0</td>\n",
       "    </tr>\n",
       "    <tr>\n",
       "      <th>2013-01-04</th>\n",
       "      <td>-0.170625</td>\n",
       "      <td>0.472639</td>\n",
       "      <td>0.261512</td>\n",
       "      <td>0.828992</td>\n",
       "      <td>3.0</td>\n",
       "      <td>-0.643264</td>\n",
       "      <td>5.0</td>\n",
       "      <td>5.0</td>\n",
       "    </tr>\n",
       "  </tbody>\n",
       "</table>\n",
       "</div>"
      ],
      "text/plain": [
       "                  Ann         Bob    Charly       Don    F         G    A    E\n",
       "2013-01-01  17.600000  349.000000 -1.613007 -0.866188  5.0  0.199311  0.0  1.0\n",
       "2013-01-02  -0.869272   -0.667518 -0.594663  0.376043  1.0 -0.201753  5.0  1.0\n",
       "2013-01-03   0.063678    1.746219  1.366210 -0.072918  2.0 -1.682541  5.0  5.0\n",
       "2013-01-04  -0.170625    0.472639  0.261512  0.828992  3.0 -0.643264  5.0  5.0"
      ]
     },
     "execution_count": 63,
     "metadata": {},
     "output_type": "execute_result"
    }
   ],
   "source": [
    "df1.fillna(value=5)"
   ]
  },
  {
   "cell_type": "markdown",
   "metadata": {},
   "source": [
    "To get the boolean mask where values are `nan`"
   ]
  },
  {
   "cell_type": "code",
   "execution_count": 66,
   "metadata": {
    "collapsed": false
   },
   "outputs": [
    {
     "data": {
      "text/html": [
       "<div>\n",
       "<table border=\"1\" class=\"dataframe\">\n",
       "  <thead>\n",
       "    <tr style=\"text-align: right;\">\n",
       "      <th></th>\n",
       "      <th>Ann</th>\n",
       "      <th>Bob</th>\n",
       "      <th>Charly</th>\n",
       "      <th>Don</th>\n",
       "      <th>F</th>\n",
       "      <th>G</th>\n",
       "      <th>A</th>\n",
       "      <th>E</th>\n",
       "    </tr>\n",
       "  </thead>\n",
       "  <tbody>\n",
       "    <tr>\n",
       "      <th>2013-01-01</th>\n",
       "      <td>False</td>\n",
       "      <td>False</td>\n",
       "      <td>False</td>\n",
       "      <td>False</td>\n",
       "      <td>True</td>\n",
       "      <td>False</td>\n",
       "      <td>False</td>\n",
       "      <td>False</td>\n",
       "    </tr>\n",
       "    <tr>\n",
       "      <th>2013-01-02</th>\n",
       "      <td>False</td>\n",
       "      <td>False</td>\n",
       "      <td>False</td>\n",
       "      <td>False</td>\n",
       "      <td>False</td>\n",
       "      <td>False</td>\n",
       "      <td>True</td>\n",
       "      <td>False</td>\n",
       "    </tr>\n",
       "    <tr>\n",
       "      <th>2013-01-03</th>\n",
       "      <td>False</td>\n",
       "      <td>False</td>\n",
       "      <td>False</td>\n",
       "      <td>False</td>\n",
       "      <td>False</td>\n",
       "      <td>False</td>\n",
       "      <td>True</td>\n",
       "      <td>True</td>\n",
       "    </tr>\n",
       "    <tr>\n",
       "      <th>2013-01-04</th>\n",
       "      <td>False</td>\n",
       "      <td>False</td>\n",
       "      <td>False</td>\n",
       "      <td>False</td>\n",
       "      <td>False</td>\n",
       "      <td>False</td>\n",
       "      <td>True</td>\n",
       "      <td>True</td>\n",
       "    </tr>\n",
       "  </tbody>\n",
       "</table>\n",
       "</div>"
      ],
      "text/plain": [
       "              Ann    Bob Charly    Don      F      G      A      E\n",
       "2013-01-01  False  False  False  False   True  False  False  False\n",
       "2013-01-02  False  False  False  False  False  False   True  False\n",
       "2013-01-03  False  False  False  False  False  False   True   True\n",
       "2013-01-04  False  False  False  False  False  False   True   True"
      ]
     },
     "execution_count": 66,
     "metadata": {},
     "output_type": "execute_result"
    }
   ],
   "source": [
    "pd.isnull(df1)"
   ]
  },
  {
   "cell_type": "markdown",
   "metadata": {},
   "source": [
    "# Operations\n",
    "See the [Basic section on Binary Ops]()\n",
    "\n",
    "## Stats\n",
    "\n",
    "Operations in general exclude missing data.\n",
    "\n",
    "Performing a descriptive statistic\n"
   ]
  },
  {
   "cell_type": "code",
   "execution_count": 72,
   "metadata": {
    "collapsed": false
   },
   "outputs": [
    {
     "data": {
      "text/plain": [
       "Ann        3.110335\n",
       "Bob       58.312760\n",
       "Charly    58.231454\n",
       "Don        0.014491\n",
       "F          3.000000\n",
       "G          0.064127\n",
       "A          0.000000\n",
       "dtype: float64"
      ]
     },
     "execution_count": 72,
     "metadata": {},
     "output_type": "execute_result"
    }
   ],
   "source": [
    "df.mean(0)"
   ]
  },
  {
   "cell_type": "markdown",
   "metadata": {},
   "source": [
    "Same operation on the other axis"
   ]
  },
  {
   "cell_type": "code",
   "execution_count": 71,
   "metadata": {
    "collapsed": false
   },
   "outputs": [
    {
     "data": {
      "text/plain": [
       "2013-01-01    60.720019\n",
       "2013-01-02    -0.159527\n",
       "2013-01-03     0.570108\n",
       "2013-01-04     0.624876\n",
       "2013-01-05     0.970144\n",
       "2013-01-06    59.507547\n",
       "Freq: D, dtype: float64"
      ]
     },
     "execution_count": 71,
     "metadata": {},
     "output_type": "execute_result"
    }
   ],
   "source": [
    "df.mean(1)"
   ]
  },
  {
   "cell_type": "markdown",
   "metadata": {},
   "source": [
    "Operating with objects that have different dimensionality and need alignment. In addition, pandas automatically broadcasts along the specified dimension."
   ]
  },
  {
   "cell_type": "code",
   "execution_count": 73,
   "metadata": {
    "collapsed": false
   },
   "outputs": [
    {
     "data": {
      "text/plain": [
       "2013-01-01    NaN\n",
       "2013-01-02    NaN\n",
       "2013-01-03    1.0\n",
       "2013-01-04    3.0\n",
       "2013-01-05    5.0\n",
       "2013-01-06    NaN\n",
       "Freq: D, dtype: float64"
      ]
     },
     "execution_count": 73,
     "metadata": {},
     "output_type": "execute_result"
    }
   ],
   "source": [
    "s = pd.Series([1,3,5,np.nan,6,8], index=dates).shift(2)\n",
    "s"
   ]
  },
  {
   "cell_type": "code",
   "execution_count": 74,
   "metadata": {
    "collapsed": false
   },
   "outputs": [
    {
     "data": {
      "text/html": [
       "<div>\n",
       "<table border=\"1\" class=\"dataframe\">\n",
       "  <thead>\n",
       "    <tr style=\"text-align: right;\">\n",
       "      <th></th>\n",
       "      <th>Ann</th>\n",
       "      <th>Bob</th>\n",
       "      <th>Charly</th>\n",
       "      <th>Don</th>\n",
       "      <th>F</th>\n",
       "      <th>G</th>\n",
       "      <th>A</th>\n",
       "    </tr>\n",
       "  </thead>\n",
       "  <tbody>\n",
       "    <tr>\n",
       "      <th>2013-01-01</th>\n",
       "      <td>NaN</td>\n",
       "      <td>NaN</td>\n",
       "      <td>NaN</td>\n",
       "      <td>NaN</td>\n",
       "      <td>NaN</td>\n",
       "      <td>NaN</td>\n",
       "      <td>NaN</td>\n",
       "    </tr>\n",
       "    <tr>\n",
       "      <th>2013-01-02</th>\n",
       "      <td>NaN</td>\n",
       "      <td>NaN</td>\n",
       "      <td>NaN</td>\n",
       "      <td>NaN</td>\n",
       "      <td>NaN</td>\n",
       "      <td>NaN</td>\n",
       "      <td>NaN</td>\n",
       "    </tr>\n",
       "    <tr>\n",
       "      <th>2013-01-03</th>\n",
       "      <td>-0.936322</td>\n",
       "      <td>0.746219</td>\n",
       "      <td>0.366210</td>\n",
       "      <td>-1.072918</td>\n",
       "      <td>1.0</td>\n",
       "      <td>-2.682541</td>\n",
       "      <td>NaN</td>\n",
       "    </tr>\n",
       "    <tr>\n",
       "      <th>2013-01-04</th>\n",
       "      <td>-3.170625</td>\n",
       "      <td>-2.527361</td>\n",
       "      <td>-2.738488</td>\n",
       "      <td>-2.171008</td>\n",
       "      <td>0.0</td>\n",
       "      <td>-3.643264</td>\n",
       "      <td>NaN</td>\n",
       "    </tr>\n",
       "    <tr>\n",
       "      <th>2013-01-05</th>\n",
       "      <td>-4.430525</td>\n",
       "      <td>-5.798349</td>\n",
       "      <td>-4.031328</td>\n",
       "      <td>-5.286756</td>\n",
       "      <td>-1.0</td>\n",
       "      <td>-3.632176</td>\n",
       "      <td>NaN</td>\n",
       "    </tr>\n",
       "    <tr>\n",
       "      <th>2013-01-06</th>\n",
       "      <td>NaN</td>\n",
       "      <td>NaN</td>\n",
       "      <td>NaN</td>\n",
       "      <td>NaN</td>\n",
       "      <td>NaN</td>\n",
       "      <td>NaN</td>\n",
       "      <td>NaN</td>\n",
       "    </tr>\n",
       "  </tbody>\n",
       "</table>\n",
       "</div>"
      ],
      "text/plain": [
       "                 Ann       Bob    Charly       Don    F         G   A\n",
       "2013-01-01       NaN       NaN       NaN       NaN  NaN       NaN NaN\n",
       "2013-01-02       NaN       NaN       NaN       NaN  NaN       NaN NaN\n",
       "2013-01-03 -0.936322  0.746219  0.366210 -1.072918  1.0 -2.682541 NaN\n",
       "2013-01-04 -3.170625 -2.527361 -2.738488 -2.171008  0.0 -3.643264 NaN\n",
       "2013-01-05 -4.430525 -5.798349 -4.031328 -5.286756 -1.0 -3.632176 NaN\n",
       "2013-01-06       NaN       NaN       NaN       NaN  NaN       NaN NaN"
      ]
     },
     "execution_count": 74,
     "metadata": {},
     "output_type": "execute_result"
    }
   ],
   "source": [
    "df.sub(s, axis='index')"
   ]
  },
  {
   "cell_type": "markdown",
   "metadata": {},
   "source": [
    "## Apply\n",
    "\n",
    "Applying functions to the data"
   ]
  },
  {
   "cell_type": "code",
   "execution_count": 77,
   "metadata": {
    "collapsed": false
   },
   "outputs": [
    {
     "data": {
      "text/html": [
       "<div>\n",
       "<table border=\"1\" class=\"dataframe\">\n",
       "  <thead>\n",
       "    <tr style=\"text-align: right;\">\n",
       "      <th></th>\n",
       "      <th>Ann</th>\n",
       "      <th>Bob</th>\n",
       "      <th>Charly</th>\n",
       "      <th>Don</th>\n",
       "      <th>F</th>\n",
       "      <th>G</th>\n",
       "      <th>A</th>\n",
       "    </tr>\n",
       "  </thead>\n",
       "  <tbody>\n",
       "    <tr>\n",
       "      <th>2013-01-01</th>\n",
       "      <td>17.600000</td>\n",
       "      <td>349.000000</td>\n",
       "      <td>-1.613007</td>\n",
       "      <td>-0.866188</td>\n",
       "      <td>NaN</td>\n",
       "      <td>0.199311</td>\n",
       "      <td>0.0</td>\n",
       "    </tr>\n",
       "    <tr>\n",
       "      <th>2013-01-02</th>\n",
       "      <td>-0.869272</td>\n",
       "      <td>-0.667518</td>\n",
       "      <td>-0.594663</td>\n",
       "      <td>0.376043</td>\n",
       "      <td>1.0</td>\n",
       "      <td>-0.201753</td>\n",
       "      <td>NaN</td>\n",
       "    </tr>\n",
       "    <tr>\n",
       "      <th>2013-01-03</th>\n",
       "      <td>0.063678</td>\n",
       "      <td>1.746219</td>\n",
       "      <td>1.366210</td>\n",
       "      <td>-0.072918</td>\n",
       "      <td>2.0</td>\n",
       "      <td>-1.682541</td>\n",
       "      <td>NaN</td>\n",
       "    </tr>\n",
       "    <tr>\n",
       "      <th>2013-01-04</th>\n",
       "      <td>-0.170625</td>\n",
       "      <td>0.472639</td>\n",
       "      <td>0.261512</td>\n",
       "      <td>0.828992</td>\n",
       "      <td>3.0</td>\n",
       "      <td>-0.643264</td>\n",
       "      <td>NaN</td>\n",
       "    </tr>\n",
       "    <tr>\n",
       "      <th>2013-01-05</th>\n",
       "      <td>0.569475</td>\n",
       "      <td>-0.798349</td>\n",
       "      <td>0.968672</td>\n",
       "      <td>-0.286756</td>\n",
       "      <td>4.0</td>\n",
       "      <td>1.367824</td>\n",
       "      <td>NaN</td>\n",
       "    </tr>\n",
       "    <tr>\n",
       "      <th>2013-01-06</th>\n",
       "      <td>1.468753</td>\n",
       "      <td>0.123569</td>\n",
       "      <td>349.000000</td>\n",
       "      <td>0.107775</td>\n",
       "      <td>5.0</td>\n",
       "      <td>1.345184</td>\n",
       "      <td>NaN</td>\n",
       "    </tr>\n",
       "  </tbody>\n",
       "</table>\n",
       "</div>"
      ],
      "text/plain": [
       "                  Ann         Bob      Charly       Don    F         G    A\n",
       "2013-01-01  17.600000  349.000000   -1.613007 -0.866188  NaN  0.199311  0.0\n",
       "2013-01-02  -0.869272   -0.667518   -0.594663  0.376043  1.0 -0.201753  NaN\n",
       "2013-01-03   0.063678    1.746219    1.366210 -0.072918  2.0 -1.682541  NaN\n",
       "2013-01-04  -0.170625    0.472639    0.261512  0.828992  3.0 -0.643264  NaN\n",
       "2013-01-05   0.569475   -0.798349    0.968672 -0.286756  4.0  1.367824  NaN\n",
       "2013-01-06   1.468753    0.123569  349.000000  0.107775  5.0  1.345184  NaN"
      ]
     },
     "execution_count": 77,
     "metadata": {},
     "output_type": "execute_result"
    }
   ],
   "source": [
    "df"
   ]
  },
  {
   "cell_type": "code",
   "execution_count": 75,
   "metadata": {
    "collapsed": false
   },
   "outputs": [
    {
     "data": {
      "text/html": [
       "<div>\n",
       "<table border=\"1\" class=\"dataframe\">\n",
       "  <thead>\n",
       "    <tr style=\"text-align: right;\">\n",
       "      <th></th>\n",
       "      <th>Ann</th>\n",
       "      <th>Bob</th>\n",
       "      <th>Charly</th>\n",
       "      <th>Don</th>\n",
       "      <th>F</th>\n",
       "      <th>G</th>\n",
       "      <th>A</th>\n",
       "    </tr>\n",
       "  </thead>\n",
       "  <tbody>\n",
       "    <tr>\n",
       "      <th>2013-01-01</th>\n",
       "      <td>17.600000</td>\n",
       "      <td>349.000000</td>\n",
       "      <td>-1.613007</td>\n",
       "      <td>-0.866188</td>\n",
       "      <td>NaN</td>\n",
       "      <td>0.199311</td>\n",
       "      <td>0.0</td>\n",
       "    </tr>\n",
       "    <tr>\n",
       "      <th>2013-01-02</th>\n",
       "      <td>16.730728</td>\n",
       "      <td>348.332482</td>\n",
       "      <td>-2.207670</td>\n",
       "      <td>-0.490145</td>\n",
       "      <td>1.0</td>\n",
       "      <td>-0.002442</td>\n",
       "      <td>NaN</td>\n",
       "    </tr>\n",
       "    <tr>\n",
       "      <th>2013-01-03</th>\n",
       "      <td>16.794406</td>\n",
       "      <td>350.078701</td>\n",
       "      <td>-0.841460</td>\n",
       "      <td>-0.563064</td>\n",
       "      <td>3.0</td>\n",
       "      <td>-1.684983</td>\n",
       "      <td>NaN</td>\n",
       "    </tr>\n",
       "    <tr>\n",
       "      <th>2013-01-04</th>\n",
       "      <td>16.623781</td>\n",
       "      <td>350.551340</td>\n",
       "      <td>-0.579948</td>\n",
       "      <td>0.265928</td>\n",
       "      <td>6.0</td>\n",
       "      <td>-2.328247</td>\n",
       "      <td>NaN</td>\n",
       "    </tr>\n",
       "    <tr>\n",
       "      <th>2013-01-05</th>\n",
       "      <td>17.193256</td>\n",
       "      <td>349.752991</td>\n",
       "      <td>0.388724</td>\n",
       "      <td>-0.020828</td>\n",
       "      <td>10.0</td>\n",
       "      <td>-0.960423</td>\n",
       "      <td>NaN</td>\n",
       "    </tr>\n",
       "    <tr>\n",
       "      <th>2013-01-06</th>\n",
       "      <td>18.662009</td>\n",
       "      <td>349.876560</td>\n",
       "      <td>349.388724</td>\n",
       "      <td>0.086947</td>\n",
       "      <td>15.0</td>\n",
       "      <td>0.384761</td>\n",
       "      <td>NaN</td>\n",
       "    </tr>\n",
       "  </tbody>\n",
       "</table>\n",
       "</div>"
      ],
      "text/plain": [
       "                  Ann         Bob      Charly       Don     F         G    A\n",
       "2013-01-01  17.600000  349.000000   -1.613007 -0.866188   NaN  0.199311  0.0\n",
       "2013-01-02  16.730728  348.332482   -2.207670 -0.490145   1.0 -0.002442  NaN\n",
       "2013-01-03  16.794406  350.078701   -0.841460 -0.563064   3.0 -1.684983  NaN\n",
       "2013-01-04  16.623781  350.551340   -0.579948  0.265928   6.0 -2.328247  NaN\n",
       "2013-01-05  17.193256  349.752991    0.388724 -0.020828  10.0 -0.960423  NaN\n",
       "2013-01-06  18.662009  349.876560  349.388724  0.086947  15.0  0.384761  NaN"
      ]
     },
     "execution_count": 75,
     "metadata": {},
     "output_type": "execute_result"
    }
   ],
   "source": [
    "df.apply(np.cumsum)"
   ]
  },
  {
   "cell_type": "code",
   "execution_count": 80,
   "metadata": {
    "collapsed": false
   },
   "outputs": [
    {
     "data": {
      "text/html": [
       "<div>\n",
       "<table border=\"1\" class=\"dataframe\">\n",
       "  <thead>\n",
       "    <tr style=\"text-align: right;\">\n",
       "      <th></th>\n",
       "      <th>Ann</th>\n",
       "      <th>Bob</th>\n",
       "      <th>Charly</th>\n",
       "      <th>Don</th>\n",
       "      <th>F</th>\n",
       "      <th>G</th>\n",
       "      <th>A</th>\n",
       "    </tr>\n",
       "  </thead>\n",
       "  <tbody>\n",
       "    <tr>\n",
       "      <th>2013-01-01</th>\n",
       "      <td>17.600000</td>\n",
       "      <td>349.000000</td>\n",
       "      <td>-1.613007</td>\n",
       "      <td>-0.866188</td>\n",
       "      <td>NaN</td>\n",
       "      <td>0.199311</td>\n",
       "      <td>0.0</td>\n",
       "    </tr>\n",
       "    <tr>\n",
       "      <th>2013-01-02</th>\n",
       "      <td>-0.869272</td>\n",
       "      <td>-0.667518</td>\n",
       "      <td>-0.594663</td>\n",
       "      <td>0.376043</td>\n",
       "      <td>1.0</td>\n",
       "      <td>-0.201753</td>\n",
       "      <td>NaN</td>\n",
       "    </tr>\n",
       "    <tr>\n",
       "      <th>2013-01-03</th>\n",
       "      <td>0.063678</td>\n",
       "      <td>1.746219</td>\n",
       "      <td>1.366210</td>\n",
       "      <td>-0.072918</td>\n",
       "      <td>2.0</td>\n",
       "      <td>-1.682541</td>\n",
       "      <td>NaN</td>\n",
       "    </tr>\n",
       "    <tr>\n",
       "      <th>2013-01-04</th>\n",
       "      <td>-0.170625</td>\n",
       "      <td>0.472639</td>\n",
       "      <td>0.261512</td>\n",
       "      <td>0.828992</td>\n",
       "      <td>3.0</td>\n",
       "      <td>-0.643264</td>\n",
       "      <td>NaN</td>\n",
       "    </tr>\n",
       "    <tr>\n",
       "      <th>2013-01-05</th>\n",
       "      <td>0.569475</td>\n",
       "      <td>-0.798349</td>\n",
       "      <td>0.968672</td>\n",
       "      <td>-0.286756</td>\n",
       "      <td>4.0</td>\n",
       "      <td>1.367824</td>\n",
       "      <td>NaN</td>\n",
       "    </tr>\n",
       "    <tr>\n",
       "      <th>2013-01-06</th>\n",
       "      <td>1.468753</td>\n",
       "      <td>0.123569</td>\n",
       "      <td>349.000000</td>\n",
       "      <td>0.107775</td>\n",
       "      <td>5.0</td>\n",
       "      <td>1.345184</td>\n",
       "      <td>NaN</td>\n",
       "    </tr>\n",
       "  </tbody>\n",
       "</table>\n",
       "</div>"
      ],
      "text/plain": [
       "                  Ann         Bob      Charly       Don    F         G    A\n",
       "2013-01-01  17.600000  349.000000   -1.613007 -0.866188  NaN  0.199311  0.0\n",
       "2013-01-02  -0.869272   -0.667518   -0.594663  0.376043  1.0 -0.201753  NaN\n",
       "2013-01-03   0.063678    1.746219    1.366210 -0.072918  2.0 -1.682541  NaN\n",
       "2013-01-04  -0.170625    0.472639    0.261512  0.828992  3.0 -0.643264  NaN\n",
       "2013-01-05   0.569475   -0.798349    0.968672 -0.286756  4.0  1.367824  NaN\n",
       "2013-01-06   1.468753    0.123569  349.000000  0.107775  5.0  1.345184  NaN"
      ]
     },
     "execution_count": 80,
     "metadata": {},
     "output_type": "execute_result"
    }
   ],
   "source": [
    "df"
   ]
  },
  {
   "cell_type": "code",
   "execution_count": 83,
   "metadata": {
    "collapsed": false
   },
   "outputs": [
    {
     "data": {
      "text/plain": [
       "Ann        17.600000\n",
       "Bob       349.000000\n",
       "Charly    349.000000\n",
       "Don         0.828992\n",
       "F           5.000000\n",
       "G           1.367824\n",
       "A           0.000000\n",
       "dtype: float64"
      ]
     },
     "execution_count": 83,
     "metadata": {},
     "output_type": "execute_result"
    }
   ],
   "source": [
    "df.max() ##df.apply(max)"
   ]
  },
  {
   "cell_type": "code",
   "execution_count": 85,
   "metadata": {
    "collapsed": false
   },
   "outputs": [
    {
     "data": {
      "text/plain": [
       "18.469271869437367"
      ]
     },
     "execution_count": 85,
     "metadata": {},
     "output_type": "execute_result"
    }
   ],
   "source": [
    "df.Ann.max()-df.Ann.min()"
   ]
  },
  {
   "cell_type": "code",
   "execution_count": 78,
   "metadata": {
    "collapsed": false
   },
   "outputs": [
    {
     "data": {
      "text/plain": [
       "Ann        18.469272\n",
       "Bob       349.798349\n",
       "Charly    350.613007\n",
       "Don         1.695180\n",
       "F           4.000000\n",
       "G           3.050365\n",
       "A           0.000000\n",
       "dtype: float64"
      ]
     },
     "execution_count": 78,
     "metadata": {},
     "output_type": "execute_result"
    }
   ],
   "source": [
    "df.apply(lambda x: x.max() - x.min())"
   ]
  },
  {
   "cell_type": "markdown",
   "metadata": {},
   "source": [
    "## Histogramming\n",
    "\n",
    "See more at [Histogramming and Discretization](http://pandas.pydata.org/pandas-docs/stable/basics.html#basics-discretization)"
   ]
  },
  {
   "cell_type": "code",
   "execution_count": 79,
   "metadata": {
    "collapsed": false
   },
   "outputs": [
    {
     "data": {
      "text/plain": [
       "0    6\n",
       "1    6\n",
       "2    2\n",
       "3    1\n",
       "4    5\n",
       "5    2\n",
       "6    1\n",
       "7    2\n",
       "8    6\n",
       "9    6\n",
       "dtype: int64"
      ]
     },
     "execution_count": 79,
     "metadata": {},
     "output_type": "execute_result"
    }
   ],
   "source": [
    "s = pd.Series(np.random.randint(0, 7, size=10))\n",
    "s"
   ]
  },
  {
   "cell_type": "code",
   "execution_count": 86,
   "metadata": {
    "collapsed": false
   },
   "outputs": [
    {
     "data": {
      "text/plain": [
       "6    4\n",
       "2    3\n",
       "1    2\n",
       "5    1\n",
       "dtype: int64"
      ]
     },
     "execution_count": 86,
     "metadata": {},
     "output_type": "execute_result"
    }
   ],
   "source": [
    "s.value_counts()"
   ]
  },
  {
   "cell_type": "markdown",
   "metadata": {},
   "source": [
    "Series is equipped with a set of string processing methods in the str attribute that make it easy to operate on each element of the array, as in the code snippet below. Note that pattern-matching in str generally uses [regular expressions](https://docs.python.org/2/library/re.html) by default (and in some cases always uses them). See more at [Vectorized String Methods](http://pandas.pydata.org/pandas-docs/stable/text.html#text-string-methods)."
   ]
  },
  {
   "cell_type": "code",
   "execution_count": null,
   "metadata": {
    "collapsed": false
   },
   "outputs": [],
   "source": [
    "s = pd.Series(['A', 'B', 'C', 'Aaba', 'Baca', np.nan, 'CABA', 'dog', 'cat'])\n",
    "s.str.lower()"
   ]
  },
  {
   "cell_type": "markdown",
   "metadata": {},
   "source": [
    "# Merge\n",
    "## Concat\n",
    "\n",
    "pandas provides various facilities for easily combining together Series, DataFrame, and Panel objects with various kinds of set logic for the indexes and relational algebra functionality in the case of join / merge-type operations.\n",
    "\n",
    "See the [Merging section](http://pandas.pydata.org/pandas-docs/stable/merging.html#merging)\n",
    "\n",
    "Concatenating pandas objects together with `concat()`:"
   ]
  },
  {
   "cell_type": "code",
   "execution_count": null,
   "metadata": {
    "collapsed": false
   },
   "outputs": [],
   "source": [
    "df = pd.DataFrame(np.random.randn(10, 4))\n",
    "df"
   ]
  },
  {
   "cell_type": "code",
   "execution_count": null,
   "metadata": {
    "collapsed": false
   },
   "outputs": [],
   "source": [
    "# break it into pieces\n",
    "pieces = [df[:3], df[3:7], df[7:]]\n",
    "pd.concat(pieces)"
   ]
  },
  {
   "cell_type": "markdown",
   "metadata": {},
   "source": [
    "## Join\n",
    "\n",
    "SQL style merges. See the [Database style joining](http://pandas.pydata.org/pandas-docs/stable/merging.html#merging-join)"
   ]
  },
  {
   "cell_type": "code",
   "execution_count": 95,
   "metadata": {
    "collapsed": true
   },
   "outputs": [],
   "source": [
    "left = pd.DataFrame({'key': ['foo', 'boo', 'foo'], 'lval': [1, 2, 3]})\n",
    "#right = pd.DataFrame({'key': ['boo', 'foo', 'foo'], 'rval': [4, 5, 6]})\n",
    "right = pd.DataFrame({'key': ['foo', 'foo'], 'rval': [5, 6]})"
   ]
  },
  {
   "cell_type": "code",
   "execution_count": 96,
   "metadata": {
    "collapsed": false
   },
   "outputs": [
    {
     "data": {
      "text/html": [
       "<div>\n",
       "<table border=\"1\" class=\"dataframe\">\n",
       "  <thead>\n",
       "    <tr style=\"text-align: right;\">\n",
       "      <th></th>\n",
       "      <th>key</th>\n",
       "      <th>lval</th>\n",
       "    </tr>\n",
       "  </thead>\n",
       "  <tbody>\n",
       "    <tr>\n",
       "      <th>0</th>\n",
       "      <td>foo</td>\n",
       "      <td>1</td>\n",
       "    </tr>\n",
       "    <tr>\n",
       "      <th>1</th>\n",
       "      <td>boo</td>\n",
       "      <td>2</td>\n",
       "    </tr>\n",
       "    <tr>\n",
       "      <th>2</th>\n",
       "      <td>foo</td>\n",
       "      <td>3</td>\n",
       "    </tr>\n",
       "  </tbody>\n",
       "</table>\n",
       "</div>"
      ],
      "text/plain": [
       "   key  lval\n",
       "0  foo     1\n",
       "1  boo     2\n",
       "2  foo     3"
      ]
     },
     "execution_count": 96,
     "metadata": {},
     "output_type": "execute_result"
    }
   ],
   "source": [
    "left"
   ]
  },
  {
   "cell_type": "code",
   "execution_count": 97,
   "metadata": {
    "collapsed": false
   },
   "outputs": [
    {
     "data": {
      "text/html": [
       "<div>\n",
       "<table border=\"1\" class=\"dataframe\">\n",
       "  <thead>\n",
       "    <tr style=\"text-align: right;\">\n",
       "      <th></th>\n",
       "      <th>key</th>\n",
       "      <th>rval</th>\n",
       "    </tr>\n",
       "  </thead>\n",
       "  <tbody>\n",
       "    <tr>\n",
       "      <th>0</th>\n",
       "      <td>foo</td>\n",
       "      <td>5</td>\n",
       "    </tr>\n",
       "    <tr>\n",
       "      <th>1</th>\n",
       "      <td>foo</td>\n",
       "      <td>6</td>\n",
       "    </tr>\n",
       "  </tbody>\n",
       "</table>\n",
       "</div>"
      ],
      "text/plain": [
       "   key  rval\n",
       "0  foo     5\n",
       "1  foo     6"
      ]
     },
     "execution_count": 97,
     "metadata": {},
     "output_type": "execute_result"
    }
   ],
   "source": [
    "right"
   ]
  },
  {
   "cell_type": "code",
   "execution_count": 99,
   "metadata": {
    "collapsed": false
   },
   "outputs": [
    {
     "data": {
      "text/html": [
       "<div>\n",
       "<table border=\"1\" class=\"dataframe\">\n",
       "  <thead>\n",
       "    <tr style=\"text-align: right;\">\n",
       "      <th></th>\n",
       "      <th>key</th>\n",
       "      <th>lval</th>\n",
       "      <th>rval</th>\n",
       "    </tr>\n",
       "  </thead>\n",
       "  <tbody>\n",
       "    <tr>\n",
       "      <th>0</th>\n",
       "      <td>foo</td>\n",
       "      <td>1</td>\n",
       "      <td>5.0</td>\n",
       "    </tr>\n",
       "    <tr>\n",
       "      <th>1</th>\n",
       "      <td>foo</td>\n",
       "      <td>1</td>\n",
       "      <td>6.0</td>\n",
       "    </tr>\n",
       "    <tr>\n",
       "      <th>2</th>\n",
       "      <td>boo</td>\n",
       "      <td>2</td>\n",
       "      <td>NaN</td>\n",
       "    </tr>\n",
       "    <tr>\n",
       "      <th>3</th>\n",
       "      <td>foo</td>\n",
       "      <td>3</td>\n",
       "      <td>5.0</td>\n",
       "    </tr>\n",
       "    <tr>\n",
       "      <th>4</th>\n",
       "      <td>foo</td>\n",
       "      <td>3</td>\n",
       "      <td>6.0</td>\n",
       "    </tr>\n",
       "  </tbody>\n",
       "</table>\n",
       "</div>"
      ],
      "text/plain": [
       "   key  lval  rval\n",
       "0  foo     1   5.0\n",
       "1  foo     1   6.0\n",
       "2  boo     2   NaN\n",
       "3  foo     3   5.0\n",
       "4  foo     3   6.0"
      ]
     },
     "execution_count": 99,
     "metadata": {},
     "output_type": "execute_result"
    }
   ],
   "source": [
    "pd.merge(left, right, on='key', how='left')"
   ]
  },
  {
   "cell_type": "markdown",
   "metadata": {},
   "source": [
    "## Append\n",
    "\n",
    "Append rows to a dataframe. See the [Appending](http://pandas.pydata.org/pandas-docs/stable/merging.html#merging-concatenation)"
   ]
  },
  {
   "cell_type": "code",
   "execution_count": null,
   "metadata": {
    "collapsed": false
   },
   "outputs": [],
   "source": [
    "df = pd.DataFrame(np.random.randn(8, 4), columns=['A','B','C','D'])\n",
    "df"
   ]
  },
  {
   "cell_type": "code",
   "execution_count": null,
   "metadata": {
    "collapsed": false
   },
   "outputs": [],
   "source": [
    "s = df.iloc[3]\n",
    "df.append(s, ignore_index=True)"
   ]
  },
  {
   "cell_type": "markdown",
   "metadata": {},
   "source": [
    "# Grouping\n",
    "By “group by” we are referring to a process involving one or more of the following steps\n",
    "- Splitting the data into groups based on some criteria\n",
    "- Applying a function to each group independently\n",
    "- Combining the results into a data structure\n",
    "\n",
    "See the [Grouping section](http://pandas.pydata.org/pandas-docs/stable/groupby.html#groupby)"
   ]
  },
  {
   "cell_type": "code",
   "execution_count": null,
   "metadata": {
    "collapsed": false
   },
   "outputs": [],
   "source": [
    "df = pd.DataFrame({'A' : ['foo', 'bar', 'foo', 'bar',\n",
    "   ....:                           'foo', 'bar', 'foo', 'foo'],\n",
    "   ....:                    'B' : ['one', 'one', 'two', 'three',\n",
    "   ....:                           'two', 'two', 'one', 'three'],\n",
    "   ....:                    'C' : np.random.randn(8),\n",
    "   ....:                    'D' : np.random.randn(8)})\n",
    "   ....: \n",
    "\n",
    "df"
   ]
  },
  {
   "cell_type": "markdown",
   "metadata": {},
   "source": [
    "Grouping and then applying a function sum to the resulting groups."
   ]
  },
  {
   "cell_type": "code",
   "execution_count": null,
   "metadata": {
    "collapsed": false
   },
   "outputs": [],
   "source": [
    "df.groupby('A').sum()"
   ]
  },
  {
   "cell_type": "markdown",
   "metadata": {},
   "source": [
    "Grouping by multiple columns forms a hierarchical index, which we then apply the function."
   ]
  },
  {
   "cell_type": "code",
   "execution_count": null,
   "metadata": {
    "collapsed": false
   },
   "outputs": [],
   "source": [
    "df.groupby(['A','B']).sum()"
   ]
  },
  {
   "cell_type": "markdown",
   "metadata": {},
   "source": [
    "# Reshaping\n",
    "See the sections on [Hierarchical Indexing](http://pandas.pydata.org/pandas-docs/stable/advanced.html#advanced-hierarchical) and [Reshaping](http://pandas.pydata.org/pandas-docs/stable/reshaping.html#reshaping-stacking).\n",
    "\n",
    "## Stack"
   ]
  },
  {
   "cell_type": "code",
   "execution_count": null,
   "metadata": {
    "collapsed": false
   },
   "outputs": [],
   "source": [
    "tuples = list(zip(*[['bar', 'bar', 'baz', 'baz',\n",
    "   ....:                      'foo', 'foo', 'qux', 'qux'],\n",
    "   ....:                     ['one', 'two', 'one', 'two',\n",
    "   ....:                      'one', 'two', 'one', 'two']]))\n",
    "   ....: \n",
    "\n",
    "index = pd.MultiIndex.from_tuples(tuples, names=['first', 'second'])\n",
    "\n",
    "df = pd.DataFrame(np.random.randn(8, 2), index=index, columns=['A', 'B'])\n",
    "df2 = df[:4]\n",
    "df2"
   ]
  },
  {
   "cell_type": "markdown",
   "metadata": {},
   "source": [
    "The `stack()` method “compresses” a level in the DataFrame’s columns."
   ]
  },
  {
   "cell_type": "code",
   "execution_count": null,
   "metadata": {
    "collapsed": false
   },
   "outputs": [],
   "source": [
    "stacked = df2.stack()\n",
    "stacked"
   ]
  },
  {
   "cell_type": "markdown",
   "metadata": {},
   "source": [
    "With a “stacked” DataFrame or Series (having a `MultiIndex` as the index), the inverse operation of `stack()` is `unstack()`, which by default unstacks the ***last level***:"
   ]
  },
  {
   "cell_type": "code",
   "execution_count": null,
   "metadata": {
    "collapsed": false
   },
   "outputs": [],
   "source": [
    "stacked.unstack()"
   ]
  },
  {
   "cell_type": "code",
   "execution_count": null,
   "metadata": {
    "collapsed": false
   },
   "outputs": [],
   "source": [
    "stacked.unstack(1)"
   ]
  },
  {
   "cell_type": "code",
   "execution_count": null,
   "metadata": {
    "collapsed": false
   },
   "outputs": [],
   "source": [
    "stacked.unstack(0)"
   ]
  },
  {
   "cell_type": "markdown",
   "metadata": {},
   "source": [
    "## Pivot Tables\n",
    "\n",
    "See the section on [Pivot Tables](http://pandas.pydata.org/pandas-docs/stable/reshaping.html#reshaping-pivot).\n",
    "\n",
    "In [100]: "
   ]
  },
  {
   "cell_type": "code",
   "execution_count": null,
   "metadata": {
    "collapsed": false
   },
   "outputs": [],
   "source": [
    "df = pd.DataFrame({'A' : ['one', 'one', 'two', 'three'] * 3,\n",
    "   .....:                    'B' : ['A', 'B', 'C'] * 4,\n",
    "   .....:                    'C' : ['foo', 'foo', 'foo', 'bar', 'bar', 'bar'] * 2,\n",
    "   .....:                    'D' : np.random.randn(12),\n",
    "   .....:                    'E' : np.random.randn(12)})\n",
    "   .....: \n",
    "\n",
    "df"
   ]
  },
  {
   "cell_type": "markdown",
   "metadata": {},
   "source": [
    "We can produce pivot tables from this data very easily:"
   ]
  },
  {
   "cell_type": "code",
   "execution_count": null,
   "metadata": {
    "collapsed": false
   },
   "outputs": [],
   "source": [
    "pd.pivot_table(df, values='D', index=['A', 'B'], columns=['C'])"
   ]
  },
  {
   "cell_type": "markdown",
   "metadata": {},
   "source": [
    "# Time Series\n",
    "pandas has simple, powerful, and efficient functionality for performing resampling operations during frequency conversion (e.g., converting secondly data into 5-minutely data). This is extremely common in, but not limited to, financial applications.\n",
    "See the [Time Series section](http://pandas.pydata.org/pandas-docs/stable/timeseries.html#timeseries)"
   ]
  },
  {
   "cell_type": "code",
   "execution_count": null,
   "metadata": {
    "collapsed": false
   },
   "outputs": [],
   "source": [
    "rng = pd.date_range('1/1/2012', periods=100, freq='S')\n",
    "ts = pd.Series(np.random.randint(0, 500, len(rng)), index=rng)\n",
    "ts.resample('5Min').sum()"
   ]
  },
  {
   "cell_type": "code",
   "execution_count": null,
   "metadata": {
    "collapsed": true
   },
   "outputs": [],
   "source": [
    "Out[105]: \n",
    "2012-01-01    25083\n",
    "Freq: 5T, dtype: int64"
   ]
  },
  {
   "cell_type": "markdown",
   "metadata": {},
   "source": [
    "Time zone representation"
   ]
  },
  {
   "cell_type": "code",
   "execution_count": null,
   "metadata": {
    "collapsed": false
   },
   "outputs": [],
   "source": [
    "rng = pd.date_range('3/6/2012 00:00', periods=5, freq='D')\n",
    "ts = pd.Series(np.random.randn(len(rng)), rng)\n",
    "ts"
   ]
  },
  {
   "cell_type": "code",
   "execution_count": null,
   "metadata": {
    "collapsed": false
   },
   "outputs": [],
   "source": [
    "ts_utc = ts.tz_localize('UTC')\n",
    "ts_utc"
   ]
  },
  {
   "cell_type": "markdown",
   "metadata": {},
   "source": [
    "Convert to another time zone"
   ]
  },
  {
   "cell_type": "code",
   "execution_count": null,
   "metadata": {
    "collapsed": false
   },
   "outputs": [],
   "source": [
    "ts_utc.tz_convert('US/Eastern')"
   ]
  },
  {
   "cell_type": "markdown",
   "metadata": {},
   "source": [
    "Converting between time span representations"
   ]
  },
  {
   "cell_type": "code",
   "execution_count": null,
   "metadata": {
    "collapsed": false
   },
   "outputs": [],
   "source": [
    "rng = pd.date_range('1/1/2012', periods=5, freq='M')\n",
    "ts = pd.Series(np.random.randn(len(rng)), index=rng)\n",
    "ts"
   ]
  },
  {
   "cell_type": "code",
   "execution_count": null,
   "metadata": {
    "collapsed": false
   },
   "outputs": [],
   "source": [
    "ps = ts.to_period()\n",
    "ps"
   ]
  },
  {
   "cell_type": "code",
   "execution_count": null,
   "metadata": {
    "collapsed": false
   },
   "outputs": [],
   "source": [
    "ps.to_timestamp()"
   ]
  },
  {
   "cell_type": "markdown",
   "metadata": {},
   "source": [
    "Converting between period and timestamp enables some convenient arithmetic functions to be used. In the following example, we convert a quarterly frequency with year ending in November to 9am of the end of the month following the quarter end:"
   ]
  },
  {
   "cell_type": "code",
   "execution_count": null,
   "metadata": {
    "collapsed": false
   },
   "outputs": [],
   "source": [
    "prng = pd.period_range('1990Q1', '2000Q4', freq='Q-NOV')\n",
    "ts = pd.Series(np.random.randn(len(prng)), prng)\n",
    "ts.index = (prng.asfreq('M', 'e') + 1).asfreq('H', 's') + 9\n",
    "ts.head()"
   ]
  },
  {
   "cell_type": "markdown",
   "metadata": {},
   "source": [
    "# Categoricals\n",
    "Since version 0.15, pandas can include categorical data in a DataFrame. For full docs, see the [categorical introduction](http://pandas.pydata.org/pandas-docs/stable/categorical.html#categorical) and the [API documentation](http://pandas.pydata.org/pandas-docs/stable/api.html#api-categorical)."
   ]
  },
  {
   "cell_type": "code",
   "execution_count": null,
   "metadata": {
    "collapsed": true
   },
   "outputs": [],
   "source": [
    "df = pd.DataFrame({\"id\":[1,2,3,4,5,6], \"raw_grade\":['a', 'b', 'b', 'a', 'a', 'e']})"
   ]
  },
  {
   "cell_type": "markdown",
   "metadata": {},
   "source": [
    "Convert the raw grades to a categorical data type."
   ]
  },
  {
   "cell_type": "code",
   "execution_count": null,
   "metadata": {
    "collapsed": false
   },
   "outputs": [],
   "source": [
    "df[\"grade\"] = df[\"raw_grade\"].astype(\"category\")\n",
    "df[\"grade\"]"
   ]
  },
  {
   "cell_type": "code",
   "execution_count": null,
   "metadata": {
    "collapsed": true
   },
   "outputs": [],
   "source": [
    "Out[124]: \n",
    "0    a\n",
    "1    b\n",
    "2    b\n",
    "3    a\n",
    "4    a\n",
    "5    e\n",
    "Name: grade, dtype: category\n",
    "Categories (3, object): [a, b, e]"
   ]
  },
  {
   "cell_type": "markdown",
   "metadata": {},
   "source": [
    "Rename the categories to more meaningful names (assigning to `Series.cat.categories` is inplace!)"
   ]
  },
  {
   "cell_type": "code",
   "execution_count": null,
   "metadata": {
    "collapsed": true
   },
   "outputs": [],
   "source": [
    "df[\"grade\"].cat.categories = [\"very good\", \"good\", \"very bad\"]"
   ]
  },
  {
   "cell_type": "markdown",
   "metadata": {},
   "source": [
    "Reorder the categories and simultaneously add the missing categories (methods under Series `.cat` return a new Series per default)."
   ]
  },
  {
   "cell_type": "code",
   "execution_count": null,
   "metadata": {
    "collapsed": false
   },
   "outputs": [],
   "source": [
    "df[\"grade\"] = df[\"grade\"].cat.set_categories([\"very bad\", \"bad\", \"medium\", \"good\", \"very good\"])\n",
    "df[\"grade\"]"
   ]
  },
  {
   "cell_type": "markdown",
   "metadata": {},
   "source": [
    "Sorting is per order in the categories, not lexical order."
   ]
  },
  {
   "cell_type": "code",
   "execution_count": null,
   "metadata": {
    "collapsed": false
   },
   "outputs": [],
   "source": [
    "df.sort_values(by=\"grade\")"
   ]
  },
  {
   "cell_type": "code",
   "execution_count": null,
   "metadata": {
    "collapsed": true
   },
   "outputs": [],
   "source": [
    "Out[128]: \n",
    "   id raw_grade      grade\n",
    "5   6         e   very bad\n",
    "1   2         b       good\n",
    "2   3         b       good\n",
    "0   1         a  very good\n",
    "3   4         a  very good\n",
    "4   5         a  very good"
   ]
  },
  {
   "cell_type": "markdown",
   "metadata": {},
   "source": [
    "Grouping by a categorical column shows also empty categories."
   ]
  },
  {
   "cell_type": "code",
   "execution_count": null,
   "metadata": {
    "collapsed": false
   },
   "outputs": [],
   "source": [
    "df.groupby(\"grade\").size()"
   ]
  },
  {
   "cell_type": "markdown",
   "metadata": {},
   "source": [
    "# Plotting\n",
    "[Plotting docs](http://pandas.pydata.org/pandas-docs/stable/visualization.html#visualization)."
   ]
  },
  {
   "cell_type": "code",
   "execution_count": null,
   "metadata": {
    "collapsed": true
   },
   "outputs": [],
   "source": [
    "ts = pd.Series(np.random.randn(1000), index=pd.date_range('1/1/2000', periods=1000))\n",
    "ts = ts.cumsum()"
   ]
  },
  {
   "cell_type": "code",
   "execution_count": null,
   "metadata": {
    "collapsed": false
   },
   "outputs": [],
   "source": [
    "%matplotlib inline\n",
    "ts.plot()"
   ]
  },
  {
   "cell_type": "markdown",
   "metadata": {},
   "source": [
    "On DataFrame, `plot()` is a convenience to plot all of the columns with labels:"
   ]
  },
  {
   "cell_type": "code",
   "execution_count": null,
   "metadata": {
    "collapsed": false
   },
   "outputs": [],
   "source": [
    "df = pd.DataFrame(np.random.randn(1000, 4), index=ts.index,\n",
    "   .....:                   columns=['A', 'B', 'C', 'D'])\n",
    "   .....: \n",
    "\n",
    "df = df.cumsum()\n",
    "\n",
    "%matplotlib inline\n",
    "plt.figure(); df.plot(); plt.legend(loc='best')"
   ]
  },
  {
   "cell_type": "markdown",
   "metadata": {},
   "source": [
    "# Getting Data In/Out\n",
    "## CSV\n",
    "\n",
    "[Writing to a csv file](http://pandas.pydata.org/pandas-docs/stable/io.html#io-store-in-csv)"
   ]
  },
  {
   "cell_type": "code",
   "execution_count": null,
   "metadata": {
    "collapsed": true
   },
   "outputs": [],
   "source": [
    "df.to_csv('foo.csv')"
   ]
  },
  {
   "cell_type": "markdown",
   "metadata": {},
   "source": [
    "[Reading from a csv file](http://pandas.pydata.org/pandas-docs/stable/io.html#io-read-csv-table)"
   ]
  },
  {
   "cell_type": "code",
   "execution_count": null,
   "metadata": {
    "collapsed": true
   },
   "outputs": [],
   "source": [
    "pd.read_csv('foo.csv')"
   ]
  },
  {
   "cell_type": "markdown",
   "metadata": {},
   "source": [
    "## HDF5\n",
    "\n",
    "Reading and writing to [HDFStores](http://pandas.pydata.org/pandas-docs/stable/io.html#io-hdf5)\n",
    "\n",
    "Writing to a HDF5 Store"
   ]
  },
  {
   "cell_type": "code",
   "execution_count": null,
   "metadata": {
    "collapsed": false
   },
   "outputs": [],
   "source": [
    "## df.to_hdf('foo.h5','df')"
   ]
  },
  {
   "cell_type": "markdown",
   "metadata": {},
   "source": [
    "Reading from a HDF5 Store"
   ]
  },
  {
   "cell_type": "code",
   "execution_count": null,
   "metadata": {
    "collapsed": true
   },
   "outputs": [],
   "source": [
    "## pd.read_hdf('foo.h5','df')"
   ]
  },
  {
   "cell_type": "markdown",
   "metadata": {},
   "source": [
    "## Excel\n",
    "\n",
    "Reading and writing to [MS Excel](http://pandas.pydata.org/pandas-docs/stable/io.html#io-excel)\n",
    "\n",
    "Writing to an excel file"
   ]
  },
  {
   "cell_type": "code",
   "execution_count": null,
   "metadata": {
    "collapsed": true
   },
   "outputs": [],
   "source": [
    "df.to_excel('foo.xlsx', sheet_name='Sheet1')"
   ]
  },
  {
   "cell_type": "markdown",
   "metadata": {},
   "source": [
    "Reading from an excel file"
   ]
  },
  {
   "cell_type": "code",
   "execution_count": null,
   "metadata": {
    "collapsed": false,
    "scrolled": true
   },
   "outputs": [],
   "source": [
    "pd.read_excel('foo.xlsx', 'Sheet1', index_col=None, na_values=['NA'])"
   ]
  },
  {
   "cell_type": "markdown",
   "metadata": {},
   "source": [
    "# Gotchas\n",
    "If you are trying an operation and you see an exception like:\n",
    "<pre>    \n",
    "&gt;&gt;&gt; if pd.Series([False, True, False]):\n",
    "    print(\"I was true\")\n",
    "Traceback\n",
    "    ...\n",
    "\n",
    "ValueError: The truth value of an array is ambiguous. Use a.empty, a.any() or a.all().\n",
    "</pre>\n",
    "\n",
    "See [Comparisons](http://pandas.pydata.org/pandas-docs/stable/basics.html#basics-compare) for an explanation and what to do.\n",
    "\n",
    "See [Gotchas](http://pandas.pydata.org/pandas-docs/stable/gotchas.html#gotchas) as well."
   ]
  },
  {
   "cell_type": "code",
   "execution_count": null,
   "metadata": {
    "collapsed": true
   },
   "outputs": [],
   "source": []
  },
  {
   "cell_type": "code",
   "execution_count": null,
   "metadata": {
    "collapsed": true
   },
   "outputs": [],
   "source": []
  },
  {
   "cell_type": "code",
   "execution_count": null,
   "metadata": {
    "collapsed": true
   },
   "outputs": [],
   "source": []
  }
 ],
 "metadata": {
  "kernelspec": {
   "display_name": "Python 3",
   "language": "python",
   "name": "python3"
  },
  "language_info": {
   "codemirror_mode": {
    "name": "ipython",
    "version": 3
   },
   "file_extension": ".py",
   "mimetype": "text/x-python",
   "name": "python",
   "nbconvert_exporter": "python",
   "pygments_lexer": "ipython3",
   "version": "3.4.3"
  }
 },
 "nbformat": 4,
 "nbformat_minor": 0
}
