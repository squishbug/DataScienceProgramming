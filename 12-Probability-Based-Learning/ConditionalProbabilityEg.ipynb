{
 "cells": [
  {
   "cell_type": "code",
   "execution_count": 44,
   "metadata": {
    "ExecuteTime": {
     "end_time": "2017-11-19T14:28:50.772460",
     "start_time": "2017-11-19T14:28:50.768423"
    },
    "collapsed": true
   },
   "outputs": [],
   "source": [
    "import pandas as pd\n",
    "import numpy as np\n",
    "from __future__ import division # this is to avoid problems when we divide integers (remember 3/5=0 in Python 2, unless we do this step)"
   ]
  },
  {
   "cell_type": "code",
   "execution_count": 47,
   "metadata": {
    "ExecuteTime": {
     "end_time": "2017-11-19T14:29:23.619796",
     "start_time": "2017-11-19T14:29:23.586257"
    },
    "collapsed": false
   },
   "outputs": [
    {
     "data": {
      "text/html": [
       "<div>\n",
       "<table border=\"1\" class=\"dataframe\">\n",
       "  <thead>\n",
       "    <tr style=\"text-align: right;\">\n",
       "      <th></th>\n",
       "      <th>ID</th>\n",
       "      <th>Headache</th>\n",
       "      <th>Fever</th>\n",
       "      <th>Vomiting</th>\n",
       "      <th>Meningitis</th>\n",
       "    </tr>\n",
       "  </thead>\n",
       "  <tbody>\n",
       "    <tr>\n",
       "      <th>0</th>\n",
       "      <td>1</td>\n",
       "      <td>true</td>\n",
       "      <td>true</td>\n",
       "      <td>false</td>\n",
       "      <td>false</td>\n",
       "    </tr>\n",
       "    <tr>\n",
       "      <th>1</th>\n",
       "      <td>2</td>\n",
       "      <td>false</td>\n",
       "      <td>true</td>\n",
       "      <td>false</td>\n",
       "      <td>false</td>\n",
       "    </tr>\n",
       "    <tr>\n",
       "      <th>2</th>\n",
       "      <td>3</td>\n",
       "      <td>true</td>\n",
       "      <td>false</td>\n",
       "      <td>true</td>\n",
       "      <td>false</td>\n",
       "    </tr>\n",
       "    <tr>\n",
       "      <th>3</th>\n",
       "      <td>4</td>\n",
       "      <td>true</td>\n",
       "      <td>false</td>\n",
       "      <td>true</td>\n",
       "      <td>false</td>\n",
       "    </tr>\n",
       "    <tr>\n",
       "      <th>4</th>\n",
       "      <td>5</td>\n",
       "      <td>false</td>\n",
       "      <td>true</td>\n",
       "      <td>false</td>\n",
       "      <td>true</td>\n",
       "    </tr>\n",
       "  </tbody>\n",
       "</table>\n",
       "</div>"
      ],
      "text/plain": [
       "   ID   Headache      Fever   Vomiting Meningitis\n",
       "0   1     true       true      false        false\n",
       "1   2    false       true      false        false\n",
       "2   3     true      false       true        false\n",
       "3   4     true      false       true        false\n",
       "4   5    false       true      false         true"
      ]
     },
     "execution_count": 47,
     "metadata": {},
     "output_type": "execute_result"
    }
   ],
   "source": [
    "# read in Ch 6 data on Meningitis diagnosis\n",
    "df = pd.read_csv('./Table6-1.csv', skiprows=[0], names=['ID', 'Headache', 'Fever', 'Vomiting', 'Meningitis'])\n",
    "\n",
    "df.head()"
   ]
  },
  {
   "cell_type": "markdown",
   "metadata": {},
   "source": [
    "## Applying Bayes' Theorem to Meningitis Diagnosing"
   ]
  },
  {
   "cell_type": "code",
   "execution_count": 51,
   "metadata": {
    "ExecuteTime": {
     "end_time": "2017-11-19T14:31:23.566548",
     "start_time": "2017-11-19T14:31:23.532713"
    },
    "collapsed": false
   },
   "outputs": [],
   "source": [
    "# from the data, probability of having headache, no fever, and vomiting, regardless of meningitis diagnosis\n",
    "Phnfv = len(df[np.logical_and(df.Headache.str.strip()=='true', np.logical_and(df.Fever.str.strip()=='false', df.Vomiting.str.strip()=='true'))])/len(df)\n",
    "\n",
    "# from the data, probability of having meningitis, regardless of symptoms\n",
    "Pm = sum(df.Meningitis.str.strip()=='true')/len(df)\n",
    "\n",
    "# from the data, probability of having headache, no fever, and vomiting, given a positive meningitis diagnosis\n",
    "Phnfv_g_m = len(df[np.logical_and(df.Meningitis.str.strip()=='true',np.logical_and(df.Headache.str.strip()=='true', np.logical_and(df.Fever.str.strip()=='false', df.Vomiting.str.strip()=='true')))])/sum(df.Meningitis.str.strip()=='true')"
   ]
  },
  {
   "cell_type": "code",
   "execution_count": 52,
   "metadata": {
    "ExecuteTime": {
     "end_time": "2017-11-19T14:33:10.232882",
     "start_time": "2017-11-19T14:33:10.225752"
    },
    "collapsed": false
   },
   "outputs": [
    {
     "data": {
      "text/plain": [
       "0.33333333333333331"
      ]
     },
     "execution_count": 52,
     "metadata": {},
     "output_type": "execute_result"
    }
   ],
   "source": [
    "# Bayes' Theorem: \n",
    "# P(meningitis|headache, no fever, vomiting) = P(headache, no fever, vomiting|meningitis)P(meningitis)/P(headache, no fever, vomiting)\n",
    "# ... so probability that the patient with headache, no fever and vomiting has meningitis is:\n",
    "Phnfv_g_m*Pm/Phnfv"
   ]
  },
  {
   "cell_type": "markdown",
   "metadata": {},
   "source": [
    "## Using Naive Bayes"
   ]
  },
  {
   "cell_type": "code",
   "execution_count": 59,
   "metadata": {
    "ExecuteTime": {
     "end_time": "2017-11-19T14:36:38.694479",
     "start_time": "2017-11-19T14:36:38.634938"
    },
    "collapsed": true
   },
   "outputs": [],
   "source": [
    "# probability of headache given positive meningitis diagnosis\n",
    "Ph_g_m = len(df[np.logical_and(df.Meningitis.str.strip()=='true',df.Headache.str.strip()=='true')])/sum(df.Meningitis.str.strip()=='true')\n",
    "\n",
    "# probability of no fever given positive meningitis diagnosis\n",
    "Pnf_g_m = len(df[np.logical_and(df.Meningitis.str.strip()=='true',df.Fever.str.strip()=='false')])/sum(df.Meningitis.str.strip()=='true')\n",
    "\n",
    "# probability of vomiting given positive meningitis diagnosis\n",
    "Pv_g_m = len(df[np.logical_and(df.Meningitis.str.strip()=='true',df.Vomiting.str.strip()=='true')])/sum(df.Meningitis.str.strip()=='true')\n",
    "\n",
    "# probability of headache given negative meningitis diagnosis\n",
    "Ph_g_nm = len(df[np.logical_and(df.Meningitis.str.strip()=='false',df.Headache.str.strip()=='true')])/sum(df.Meningitis.str.strip()=='false')\n",
    "\n",
    "# probability of no fever given negative meningitis diagnosis\n",
    "Pnf_g_nm = len(df[np.logical_and(df.Meningitis.str.strip()=='false',df.Fever.str.strip()=='false')])/sum(df.Meningitis.str.strip()=='false')\n",
    "\n",
    "# probability of vomiting, given negative meningitis diagnosis\n",
    "Pv_g_nm = len(df[np.logical_and(df.Meningitis.str.strip()=='false',df.Vomiting.str.strip()=='true')])/sum(df.Meningitis.str.strip()=='false')"
   ]
  },
  {
   "cell_type": "code",
   "execution_count": 60,
   "metadata": {
    "ExecuteTime": {
     "end_time": "2017-11-19T14:36:39.919432",
     "start_time": "2017-11-19T14:36:39.915859"
    },
    "collapsed": false
   },
   "outputs": [
    {
     "name": "stdout",
     "output_type": "stream",
     "text": [
      "0.666666666667 0.666666666667 0.666666666667\n"
     ]
    }
   ],
   "source": [
    "# to sum it up, here are the probabilities of headache, no fever, and vomiting, given a positive meningitis diagnosis...\n",
    "print Ph_g_m, Pnf_g_m, Pv_g_m"
   ]
  },
  {
   "cell_type": "code",
   "execution_count": 41,
   "metadata": {
    "ExecuteTime": {
     "end_time": "2017-11-13T21:41:26.892333",
     "start_time": "2017-11-13T21:41:26.888430"
    },
    "collapsed": false
   },
   "outputs": [
    {
     "name": "stdout",
     "output_type": "stream",
     "text": [
      "0.714285714286 0.571428571429 0.571428571429\n"
     ]
    }
   ],
   "source": [
    "# ... and here are the probabilities of headache, no fever, and vomiting, given a negative meningitis diagnosis\n",
    "print Ph_g_nm, Pnf_g_nm, Pv_g_nm"
   ]
  },
  {
   "cell_type": "code",
   "execution_count": 62,
   "metadata": {
    "ExecuteTime": {
     "end_time": "2017-11-19T14:39:36.036136",
     "start_time": "2017-11-19T14:39:36.027775"
    },
    "collapsed": false
   },
   "outputs": [
    {
     "data": {
      "text/plain": [
       "0.25215419501133784"
      ]
     },
     "execution_count": 62,
     "metadata": {},
     "output_type": "execute_result"
    }
   ],
   "source": [
    "# overall probability of having headache, no fever, and vomiting (assuming conditional independence between all symptoms)\n",
    "# (this is the denominator for naive Bayes estimator)\n",
    "Ph_g_m*Pnf_g_m*Pv_g_m*Pm + Ph_g_nm*Pnf_g_nm*Pv_g_nm*(1-Pm)"
   ]
  },
  {
   "cell_type": "code",
   "execution_count": 63,
   "metadata": {
    "ExecuteTime": {
     "end_time": "2017-11-19T14:40:21.775696",
     "start_time": "2017-11-19T14:40:21.769088"
    },
    "collapsed": false,
    "scrolled": true
   },
   "outputs": [
    {
     "data": {
      "text/plain": [
       "0.088888888888888878"
      ]
     },
     "execution_count": 63,
     "metadata": {},
     "output_type": "execute_result"
    }
   ],
   "source": [
    "# probability of headache, no fever, and vomiting (assuming conditional independence between all symptoms)\n",
    "# (this is the numerator for naive Bayes estimator)\n",
    "Ph_g_m*Pnf_g_m*Pv_g_m*Pm"
   ]
  },
  {
   "cell_type": "code",
   "execution_count": 64,
   "metadata": {
    "ExecuteTime": {
     "end_time": "2017-11-19T14:40:26.438942",
     "start_time": "2017-11-19T14:40:26.433598"
    },
    "collapsed": false
   },
   "outputs": [
    {
     "data": {
      "text/plain": [
       "0.35251798561151076"
      ]
     },
     "execution_count": 64,
     "metadata": {},
     "output_type": "execute_result"
    }
   ],
   "source": [
    "# Naive Bayes: assuming that all symptoms are conditionally independent,\n",
    "# P(meningitis|headache, no fever, vomiting) = P(headache|meningitis)P(no fever|meningitis)P(vomiting|meningitis)P(meningitis)/ \n",
    "#                                                       (P(headache|meningitis)P(no fever|meningitis)P(vomiting|meningitis)P(meningitis)+\n",
    "#                                                          P(headache|no meningitis)P(no fever|no meningitis)P(vomiting|no meningitis)P(no meningitis))\n",
    "# so probability of meningitis given headache, no fever, and vomiting is approx.:\n",
    "Ph_g_m*Pnf_g_m*Pv_g_m*Pm/(Ph_g_m*Pnf_g_m*Pv_g_m*Pm + Ph_g_nm*Pnf_g_nm*Pv_g_nm*(1-Pm))"
   ]
  }
 ],
 "metadata": {
  "kernelspec": {
   "display_name": "Python 2",
   "language": "python",
   "name": "python2"
  },
  "language_info": {
   "codemirror_mode": {
    "name": "ipython",
    "version": 2
   },
   "file_extension": ".py",
   "mimetype": "text/x-python",
   "name": "python",
   "nbconvert_exporter": "python",
   "pygments_lexer": "ipython2",
   "version": "2.7.5"
  },
  "toc": {
   "nav_menu": {
    "height": "12px",
    "width": "252px"
   },
   "navigate_menu": true,
   "number_sections": true,
   "sideBar": true,
   "threshold": 4,
   "toc_cell": false,
   "toc_section_display": "block",
   "toc_window_display": false
  }
 },
 "nbformat": 4,
 "nbformat_minor": 0
}
