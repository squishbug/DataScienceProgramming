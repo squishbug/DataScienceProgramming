{
 "cells": [
  {
   "cell_type": "markdown",
   "metadata": {},
   "source": [
    "# Atlanta Police Department\n",
    "![APD Logo](https://atlantapd.galls.com/photos/partners/atlantapd/logo.jpg)\n",
    "\n",
    "\n",
    "The Atlanta Police Department provides Part 1 crime data at http://www.atlantapd.org/i-want-to/crime-data-downloads\n",
    "\n",
    "A recent copy of the data file is stored in the cluster. <span style=\"color: red; font-weight: bold;\">Please, do not copy this data file into your home directory!</span>"
   ]
  },
  {
   "cell_type": "markdown",
   "metadata": {},
   "source": [
    "# Introduction\n",
    "\n",
    "\n",
    "- This notebooks leads into an exploration of public crime data provided by the Atlanta Police Department.\n",
    "- The original data set and supplemental information can be found at http://www.atlantapd.org/i-want-to/crime-data-downloads\n",
    "- **The data set is available on ARC, please, don't download into your home directory on ARC!**"
   ]
  },
  {
   "cell_type": "code",
   "execution_count": 1,
   "metadata": {
    "ExecuteTime": {
     "end_time": "2017-10-02T19:37:17.426197",
     "start_time": "2017-10-02T19:37:16.239699"
    },
    "collapsed": true
   },
   "outputs": [],
   "source": [
    "import numpy as np\n",
    "import pandas as pd \n",
    "%matplotlib inline\n",
    "import matplotlib.pyplot as plt"
   ]
  },
  {
   "cell_type": "code",
   "execution_count": 2,
   "metadata": {
    "ExecuteTime": {
     "end_time": "2017-10-02T19:37:20.012594",
     "start_time": "2017-10-02T19:37:19.669380"
    },
    "collapsed": false
   },
   "outputs": [
    {
     "name": "stdout",
     "output_type": "stream",
     "text": [
      "Shape of table:  (17425, 23)\n"
     ]
    }
   ],
   "source": [
    "# load data set\n",
    "df = pd.read_csv('/home/data/APD/COBRA-YTD2017.csv.gz')\n",
    "print \"Shape of table: \", df.shape"
   ]
  },
  {
   "cell_type": "markdown",
   "metadata": {
    "ExecuteTime": {
     "end_time": "2017-10-02T08:59:00.075648",
     "start_time": "2017-10-02T08:59:00.072119"
    }
   },
   "source": [
    "## Creating a data key"
   ]
  },
  {
   "cell_type": "markdown",
   "metadata": {},
   "source": [
    "Let's look at the structure of this table. We're actually creating some text output that can be used to create a data dictionary."
   ]
  },
  {
   "cell_type": "code",
   "execution_count": 3,
   "metadata": {
    "ExecuteTime": {
     "end_time": "2017-10-02T19:38:39.436551",
     "start_time": "2017-10-02T19:38:39.413826"
    },
    "collapsed": false
   },
   "outputs": [],
   "source": [
    "dataDict = pd.DataFrame({'DataType': df.dtypes.values, 'Description': '', }, index=df.columns.values)"
   ]
  },
  {
   "cell_type": "code",
   "execution_count": 4,
   "metadata": {
    "ExecuteTime": {
     "end_time": "2017-10-02T19:38:44.756505",
     "start_time": "2017-10-02T19:38:44.699550"
    },
    "collapsed": false,
    "scrolled": false
   },
   "outputs": [
    {
     "data": {
      "text/html": [
       "<div>\n",
       "<table border=\"1\" class=\"dataframe\">\n",
       "  <thead>\n",
       "    <tr style=\"text-align: right;\">\n",
       "      <th></th>\n",
       "      <th>DataType</th>\n",
       "      <th>Description</th>\n",
       "    </tr>\n",
       "  </thead>\n",
       "  <tbody>\n",
       "    <tr>\n",
       "      <th>MI_PRINX</th>\n",
       "      <td>int64</td>\n",
       "      <td></td>\n",
       "    </tr>\n",
       "    <tr>\n",
       "      <th>offense_id</th>\n",
       "      <td>int64</td>\n",
       "      <td></td>\n",
       "    </tr>\n",
       "    <tr>\n",
       "      <th>rpt_date</th>\n",
       "      <td>object</td>\n",
       "      <td></td>\n",
       "    </tr>\n",
       "    <tr>\n",
       "      <th>occur_date</th>\n",
       "      <td>object</td>\n",
       "      <td></td>\n",
       "    </tr>\n",
       "    <tr>\n",
       "      <th>occur_time</th>\n",
       "      <td>object</td>\n",
       "      <td></td>\n",
       "    </tr>\n",
       "    <tr>\n",
       "      <th>poss_date</th>\n",
       "      <td>object</td>\n",
       "      <td></td>\n",
       "    </tr>\n",
       "    <tr>\n",
       "      <th>poss_time</th>\n",
       "      <td>object</td>\n",
       "      <td></td>\n",
       "    </tr>\n",
       "    <tr>\n",
       "      <th>beat</th>\n",
       "      <td>int64</td>\n",
       "      <td></td>\n",
       "    </tr>\n",
       "    <tr>\n",
       "      <th>apt_office_prefix</th>\n",
       "      <td>object</td>\n",
       "      <td></td>\n",
       "    </tr>\n",
       "    <tr>\n",
       "      <th>apt_office_num</th>\n",
       "      <td>object</td>\n",
       "      <td></td>\n",
       "    </tr>\n",
       "    <tr>\n",
       "      <th>location</th>\n",
       "      <td>object</td>\n",
       "      <td></td>\n",
       "    </tr>\n",
       "    <tr>\n",
       "      <th>MinOfucr</th>\n",
       "      <td>int64</td>\n",
       "      <td></td>\n",
       "    </tr>\n",
       "    <tr>\n",
       "      <th>MinOfibr_code</th>\n",
       "      <td>object</td>\n",
       "      <td></td>\n",
       "    </tr>\n",
       "    <tr>\n",
       "      <th>dispo_code</th>\n",
       "      <td>object</td>\n",
       "      <td></td>\n",
       "    </tr>\n",
       "    <tr>\n",
       "      <th>MaxOfnum_victims</th>\n",
       "      <td>float64</td>\n",
       "      <td></td>\n",
       "    </tr>\n",
       "    <tr>\n",
       "      <th>Shift</th>\n",
       "      <td>object</td>\n",
       "      <td></td>\n",
       "    </tr>\n",
       "    <tr>\n",
       "      <th>Avg Day</th>\n",
       "      <td>object</td>\n",
       "      <td></td>\n",
       "    </tr>\n",
       "    <tr>\n",
       "      <th>loc_type</th>\n",
       "      <td>float64</td>\n",
       "      <td></td>\n",
       "    </tr>\n",
       "    <tr>\n",
       "      <th>UC2 Literal</th>\n",
       "      <td>object</td>\n",
       "      <td></td>\n",
       "    </tr>\n",
       "    <tr>\n",
       "      <th>neighborhood</th>\n",
       "      <td>object</td>\n",
       "      <td></td>\n",
       "    </tr>\n",
       "    <tr>\n",
       "      <th>npu</th>\n",
       "      <td>object</td>\n",
       "      <td></td>\n",
       "    </tr>\n",
       "    <tr>\n",
       "      <th>x</th>\n",
       "      <td>float64</td>\n",
       "      <td></td>\n",
       "    </tr>\n",
       "    <tr>\n",
       "      <th>y</th>\n",
       "      <td>float64</td>\n",
       "      <td></td>\n",
       "    </tr>\n",
       "  </tbody>\n",
       "</table>\n",
       "</div>"
      ],
      "text/plain": [
       "                  DataType Description\n",
       "MI_PRINX             int64            \n",
       "offense_id           int64            \n",
       "rpt_date            object            \n",
       "occur_date          object            \n",
       "occur_time          object            \n",
       "poss_date           object            \n",
       "poss_time           object            \n",
       "beat                 int64            \n",
       "apt_office_prefix   object            \n",
       "apt_office_num      object            \n",
       "location            object            \n",
       "MinOfucr             int64            \n",
       "MinOfibr_code       object            \n",
       "dispo_code          object            \n",
       "MaxOfnum_victims   float64            \n",
       "Shift               object            \n",
       "Avg Day             object            \n",
       "loc_type           float64            \n",
       "UC2 Literal         object            \n",
       "neighborhood        object            \n",
       "npu                 object            \n",
       "x                  float64            \n",
       "y                  float64            "
      ]
     },
     "execution_count": 4,
     "metadata": {},
     "output_type": "execute_result"
    }
   ],
   "source": [
    "dataDict"
   ]
  },
  {
   "cell_type": "markdown",
   "metadata": {},
   "source": [
    "We need to enter the descriptions for each entry in our dictionary manually..."
   ]
  },
  {
   "cell_type": "code",
   "execution_count": 5,
   "metadata": {
    "ExecuteTime": {
     "end_time": "2017-10-02T19:40:41.585504",
     "start_time": "2017-10-02T19:40:41.518315"
    },
    "collapsed": true
   },
   "outputs": [],
   "source": [
    "dataDict.loc['MI_PRINX'].Description = '' # type: int64\n",
    "dataDict.loc['offense_id'].Description = 'Unique ID in the format YYDDDNNNN with the year YY, the day of the year DDD and a counter NNNN' # type: int64\n",
    "dataDict.loc['rpt_date'].Description = 'Date the crime was reported' # type: object\n",
    "dataDict.loc['occur_date'].Description = 'Estimated date when the crime occured' # type: object\n",
    "dataDict.loc['occur_time'].Description = 'Estimated time when the crime occured' # type: object\n",
    "dataDict.loc['poss_date'].Description = '' # type: object\n",
    "dataDict.loc['poss_time'].Description = '' # type: object\n",
    "dataDict.loc['beat'].Description = '' # type: int64\n",
    "dataDict.loc['apt_office_prefix'].Description = '' # type: object\n",
    "dataDict.loc['apt_office_num'].Description = '' # type: object\n",
    "dataDict.loc['location'].Description = '' # type: object\n",
    "dataDict.loc['MinOfucr'].Description = '' # type: int64\n",
    "dataDict.loc['MinOfibr_code'].Description = '' # type: object\n",
    "dataDict.loc['dispo_code'].Description = '' # type: object\n",
    "dataDict.loc['MaxOfnum_victims'].Description = '' # type: float64\n",
    "dataDict.loc['Shift'].Description = 'Zones have 8 or 10 hour shifts' # type: object\n",
    "dataDict.loc['Avg Day'].Description = '' # type: object\n",
    "dataDict.loc['loc_type'].Description = '' # type: float64\n",
    "dataDict.loc['UC2 Literal'].Description = '' # type: object\n",
    "dataDict.loc['neighborhood'].Description = '' # type: object\n",
    "dataDict.loc['npu'].Description = '' # type: object\n",
    "dataDict.loc['x'].Description = '' # type: float64\n",
    "dataDict.loc['y'].Description = '' # type: float64\n",
    "dataDict.to_csv(\"COBRA_Data_Dictionary.csv\")"
   ]
  },
  {
   "cell_type": "code",
   "execution_count": 6,
   "metadata": {
    "ExecuteTime": {
     "end_time": "2017-10-02T19:40:56.734758",
     "start_time": "2017-10-02T19:40:56.691871"
    },
    "collapsed": false
   },
   "outputs": [
    {
     "data": {
      "text/html": [
       "<div>\n",
       "<table border=\"1\" class=\"dataframe\">\n",
       "  <thead>\n",
       "    <tr style=\"text-align: right;\">\n",
       "      <th></th>\n",
       "      <th>DataType</th>\n",
       "      <th>Description</th>\n",
       "    </tr>\n",
       "  </thead>\n",
       "  <tbody>\n",
       "    <tr>\n",
       "      <th>MI_PRINX</th>\n",
       "      <td>int64</td>\n",
       "      <td></td>\n",
       "    </tr>\n",
       "    <tr>\n",
       "      <th>offense_id</th>\n",
       "      <td>int64</td>\n",
       "      <td>Unique ID in the format YYDDDNNNN with the yea...</td>\n",
       "    </tr>\n",
       "    <tr>\n",
       "      <th>rpt_date</th>\n",
       "      <td>object</td>\n",
       "      <td>Date the crime was reported</td>\n",
       "    </tr>\n",
       "    <tr>\n",
       "      <th>occur_date</th>\n",
       "      <td>object</td>\n",
       "      <td>Estimated date when the crime occured</td>\n",
       "    </tr>\n",
       "    <tr>\n",
       "      <th>occur_time</th>\n",
       "      <td>object</td>\n",
       "      <td>Estimated time when the crime occured</td>\n",
       "    </tr>\n",
       "    <tr>\n",
       "      <th>poss_date</th>\n",
       "      <td>object</td>\n",
       "      <td></td>\n",
       "    </tr>\n",
       "    <tr>\n",
       "      <th>poss_time</th>\n",
       "      <td>object</td>\n",
       "      <td></td>\n",
       "    </tr>\n",
       "    <tr>\n",
       "      <th>beat</th>\n",
       "      <td>int64</td>\n",
       "      <td></td>\n",
       "    </tr>\n",
       "    <tr>\n",
       "      <th>apt_office_prefix</th>\n",
       "      <td>object</td>\n",
       "      <td></td>\n",
       "    </tr>\n",
       "    <tr>\n",
       "      <th>apt_office_num</th>\n",
       "      <td>object</td>\n",
       "      <td></td>\n",
       "    </tr>\n",
       "    <tr>\n",
       "      <th>location</th>\n",
       "      <td>object</td>\n",
       "      <td></td>\n",
       "    </tr>\n",
       "    <tr>\n",
       "      <th>MinOfucr</th>\n",
       "      <td>int64</td>\n",
       "      <td></td>\n",
       "    </tr>\n",
       "    <tr>\n",
       "      <th>MinOfibr_code</th>\n",
       "      <td>object</td>\n",
       "      <td></td>\n",
       "    </tr>\n",
       "    <tr>\n",
       "      <th>dispo_code</th>\n",
       "      <td>object</td>\n",
       "      <td></td>\n",
       "    </tr>\n",
       "    <tr>\n",
       "      <th>MaxOfnum_victims</th>\n",
       "      <td>float64</td>\n",
       "      <td></td>\n",
       "    </tr>\n",
       "    <tr>\n",
       "      <th>Shift</th>\n",
       "      <td>object</td>\n",
       "      <td>Zones have 8 or 10 hour shifts</td>\n",
       "    </tr>\n",
       "    <tr>\n",
       "      <th>Avg Day</th>\n",
       "      <td>object</td>\n",
       "      <td></td>\n",
       "    </tr>\n",
       "    <tr>\n",
       "      <th>loc_type</th>\n",
       "      <td>float64</td>\n",
       "      <td></td>\n",
       "    </tr>\n",
       "    <tr>\n",
       "      <th>UC2 Literal</th>\n",
       "      <td>object</td>\n",
       "      <td></td>\n",
       "    </tr>\n",
       "    <tr>\n",
       "      <th>neighborhood</th>\n",
       "      <td>object</td>\n",
       "      <td></td>\n",
       "    </tr>\n",
       "    <tr>\n",
       "      <th>npu</th>\n",
       "      <td>object</td>\n",
       "      <td></td>\n",
       "    </tr>\n",
       "    <tr>\n",
       "      <th>x</th>\n",
       "      <td>float64</td>\n",
       "      <td></td>\n",
       "    </tr>\n",
       "    <tr>\n",
       "      <th>y</th>\n",
       "      <td>float64</td>\n",
       "      <td></td>\n",
       "    </tr>\n",
       "  </tbody>\n",
       "</table>\n",
       "</div>"
      ],
      "text/plain": [
       "                  DataType                                        Description\n",
       "MI_PRINX             int64                                                   \n",
       "offense_id           int64  Unique ID in the format YYDDDNNNN with the yea...\n",
       "rpt_date            object                        Date the crime was reported\n",
       "occur_date          object              Estimated date when the crime occured\n",
       "occur_time          object              Estimated time when the crime occured\n",
       "poss_date           object                                                   \n",
       "poss_time           object                                                   \n",
       "beat                 int64                                                   \n",
       "apt_office_prefix   object                                                   \n",
       "apt_office_num      object                                                   \n",
       "location            object                                                   \n",
       "MinOfucr             int64                                                   \n",
       "MinOfibr_code       object                                                   \n",
       "dispo_code          object                                                   \n",
       "MaxOfnum_victims   float64                                                   \n",
       "Shift               object                     Zones have 8 or 10 hour shifts\n",
       "Avg Day             object                                                   \n",
       "loc_type           float64                                                   \n",
       "UC2 Literal         object                                                   \n",
       "neighborhood        object                                                   \n",
       "npu                 object                                                   \n",
       "x                  float64                                                   \n",
       "y                  float64                                                   "
      ]
     },
     "execution_count": 6,
     "metadata": {},
     "output_type": "execute_result"
    }
   ],
   "source": [
    "dataDict"
   ]
  },
  {
   "cell_type": "markdown",
   "metadata": {},
   "source": [
    "## What is object"
   ]
  },
  {
   "cell_type": "markdown",
   "metadata": {},
   "source": [
    "Let's take a look at what we've got..."
   ]
  },
  {
   "cell_type": "code",
   "execution_count": null,
   "metadata": {
    "ExecuteTime": {
     "end_time": "2017-10-02T10:21:11.369399",
     "start_time": "2017-10-02T10:21:11.315668"
    },
    "collapsed": false
   },
   "outputs": [],
   "source": [
    "dataDict"
   ]
  },
  {
   "cell_type": "markdown",
   "metadata": {},
   "source": [
    "What is \"object?\""
   ]
  },
  {
   "cell_type": "code",
   "execution_count": 7,
   "metadata": {
    "ExecuteTime": {
     "end_time": "2017-10-02T19:42:48.269876",
     "start_time": "2017-10-02T19:42:48.225122"
    },
    "collapsed": false
   },
   "outputs": [
    {
     "name": "stdout",
     "output_type": "stream",
     "text": [
      "Index([u'Day', u'Eve', u'Morn', u'Unk'], dtype='object', name=u'Shift')\n"
     ]
    }
   ],
   "source": [
    "print df.groupby(\"Shift\").count().index"
   ]
  },
  {
   "cell_type": "markdown",
   "metadata": {},
   "source": [
    "This shows that \"shift\" is a unicode string..."
   ]
  },
  {
   "cell_type": "markdown",
   "metadata": {},
   "source": [
    "## Date and Time\n",
    "- Working with dates can be tricky. Often dates and times are coded as strings and need to be converted to a date and time data format.\n",
    "- Python provides a module `datetime` to deal with converting parsing and formatting dates and times. See https://docs.python.org/2/library/datetime.html\n",
    "- The `pandas` package provides functionality to convert text fields into date/time fields...given the values adhere to a given format. See http://pandas.pydata.org/pandas-docs/version/0.20/generated/pandas.to_datetime.html"
   ]
  },
  {
   "cell_type": "markdown",
   "metadata": {},
   "source": [
    "### Create a proper text field\n",
    "In order to use the text to date/time converter our text columns need to have the appropriate format."
   ]
  },
  {
   "cell_type": "code",
   "execution_count": 8,
   "metadata": {
    "ExecuteTime": {
     "end_time": "2017-10-02T19:47:03.454254",
     "start_time": "2017-10-02T19:47:01.892309"
    },
    "collapsed": false,
    "scrolled": false
   },
   "outputs": [
    {
     "data": {
      "text/plain": [
       "0    09/06/2017 00:00:00\n",
       "1    09/06/2017 00:00:00\n",
       "2    09/06/2017 00:00:00\n",
       "3    09/06/2017 00:00:00\n",
       "4    09/06/2017 00:00:00\n",
       "5    09/06/2017 00:00:00\n",
       "6    09/06/2017 00:00:00\n",
       "7    09/06/2017 00:00:00\n",
       "8    09/06/2017 00:00:00\n",
       "9    09/06/2017 00:00:00\n",
       "dtype: object"
      ]
     },
     "execution_count": 8,
     "metadata": {},
     "output_type": "execute_result"
    }
   ],
   "source": [
    "# function currying\n",
    "def fixdatetime(fld):\n",
    "    def _fix(s):\n",
    "        date_col = '%s_date' % fld # \"rpt_date\"\n",
    "        time_col = '%s_time' % fld # \"rpt_time\"\n",
    "        if time_col in s.index:\n",
    "            return str(s[date_col])+' '+str(s[time_col])\n",
    "        else:\n",
    "            return str(s[date_col])+' 00:00:00'\n",
    "    return _fix\n",
    "\n",
    "df.apply(fixdatetime('rpt'), axis=1)[:10]\n",
    "# df.apply(_fix, axis=1)"
   ]
  },
  {
   "cell_type": "markdown",
   "metadata": {},
   "source": [
    "## Convert Time Columns"
   ]
  },
  {
   "cell_type": "markdown",
   "metadata": {},
   "source": [
    "Please refer to the following resources for working with time series data in pandas:\n",
    "- https://pandas.pydata.org/pandas-docs/stable/timeseries.html\n",
    "- https://pandas.pydata.org/pandas-docs/stable/api.html#id10"
   ]
  },
  {
   "cell_type": "code",
   "execution_count": 9,
   "metadata": {
    "ExecuteTime": {
     "end_time": "2017-10-02T19:59:13.729494",
     "start_time": "2017-10-02T19:58:58.813959"
    },
    "collapsed": false
   },
   "outputs": [],
   "source": [
    "for col in ['rpt', 'occur', 'poss']:\n",
    "    datser = df.apply(fixdatetime(col), axis=1)\n",
    "    df['%s_dt'%col] = pd.to_datetime(datser, format=\"%m/%d/%Y %H:%M:%S\", errors='coerce')"
   ]
  },
  {
   "cell_type": "code",
   "execution_count": 10,
   "metadata": {
    "ExecuteTime": {
     "end_time": "2017-10-02T19:59:13.852635",
     "start_time": "2017-10-02T19:59:13.732295"
    },
    "collapsed": false,
    "scrolled": false
   },
   "outputs": [
    {
     "data": {
      "text/html": [
       "<div>\n",
       "<table border=\"1\" class=\"dataframe\">\n",
       "  <thead>\n",
       "    <tr style=\"text-align: right;\">\n",
       "      <th></th>\n",
       "      <th>MI_PRINX</th>\n",
       "      <th>offense_id</th>\n",
       "      <th>rpt_date</th>\n",
       "      <th>occur_date</th>\n",
       "      <th>occur_time</th>\n",
       "      <th>poss_date</th>\n",
       "      <th>poss_time</th>\n",
       "      <th>beat</th>\n",
       "      <th>apt_office_prefix</th>\n",
       "      <th>apt_office_num</th>\n",
       "      <th>...</th>\n",
       "      <th>Avg Day</th>\n",
       "      <th>loc_type</th>\n",
       "      <th>UC2 Literal</th>\n",
       "      <th>neighborhood</th>\n",
       "      <th>npu</th>\n",
       "      <th>x</th>\n",
       "      <th>y</th>\n",
       "      <th>rpt_dt</th>\n",
       "      <th>occur_dt</th>\n",
       "      <th>poss_dt</th>\n",
       "    </tr>\n",
       "  </thead>\n",
       "  <tbody>\n",
       "    <tr>\n",
       "      <th>0</th>\n",
       "      <td>7693210</td>\n",
       "      <td>172490115</td>\n",
       "      <td>09/06/2017</td>\n",
       "      <td>09/06/2017</td>\n",
       "      <td>00:30:00</td>\n",
       "      <td>09/06/2017</td>\n",
       "      <td>00:35:00</td>\n",
       "      <td>607</td>\n",
       "      <td>NaN</td>\n",
       "      <td>NaN</td>\n",
       "      <td>...</td>\n",
       "      <td>Wed</td>\n",
       "      <td>NaN</td>\n",
       "      <td>AGG ASSAULT</td>\n",
       "      <td>Custer/McDonough/Guice</td>\n",
       "      <td>W</td>\n",
       "      <td>-84.35850</td>\n",
       "      <td>33.70839</td>\n",
       "      <td>2017-09-06</td>\n",
       "      <td>2017-09-06 00:30:00</td>\n",
       "      <td>2017-09-06 00:35:00</td>\n",
       "    </tr>\n",
       "    <tr>\n",
       "      <th>1</th>\n",
       "      <td>7693211</td>\n",
       "      <td>172490265</td>\n",
       "      <td>09/06/2017</td>\n",
       "      <td>09/05/2017</td>\n",
       "      <td>11:15:00</td>\n",
       "      <td>09/06/2017</td>\n",
       "      <td>02:30:00</td>\n",
       "      <td>512</td>\n",
       "      <td>NaN</td>\n",
       "      <td>NaN</td>\n",
       "      <td>...</td>\n",
       "      <td>Tue</td>\n",
       "      <td>99.0</td>\n",
       "      <td>LARCENY-FROM VEHICLE</td>\n",
       "      <td>Downtown</td>\n",
       "      <td>M</td>\n",
       "      <td>-84.39736</td>\n",
       "      <td>33.74958</td>\n",
       "      <td>2017-09-06</td>\n",
       "      <td>2017-09-05 11:15:00</td>\n",
       "      <td>2017-09-06 02:30:00</td>\n",
       "    </tr>\n",
       "    <tr>\n",
       "      <th>2</th>\n",
       "      <td>7693212</td>\n",
       "      <td>172490322</td>\n",
       "      <td>09/06/2017</td>\n",
       "      <td>09/06/2017</td>\n",
       "      <td>03:15:00</td>\n",
       "      <td>09/06/2017</td>\n",
       "      <td>03:45:00</td>\n",
       "      <td>501</td>\n",
       "      <td>NaN</td>\n",
       "      <td>NaN</td>\n",
       "      <td>...</td>\n",
       "      <td>Wed</td>\n",
       "      <td>18.0</td>\n",
       "      <td>LARCENY-FROM VEHICLE</td>\n",
       "      <td>Atlantic Station</td>\n",
       "      <td>E</td>\n",
       "      <td>-84.39776</td>\n",
       "      <td>33.79072</td>\n",
       "      <td>2017-09-06</td>\n",
       "      <td>2017-09-06 03:15:00</td>\n",
       "      <td>2017-09-06 03:45:00</td>\n",
       "    </tr>\n",
       "    <tr>\n",
       "      <th>3</th>\n",
       "      <td>7693213</td>\n",
       "      <td>172490390</td>\n",
       "      <td>09/06/2017</td>\n",
       "      <td>09/05/2017</td>\n",
       "      <td>17:45:00</td>\n",
       "      <td>09/06/2017</td>\n",
       "      <td>04:57:00</td>\n",
       "      <td>207</td>\n",
       "      <td>NaN</td>\n",
       "      <td>NaN</td>\n",
       "      <td>...</td>\n",
       "      <td>Tue</td>\n",
       "      <td>18.0</td>\n",
       "      <td>LARCENY-FROM VEHICLE</td>\n",
       "      <td>Brookwood Hills</td>\n",
       "      <td>E</td>\n",
       "      <td>-84.39361</td>\n",
       "      <td>33.80774</td>\n",
       "      <td>2017-09-06</td>\n",
       "      <td>2017-09-05 17:45:00</td>\n",
       "      <td>2017-09-06 04:57:00</td>\n",
       "    </tr>\n",
       "    <tr>\n",
       "      <th>4</th>\n",
       "      <td>7693214</td>\n",
       "      <td>172490401</td>\n",
       "      <td>09/06/2017</td>\n",
       "      <td>09/05/2017</td>\n",
       "      <td>17:00:00</td>\n",
       "      <td>09/06/2017</td>\n",
       "      <td>05:00:00</td>\n",
       "      <td>203</td>\n",
       "      <td>NaN</td>\n",
       "      <td>NaN</td>\n",
       "      <td>...</td>\n",
       "      <td>Tue</td>\n",
       "      <td>18.0</td>\n",
       "      <td>LARCENY-FROM VEHICLE</td>\n",
       "      <td>Hills Park</td>\n",
       "      <td>D</td>\n",
       "      <td>-84.43337</td>\n",
       "      <td>33.79848</td>\n",
       "      <td>2017-09-06</td>\n",
       "      <td>2017-09-05 17:00:00</td>\n",
       "      <td>2017-09-06 05:00:00</td>\n",
       "    </tr>\n",
       "  </tbody>\n",
       "</table>\n",
       "<p>5 rows × 26 columns</p>\n",
       "</div>"
      ],
      "text/plain": [
       "   MI_PRINX  offense_id    rpt_date  occur_date occur_time   poss_date  \\\n",
       "0   7693210   172490115  09/06/2017  09/06/2017   00:30:00  09/06/2017   \n",
       "1   7693211   172490265  09/06/2017  09/05/2017   11:15:00  09/06/2017   \n",
       "2   7693212   172490322  09/06/2017  09/06/2017   03:15:00  09/06/2017   \n",
       "3   7693213   172490390  09/06/2017  09/05/2017   17:45:00  09/06/2017   \n",
       "4   7693214   172490401  09/06/2017  09/05/2017   17:00:00  09/06/2017   \n",
       "\n",
       "  poss_time  beat apt_office_prefix apt_office_num         ...          \\\n",
       "0  00:35:00   607               NaN            NaN         ...           \n",
       "1  02:30:00   512               NaN            NaN         ...           \n",
       "2  03:45:00   501               NaN            NaN         ...           \n",
       "3  04:57:00   207               NaN            NaN         ...           \n",
       "4  05:00:00   203               NaN            NaN         ...           \n",
       "\n",
       "  Avg Day  loc_type           UC2 Literal            neighborhood  npu  \\\n",
       "0     Wed       NaN           AGG ASSAULT  Custer/McDonough/Guice    W   \n",
       "1     Tue      99.0  LARCENY-FROM VEHICLE                Downtown    M   \n",
       "2     Wed      18.0  LARCENY-FROM VEHICLE        Atlantic Station    E   \n",
       "3     Tue      18.0  LARCENY-FROM VEHICLE         Brookwood Hills    E   \n",
       "4     Tue      18.0  LARCENY-FROM VEHICLE              Hills Park    D   \n",
       "\n",
       "          x         y     rpt_dt            occur_dt             poss_dt  \n",
       "0 -84.35850  33.70839 2017-09-06 2017-09-06 00:30:00 2017-09-06 00:35:00  \n",
       "1 -84.39736  33.74958 2017-09-06 2017-09-05 11:15:00 2017-09-06 02:30:00  \n",
       "2 -84.39776  33.79072 2017-09-06 2017-09-06 03:15:00 2017-09-06 03:45:00  \n",
       "3 -84.39361  33.80774 2017-09-06 2017-09-05 17:45:00 2017-09-06 04:57:00  \n",
       "4 -84.43337  33.79848 2017-09-06 2017-09-05 17:00:00 2017-09-06 05:00:00  \n",
       "\n",
       "[5 rows x 26 columns]"
      ]
     },
     "execution_count": 10,
     "metadata": {},
     "output_type": "execute_result"
    }
   ],
   "source": [
    "df.head()"
   ]
  },
  {
   "cell_type": "code",
   "execution_count": 11,
   "metadata": {
    "ExecuteTime": {
     "end_time": "2017-10-02T20:18:45.962021",
     "start_time": "2017-10-02T20:18:45.956141"
    },
    "collapsed": true
   },
   "outputs": [],
   "source": [
    "def fun1(x):\n",
    "    def _inner1(y):\n",
    "        print x, \" + \", y, \" = \", x+y\n",
    "    return _inner1"
   ]
  },
  {
   "cell_type": "code",
   "execution_count": 12,
   "metadata": {
    "ExecuteTime": {
     "end_time": "2017-10-02T20:19:10.164787",
     "start_time": "2017-10-02T20:19:10.161497"
    },
    "collapsed": true
   },
   "outputs": [],
   "source": [
    "showname = fun1('name:')"
   ]
  },
  {
   "cell_type": "code",
   "execution_count": 13,
   "metadata": {
    "ExecuteTime": {
     "end_time": "2017-10-02T20:19:18.456072",
     "start_time": "2017-10-02T20:19:18.450196"
    },
    "collapsed": false
   },
   "outputs": [
    {
     "data": {
      "text/plain": [
       "function"
      ]
     },
     "execution_count": 13,
     "metadata": {},
     "output_type": "execute_result"
    }
   ],
   "source": [
    "type(showname)"
   ]
  },
  {
   "cell_type": "code",
   "execution_count": 14,
   "metadata": {
    "ExecuteTime": {
     "end_time": "2017-10-02T20:19:31.929059",
     "start_time": "2017-10-02T20:19:31.925080"
    },
    "collapsed": false
   },
   "outputs": [
    {
     "name": "stdout",
     "output_type": "stream",
     "text": [
      "name:  +  Bob  =  name:Bob\n"
     ]
    }
   ],
   "source": [
    "showname('Bob')"
   ]
  },
  {
   "cell_type": "code",
   "execution_count": 15,
   "metadata": {
    "ExecuteTime": {
     "end_time": "2017-10-02T20:20:18.479825",
     "start_time": "2017-10-02T20:20:18.475495"
    },
    "collapsed": true
   },
   "outputs": [],
   "source": [
    "addthree = fun1(3)"
   ]
  },
  {
   "cell_type": "code",
   "execution_count": 16,
   "metadata": {
    "ExecuteTime": {
     "end_time": "2017-10-02T20:20:22.876282",
     "start_time": "2017-10-02T20:20:22.872316"
    },
    "collapsed": false
   },
   "outputs": [
    {
     "name": "stdout",
     "output_type": "stream",
     "text": [
      "3  +  5  =  8\n"
     ]
    }
   ],
   "source": [
    "addthree(5)"
   ]
  },
  {
   "cell_type": "markdown",
   "metadata": {},
   "source": [
    "What's the date range of the data?"
   ]
  },
  {
   "cell_type": "code",
   "execution_count": 17,
   "metadata": {
    "ExecuteTime": {
     "end_time": "2017-10-02T20:22:11.796880",
     "start_time": "2017-10-02T20:22:11.789868"
    },
    "collapsed": false,
    "scrolled": true
   },
   "outputs": [
    {
     "name": "stdout",
     "output_type": "stream",
     "text": [
      "1916-12-30 20:00:00 --- 2017-09-06 20:50:00\n"
     ]
    }
   ],
   "source": [
    "print df.occur_dt.min(), '---', df.occur_dt.max()"
   ]
  },
  {
   "cell_type": "markdown",
   "metadata": {
    "ExecuteTime": {
     "end_time": "2017-10-02T09:29:24.291962",
     "start_time": "2017-10-02T09:29:24.286774"
    }
   },
   "source": [
    "Actual years from which we have data..."
   ]
  },
  {
   "cell_type": "code",
   "execution_count": 18,
   "metadata": {
    "ExecuteTime": {
     "end_time": "2017-10-02T20:23:00.217083",
     "start_time": "2017-10-02T20:22:59.939724"
    },
    "collapsed": false
   },
   "outputs": [
    {
     "data": {
      "text/plain": [
       "[1916.0, 2008.0, 2010.0, 2011.0, 2012.0, 2013.0, 2015.0, 2016.0, 2017.0, nan]"
      ]
     },
     "execution_count": 18,
     "metadata": {},
     "output_type": "execute_result"
    }
   ],
   "source": [
    "sorted(df.occur_dt.map(lambda d: d.year).unique())"
   ]
  },
  {
   "cell_type": "markdown",
   "metadata": {},
   "source": [
    "This is an odd assortment of years... let's look at number of crimes reported each year"
   ]
  },
  {
   "cell_type": "code",
   "execution_count": 21,
   "metadata": {
    "ExecuteTime": {
     "end_time": "2017-10-02T20:27:14.083062",
     "start_time": "2017-10-02T20:27:13.998946"
    },
    "collapsed": false
   },
   "outputs": [
    {
     "data": {
      "text/plain": [
       "occur_dt\n",
       "2017-12-31    17218\n",
       "Freq: A-DEC, Name: offense_id, dtype: int64"
      ]
     },
     "execution_count": 21,
     "metadata": {},
     "output_type": "execute_result"
    }
   ],
   "source": [
    "# resample is like \"groupby\" for time\n",
    "df.resample('A-DEC', closed='right', on='occur_dt').offense_id.count()\n",
    "# df['Year'] = df.occur_dt.map(lambda d: d.year)\n",
    "# df2 = df[(df.Year>=2010) & (df.Year<=2017)]\n",
    "# df2.shape, df.shape"
   ]
  },
  {
   "cell_type": "markdown",
   "metadata": {},
   "source": [
    "Looks like most of the data is actually from 2017! Let's throw the rest away..."
   ]
  },
  {
   "cell_type": "code",
   "execution_count": 20,
   "metadata": {
    "ExecuteTime": {
     "end_time": "2017-10-02T20:26:54.218421",
     "start_time": "2017-10-02T20:26:54.200602"
    },
    "collapsed": false
   },
   "outputs": [],
   "source": [
    "df = df[df.occur_dt>='01/01/2017']"
   ]
  },
  {
   "cell_type": "markdown",
   "metadata": {},
   "source": [
    "# Time Series and Plotting\n",
    "The Pandas package provides a number of plotting features. Let's try them out.\n",
    "- https://pandas.pydata.org/pandas-docs/stable/api.html#api-dataframe-plotting\n",
    "- https://pandas.pydata.org/pandas-docs/stable/generated/pandas.DataFrame.boxplot.html\n"
   ]
  },
  {
   "cell_type": "markdown",
   "metadata": {
    "ExecuteTime": {
     "end_time": "2017-10-02T10:27:11.463007",
     "start_time": "2017-10-02T10:27:11.459373"
    }
   },
   "source": [
    "### What time of day do different types of crimes most often occur at?"
   ]
  },
  {
   "cell_type": "markdown",
   "metadata": {},
   "source": [
    "Types of crimes in the database:"
   ]
  },
  {
   "cell_type": "code",
   "execution_count": 22,
   "metadata": {
    "ExecuteTime": {
     "end_time": "2017-10-02T20:28:30.325995",
     "start_time": "2017-10-02T20:28:30.319642"
    },
    "collapsed": false,
    "scrolled": true
   },
   "outputs": [
    {
     "name": "stdout",
     "output_type": "stream",
     "text": [
      "AGG ASSAULT\n",
      "AUTO THEFT\n",
      "BURGLARY-NONRES\n",
      "BURGLARY-RESIDENCE\n",
      "HOMICIDE\n",
      "LARCENY-FROM VEHICLE\n",
      "LARCENY-NON VEHICLE\n",
      "RAPE\n",
      "ROBBERY-COMMERCIAL\n",
      "ROBBERY-PEDESTRIAN\n",
      "ROBBERY-RESIDENCE\n"
     ]
    }
   ],
   "source": [
    "print \"\\n\".join(sorted(df['UC2 Literal'].unique()))"
   ]
  },
  {
   "cell_type": "code",
   "execution_count": 23,
   "metadata": {
    "ExecuteTime": {
     "end_time": "2017-10-02T20:30:01.126035",
     "start_time": "2017-10-02T20:30:00.404428"
    },
    "collapsed": false
   },
   "outputs": [],
   "source": [
    "df['oct'] = pd.to_timedelta(df.occur_time) # estimated time of ocurence in timedelta format"
   ]
  },
  {
   "cell_type": "code",
   "execution_count": 24,
   "metadata": {
    "ExecuteTime": {
     "end_time": "2017-10-02T20:31:40.097044",
     "start_time": "2017-10-02T20:31:39.948758"
    },
    "collapsed": true
   },
   "outputs": [],
   "source": [
    "# Let's take a closer look at a few selected examples of crime...\n",
    "vehicle_larceny = df[df['UC2 Literal']=='LARCENY-FROM VEHICLE'].resample('1H', closed='right', on='oct').offense_id.count()\n",
    "pedestrian_robbery = df[df['UC2 Literal']=='ROBBERY-PEDESTRIAN'].resample('1H', closed='right', on='oct').offense_id.count()\n",
    "residence_burglary = df[df['UC2 Literal']=='BURGLARY-RESIDENCE'].resample('1H', closed='right', on='oct').offense_id.count()\n",
    "assault = df[df['UC2 Literal']=='AGG ASSAULT'].resample('1H', closed='right', on='oct').offense_id.count()"
   ]
  },
  {
   "cell_type": "code",
   "execution_count": 25,
   "metadata": {
    "ExecuteTime": {
     "end_time": "2017-10-02T20:32:48.068419",
     "start_time": "2017-10-02T20:32:47.368193"
    },
    "collapsed": false
   },
   "outputs": [
    {
     "data": {
      "image/png": "[encoded data removed]",
      "text/plain": [
       "<matplotlib.figure.Figure at 0x5597790>"
      ]
     },
     "metadata": {},
     "output_type": "display_data"
    }
   ],
   "source": [
    "fig = plt.figure(figsize=(8,4));\n",
    "plt.plot_date(vehicle_larceny.index, vehicle_larceny.values);\n",
    "plt.title('Vehilce Larceny by Time of Day');\n",
    "plt.xlabel('Time (24h format)');\n",
    "plt.ylabel('Number of incidents');"
   ]
  },
  {
   "cell_type": "code",
   "execution_count": 26,
   "metadata": {
    "ExecuteTime": {
     "end_time": "2017-10-02T20:33:56.154335",
     "start_time": "2017-10-02T20:33:55.601232"
    },
    "collapsed": false,
    "scrolled": true
   },
   "outputs": [
    {
     "data": {
      "image/png": "[encoded data removed]",
      "text/plain": [
       "<matplotlib.figure.Figure at 0x616fa50>"
      ]
     },
     "metadata": {},
     "output_type": "display_data"
    }
   ],
   "source": [
    "fig = plt.figure(figsize=(8,4));\n",
    "plt.plot_date(pedestrian_robbery.index, pedestrian_robbery.values);\n",
    "plt.title('Pedestrian Robbery by Time of Day');\n",
    "plt.xlabel('Time (24h format)');\n",
    "plt.ylabel('Number of incidents');"
   ]
  },
  {
   "cell_type": "code",
   "execution_count": 27,
   "metadata": {
    "ExecuteTime": {
     "end_time": "2017-10-02T20:34:40.908365",
     "start_time": "2017-10-02T20:34:40.220228"
    },
    "collapsed": false,
    "scrolled": true
   },
   "outputs": [
    {
     "data": {
      "image/png": "[encoded data removed]",
      "text/plain": [
       "<matplotlib.figure.Figure at 0x63cb1d0>"
      ]
     },
     "metadata": {},
     "output_type": "display_data"
    }
   ],
   "source": [
    "fig = plt.figure(figsize=(8,4));\n",
    "plt.plot_date(residence_burglary.index, residence_burglary.values);\n",
    "plt.title('Residence Burglary by Time of Day');\n",
    "plt.xlabel('Time (24h format)');\n",
    "plt.ylabel('Number of incidents');"
   ]
  },
  {
   "cell_type": "code",
   "execution_count": 28,
   "metadata": {
    "ExecuteTime": {
     "end_time": "2017-10-02T20:35:00.776264",
     "start_time": "2017-10-02T20:35:00.199877"
    },
    "collapsed": false,
    "scrolled": true
   },
   "outputs": [
    {
     "data": {
      "image/png": "[encoded data removed]",
      "text/plain": [
       "<matplotlib.figure.Figure at 0x65bf510>"
      ]
     },
     "metadata": {},
     "output_type": "display_data"
    }
   ],
   "source": [
    "fig = plt.figure(figsize=(8,4));\n",
    "plt.plot_date(assault.index, assault.values);\n",
    "plt.title('Aggrivated Assault by Time of Day');\n",
    "plt.xlabel('Time (24h format)');\n",
    "plt.ylabel('Number of incidents');"
   ]
  },
  {
   "cell_type": "markdown",
   "metadata": {
    "ExecuteTime": {
     "end_time": "2017-10-02T10:54:42.719318",
     "start_time": "2017-10-02T10:54:42.716346"
    }
   },
   "source": [
    "### Are crimes seasonal?"
   ]
  },
  {
   "cell_type": "code",
   "execution_count": 29,
   "metadata": {
    "ExecuteTime": {
     "end_time": "2017-10-02T20:36:33.289138",
     "start_time": "2017-10-02T20:36:33.155301"
    },
    "collapsed": true
   },
   "outputs": [],
   "source": [
    "# Let's take a closer look at a few selected examples of crime...\n",
    "seasonal_vehicle_larceny = df[df['UC2 Literal']=='LARCENY-FROM VEHICLE'].resample('M', closed='right', on='occur_dt').offense_id.count()\n",
    "seasonal_pedestrian_robbery = df[df['UC2 Literal']=='ROBBERY-PEDESTRIAN'].resample('M', closed='right', on='occur_dt').offense_id.count()\n",
    "seasonal_residence_burglary = df[df['UC2 Literal']=='BURGLARY-RESIDENCE'].resample('M', closed='right', on='occur_dt').offense_id.count()\n",
    "seasonal_assault = df[df['UC2 Literal']=='AGG ASSAULT'].resample('M', closed='right', on='occur_dt').offense_id.count()\n",
    "seasonal_rape = df[df['UC2 Literal']=='RAPE'].resample('M', closed='right', on='occur_dt').offense_id.count()"
   ]
  },
  {
   "cell_type": "code",
   "execution_count": 30,
   "metadata": {
    "ExecuteTime": {
     "end_time": "2017-10-02T20:36:45.250483",
     "start_time": "2017-10-02T20:36:44.699396"
    },
    "collapsed": false,
    "scrolled": false
   },
   "outputs": [
    {
     "data": {
      "image/png": "[encoded data removed]",
      "text/plain": [
       "<matplotlib.figure.Figure at 0x59a51d0>"
      ]
     },
     "metadata": {},
     "output_type": "display_data"
    }
   ],
   "source": [
    "fig = plt.figure(figsize=(8,4));\n",
    "plt.plot_date(seasonal_vehicle_larceny.index, seasonal_vehicle_larceny.values);\n",
    "plt.title('Vehilce Larceny by Time of Year');\n",
    "plt.xlabel('Time (24h format)');\n",
    "plt.ylabel('Number of incidents');"
   ]
  },
  {
   "cell_type": "code",
   "execution_count": 31,
   "metadata": {
    "ExecuteTime": {
     "end_time": "2017-10-02T20:37:11.701849",
     "start_time": "2017-10-02T20:37:11.098186"
    },
    "collapsed": false,
    "scrolled": true
   },
   "outputs": [
    {
     "data": {
      "image/png": "[encoded data removed]",
      "text/plain": [
       "<matplotlib.figure.Figure at 0x62bb5d0>"
      ]
     },
     "metadata": {},
     "output_type": "display_data"
    }
   ],
   "source": [
    "fig = plt.figure(figsize=(8,4));\n",
    "plt.plot_date(seasonal_pedestrian_robbery.index, seasonal_pedestrian_robbery.values);\n",
    "plt.title('Pedestrian Robbery by Time of Year');\n",
    "plt.xlabel('Time (24h format)');\n",
    "plt.ylabel('Number of incidents');"
   ]
  },
  {
   "cell_type": "code",
   "execution_count": 32,
   "metadata": {
    "ExecuteTime": {
     "end_time": "2017-10-02T20:37:29.239587",
     "start_time": "2017-10-02T20:37:28.688735"
    },
    "collapsed": false,
    "scrolled": true
   },
   "outputs": [
    {
     "data": {
      "image/png": "[encoded data removed]",
      "text/plain": [
       "<matplotlib.figure.Figure at 0x69d07d0>"
      ]
     },
     "metadata": {},
     "output_type": "display_data"
    }
   ],
   "source": [
    "fig = plt.figure(figsize=(8,4));\n",
    "plt.plot_date(seasonal_residence_burglary.index, seasonal_residence_burglary.values);\n",
    "plt.title('Residence Burglary by Time of Year');\n",
    "plt.xlabel('Time (24h format)');\n",
    "plt.ylabel('Number of incidents');"
   ]
  },
  {
   "cell_type": "code",
   "execution_count": 33,
   "metadata": {
    "ExecuteTime": {
     "end_time": "2017-10-02T20:37:36.780246",
     "start_time": "2017-10-02T20:37:36.256782"
    },
    "collapsed": false,
    "scrolled": true
   },
   "outputs": [
    {
     "data": {
      "image/png": "[encoded data removed]",
      "text/plain": [
       "<matplotlib.figure.Figure at 0x69c4bd0>"
      ]
     },
     "metadata": {},
     "output_type": "display_data"
    }
   ],
   "source": [
    "fig = plt.figure(figsize=(8,4));\n",
    "plt.plot_date(seasonal_assault.index, seasonal_assault.values);\n",
    "plt.title('Assault by Time of Year');\n",
    "plt.xlabel('Time (24h format)');\n",
    "plt.ylabel('Number of incidents');"
   ]
  },
  {
   "cell_type": "code",
   "execution_count": 34,
   "metadata": {
    "ExecuteTime": {
     "end_time": "2017-10-02T20:37:43.618332",
     "start_time": "2017-10-02T20:37:42.864590"
    },
    "collapsed": false,
    "scrolled": true
   },
   "outputs": [
    {
     "data": {
      "image/png": "[encoded data removed]",
      "text/plain": [
       "<matplotlib.figure.Figure at 0x6d83dd0>"
      ]
     },
     "metadata": {},
     "output_type": "display_data"
    }
   ],
   "source": [
    "fig = plt.figure(figsize=(8,4));\n",
    "plt.plot_date(seasonal_rape.index, seasonal_rape.values);\n",
    "plt.title('Rape by Time of Year');\n",
    "plt.xlabel('Time (24h format)');\n",
    "plt.ylabel('Number of incidents');"
   ]
  },
  {
   "cell_type": "markdown",
   "metadata": {},
   "source": [
    "# Descriptive Statistics\n",
    "https://pandas.pydata.org/pandas-docs/stable/basics.html#descriptive-statistics"
   ]
  },
  {
   "cell_type": "markdown",
   "metadata": {},
   "source": [
    "## Beats and Zones\n",
    "The City of Atlanta is divided into 6 zones, each with 12 to 14 beats. \n",
    "\n",
    "![](https://upload.wikimedia.org/wikipedia/commons/thumb/c/cb/Atlanta_Police_Zones_-_Feb_2013.jpg/588px-Atlanta_Police_Zones_-_Feb_2013.jpg)"
   ]
  },
  {
   "cell_type": "code",
   "execution_count": 35,
   "metadata": {
    "ExecuteTime": {
     "end_time": "2017-10-02T20:39:16.708509",
     "start_time": "2017-10-02T20:39:16.701645"
    },
    "collapsed": false
   },
   "outputs": [],
   "source": [
    "# let's create a colormap for the different colors...\n",
    "crime_col = dict(zip(sorted(df['UC2 Literal'].unique()), \n",
    "                     ['red','olive','blue','black','black','royalblue','slategrey','purple','purple','darkblue','coral']))"
   ]
  },
  {
   "cell_type": "code",
   "execution_count": 36,
   "metadata": {
    "ExecuteTime": {
     "end_time": "2017-10-02T20:39:26.609411",
     "start_time": "2017-10-02T20:39:26.603673"
    },
    "collapsed": false
   },
   "outputs": [
    {
     "data": {
      "text/plain": [
       "{'AGG ASSAULT': 'red',\n",
       " 'AUTO THEFT': 'olive',\n",
       " 'BURGLARY-NONRES': 'blue',\n",
       " 'BURGLARY-RESIDENCE': 'black',\n",
       " 'HOMICIDE': 'black',\n",
       " 'LARCENY-FROM VEHICLE': 'royalblue',\n",
       " 'LARCENY-NON VEHICLE': 'slategrey',\n",
       " 'RAPE': 'purple',\n",
       " 'ROBBERY-COMMERCIAL': 'purple',\n",
       " 'ROBBERY-PEDESTRIAN': 'darkblue',\n",
       " 'ROBBERY-RESIDENCE': 'coral'}"
      ]
     },
     "execution_count": 36,
     "metadata": {},
     "output_type": "execute_result"
    }
   ],
   "source": [
    "crime_col"
   ]
  },
  {
   "cell_type": "code",
   "execution_count": 37,
   "metadata": {
    "ExecuteTime": {
     "end_time": "2017-10-02T20:39:49.670538",
     "start_time": "2017-10-02T20:39:49.061627"
    },
    "collapsed": false,
    "scrolled": false
   },
   "outputs": [
    {
     "data": {
      "text/plain": [
       "<matplotlib.collections.PathCollection at 0x7318d10>"
      ]
     },
     "execution_count": 37,
     "metadata": {},
     "output_type": "execute_result"
    },
    {
     "data": {
      "image/png": "[encoded data removed]",
      "text/plain": [
       "<matplotlib.figure.Figure at 0x704bd10>"
      ]
     },
     "metadata": {},
     "output_type": "display_data"
    }
   ],
   "source": [
    "violent = df[df['UC2 Literal'].apply(lambda x: x in set(['AGG ASSAULT','HOMICIDE','RAPE']))]\n",
    "plt.scatter(violent.x, violent.y, s=7, c=violent['UC2 Literal'].apply(lambda x: crime_col[x]), edgecolors='none')"
   ]
  },
  {
   "cell_type": "code",
   "execution_count": null,
   "metadata": {
    "collapsed": true
   },
   "outputs": [],
   "source": [
    "df[df['UC2 Literal']=='ROBBERY-RESIDENCE']"
   ]
  },
  {
   "cell_type": "code",
   "execution_count": 43,
   "metadata": {
    "ExecuteTime": {
     "end_time": "2017-10-02T20:45:25.715252",
     "start_time": "2017-10-02T20:45:25.167583"
    },
    "collapsed": false,
    "scrolled": true
   },
   "outputs": [
    {
     "data": {
      "text/plain": [
       "<matplotlib.collections.PathCollection at 0x6f2a890>"
      ]
     },
     "execution_count": 43,
     "metadata": {},
     "output_type": "execute_result"
    },
    {
     "data": {
      "image/png": "[encoded data removed]",
      "text/plain": [
       "<matplotlib.figure.Figure at 0x538b250>"
      ]
     },
     "metadata": {},
     "output_type": "display_data"
    }
   ],
   "source": [
    "violent = df[df['UC2 Literal'].apply(lambda x: x in ['ROBBERY-COMMERCIAL', 'ROBBERY-PEDESTRIAN', 'ROBBERY-RESIDENCE'])]\n",
    "plt.scatter(violent.x, violent.y, s=10, c=violent['UC2 Literal'].apply(lambda x: crime_col[x]), edgecolors='none', marker='^')"
   ]
  },
  {
   "cell_type": "code",
   "execution_count": null,
   "metadata": {
    "collapsed": true
   },
   "outputs": [],
   "source": []
  },
  {
   "cell_type": "markdown",
   "metadata": {
    "collapsed": true
   },
   "source": [
    "## Crimes by Zone"
   ]
  },
  {
   "cell_type": "markdown",
   "metadata": {},
   "source": [
    "In the beat ID, the hundreds place indicates the zone number... \n",
    "\n",
    "Let's create a separate column for zone."
   ]
  },
  {
   "cell_type": "code",
   "execution_count": 45,
   "metadata": {
    "ExecuteTime": {
     "end_time": "2017-10-02T20:48:03.686156",
     "start_time": "2017-10-02T20:48:03.675253"
    },
    "collapsed": false
   },
   "outputs": [],
   "source": [
    "df['Zone'] = df['beat']//100"
   ]
  },
  {
   "cell_type": "code",
   "execution_count": 46,
   "metadata": {
    "ExecuteTime": {
     "end_time": "2017-10-02T20:48:18.047454",
     "start_time": "2017-10-02T20:48:17.968653"
    },
    "collapsed": false
   },
   "outputs": [
    {
     "data": {
      "text/html": [
       "<div>\n",
       "<table border=\"1\" class=\"dataframe\">\n",
       "  <thead>\n",
       "    <tr style=\"text-align: right;\">\n",
       "      <th></th>\n",
       "      <th></th>\n",
       "      <th>offense_id</th>\n",
       "    </tr>\n",
       "    <tr>\n",
       "      <th>Zone</th>\n",
       "      <th>UC2 Literal</th>\n",
       "      <th></th>\n",
       "    </tr>\n",
       "  </thead>\n",
       "  <tbody>\n",
       "    <tr>\n",
       "      <th rowspan=\"11\" valign=\"top\">1</th>\n",
       "      <th>AGG ASSAULT</th>\n",
       "      <td>397</td>\n",
       "    </tr>\n",
       "    <tr>\n",
       "      <th>AUTO THEFT</th>\n",
       "      <td>333</td>\n",
       "    </tr>\n",
       "    <tr>\n",
       "      <th>BURGLARY-NONRES</th>\n",
       "      <td>66</td>\n",
       "    </tr>\n",
       "    <tr>\n",
       "      <th>BURGLARY-RESIDENCE</th>\n",
       "      <td>407</td>\n",
       "    </tr>\n",
       "    <tr>\n",
       "      <th>HOMICIDE</th>\n",
       "      <td>14</td>\n",
       "    </tr>\n",
       "    <tr>\n",
       "      <th>LARCENY-FROM VEHICLE</th>\n",
       "      <td>573</td>\n",
       "    </tr>\n",
       "    <tr>\n",
       "      <th>LARCENY-NON VEHICLE</th>\n",
       "      <td>479</td>\n",
       "    </tr>\n",
       "    <tr>\n",
       "      <th>RAPE</th>\n",
       "      <td>35</td>\n",
       "    </tr>\n",
       "    <tr>\n",
       "      <th>ROBBERY-COMMERCIAL</th>\n",
       "      <td>9</td>\n",
       "    </tr>\n",
       "    <tr>\n",
       "      <th>ROBBERY-PEDESTRIAN</th>\n",
       "      <td>143</td>\n",
       "    </tr>\n",
       "    <tr>\n",
       "      <th>ROBBERY-RESIDENCE</th>\n",
       "      <td>23</td>\n",
       "    </tr>\n",
       "    <tr>\n",
       "      <th rowspan=\"11\" valign=\"top\">2</th>\n",
       "      <th>AGG ASSAULT</th>\n",
       "      <td>96</td>\n",
       "    </tr>\n",
       "    <tr>\n",
       "      <th>AUTO THEFT</th>\n",
       "      <td>378</td>\n",
       "    </tr>\n",
       "    <tr>\n",
       "      <th>BURGLARY-NONRES</th>\n",
       "      <td>115</td>\n",
       "    </tr>\n",
       "    <tr>\n",
       "      <th>BURGLARY-RESIDENCE</th>\n",
       "      <td>219</td>\n",
       "    </tr>\n",
       "    <tr>\n",
       "      <th>HOMICIDE</th>\n",
       "      <td>5</td>\n",
       "    </tr>\n",
       "    <tr>\n",
       "      <th>LARCENY-FROM VEHICLE</th>\n",
       "      <td>1560</td>\n",
       "    </tr>\n",
       "    <tr>\n",
       "      <th>LARCENY-NON VEHICLE</th>\n",
       "      <td>1146</td>\n",
       "    </tr>\n",
       "    <tr>\n",
       "      <th>RAPE</th>\n",
       "      <td>19</td>\n",
       "    </tr>\n",
       "    <tr>\n",
       "      <th>ROBBERY-COMMERCIAL</th>\n",
       "      <td>23</td>\n",
       "    </tr>\n",
       "    <tr>\n",
       "      <th>ROBBERY-PEDESTRIAN</th>\n",
       "      <td>89</td>\n",
       "    </tr>\n",
       "    <tr>\n",
       "      <th>ROBBERY-RESIDENCE</th>\n",
       "      <td>5</td>\n",
       "    </tr>\n",
       "    <tr>\n",
       "      <th rowspan=\"8\" valign=\"top\">3</th>\n",
       "      <th>AGG ASSAULT</th>\n",
       "      <td>337</td>\n",
       "    </tr>\n",
       "    <tr>\n",
       "      <th>AUTO THEFT</th>\n",
       "      <td>452</td>\n",
       "    </tr>\n",
       "    <tr>\n",
       "      <th>BURGLARY-NONRES</th>\n",
       "      <td>88</td>\n",
       "    </tr>\n",
       "    <tr>\n",
       "      <th>BURGLARY-RESIDENCE</th>\n",
       "      <td>320</td>\n",
       "    </tr>\n",
       "    <tr>\n",
       "      <th>HOMICIDE</th>\n",
       "      <td>12</td>\n",
       "    </tr>\n",
       "    <tr>\n",
       "      <th>LARCENY-FROM VEHICLE</th>\n",
       "      <td>732</td>\n",
       "    </tr>\n",
       "    <tr>\n",
       "      <th>LARCENY-NON VEHICLE</th>\n",
       "      <td>483</td>\n",
       "    </tr>\n",
       "    <tr>\n",
       "      <th>RAPE</th>\n",
       "      <td>24</td>\n",
       "    </tr>\n",
       "    <tr>\n",
       "      <th>...</th>\n",
       "      <th>...</th>\n",
       "      <td>...</td>\n",
       "    </tr>\n",
       "    <tr>\n",
       "      <th rowspan=\"2\" valign=\"top\">4</th>\n",
       "      <th>ROBBERY-PEDESTRIAN</th>\n",
       "      <td>142</td>\n",
       "    </tr>\n",
       "    <tr>\n",
       "      <th>ROBBERY-RESIDENCE</th>\n",
       "      <td>22</td>\n",
       "    </tr>\n",
       "    <tr>\n",
       "      <th rowspan=\"11\" valign=\"top\">5</th>\n",
       "      <th>AGG ASSAULT</th>\n",
       "      <td>140</td>\n",
       "    </tr>\n",
       "    <tr>\n",
       "      <th>AUTO THEFT</th>\n",
       "      <td>254</td>\n",
       "    </tr>\n",
       "    <tr>\n",
       "      <th>BURGLARY-NONRES</th>\n",
       "      <td>54</td>\n",
       "    </tr>\n",
       "    <tr>\n",
       "      <th>BURGLARY-RESIDENCE</th>\n",
       "      <td>59</td>\n",
       "    </tr>\n",
       "    <tr>\n",
       "      <th>HOMICIDE</th>\n",
       "      <td>5</td>\n",
       "    </tr>\n",
       "    <tr>\n",
       "      <th>LARCENY-FROM VEHICLE</th>\n",
       "      <td>1381</td>\n",
       "    </tr>\n",
       "    <tr>\n",
       "      <th>LARCENY-NON VEHICLE</th>\n",
       "      <td>775</td>\n",
       "    </tr>\n",
       "    <tr>\n",
       "      <th>RAPE</th>\n",
       "      <td>24</td>\n",
       "    </tr>\n",
       "    <tr>\n",
       "      <th>ROBBERY-COMMERCIAL</th>\n",
       "      <td>7</td>\n",
       "    </tr>\n",
       "    <tr>\n",
       "      <th>ROBBERY-PEDESTRIAN</th>\n",
       "      <td>114</td>\n",
       "    </tr>\n",
       "    <tr>\n",
       "      <th>ROBBERY-RESIDENCE</th>\n",
       "      <td>5</td>\n",
       "    </tr>\n",
       "    <tr>\n",
       "      <th rowspan=\"11\" valign=\"top\">6</th>\n",
       "      <th>AGG ASSAULT</th>\n",
       "      <td>114</td>\n",
       "    </tr>\n",
       "    <tr>\n",
       "      <th>AUTO THEFT</th>\n",
       "      <td>225</td>\n",
       "    </tr>\n",
       "    <tr>\n",
       "      <th>BURGLARY-NONRES</th>\n",
       "      <td>87</td>\n",
       "    </tr>\n",
       "    <tr>\n",
       "      <th>BURGLARY-RESIDENCE</th>\n",
       "      <td>256</td>\n",
       "    </tr>\n",
       "    <tr>\n",
       "      <th>HOMICIDE</th>\n",
       "      <td>4</td>\n",
       "    </tr>\n",
       "    <tr>\n",
       "      <th>LARCENY-FROM VEHICLE</th>\n",
       "      <td>1066</td>\n",
       "    </tr>\n",
       "    <tr>\n",
       "      <th>LARCENY-NON VEHICLE</th>\n",
       "      <td>729</td>\n",
       "    </tr>\n",
       "    <tr>\n",
       "      <th>RAPE</th>\n",
       "      <td>12</td>\n",
       "    </tr>\n",
       "    <tr>\n",
       "      <th>ROBBERY-COMMERCIAL</th>\n",
       "      <td>13</td>\n",
       "    </tr>\n",
       "    <tr>\n",
       "      <th>ROBBERY-PEDESTRIAN</th>\n",
       "      <td>121</td>\n",
       "    </tr>\n",
       "    <tr>\n",
       "      <th>ROBBERY-RESIDENCE</th>\n",
       "      <td>9</td>\n",
       "    </tr>\n",
       "    <tr>\n",
       "      <th rowspan=\"6\" valign=\"top\">7</th>\n",
       "      <th>AGG ASSAULT</th>\n",
       "      <td>2</td>\n",
       "    </tr>\n",
       "    <tr>\n",
       "      <th>AUTO THEFT</th>\n",
       "      <td>4</td>\n",
       "    </tr>\n",
       "    <tr>\n",
       "      <th>LARCENY-FROM VEHICLE</th>\n",
       "      <td>18</td>\n",
       "    </tr>\n",
       "    <tr>\n",
       "      <th>LARCENY-NON VEHICLE</th>\n",
       "      <td>139</td>\n",
       "    </tr>\n",
       "    <tr>\n",
       "      <th>RAPE</th>\n",
       "      <td>1</td>\n",
       "    </tr>\n",
       "    <tr>\n",
       "      <th>ROBBERY-PEDESTRIAN</th>\n",
       "      <td>1</td>\n",
       "    </tr>\n",
       "  </tbody>\n",
       "</table>\n",
       "<p>72 rows × 1 columns</p>\n",
       "</div>"
      ],
      "text/plain": [
       "                           offense_id\n",
       "Zone UC2 Literal                     \n",
       "1    AGG ASSAULT                  397\n",
       "     AUTO THEFT                   333\n",
       "     BURGLARY-NONRES               66\n",
       "     BURGLARY-RESIDENCE           407\n",
       "     HOMICIDE                      14\n",
       "     LARCENY-FROM VEHICLE         573\n",
       "     LARCENY-NON VEHICLE          479\n",
       "     RAPE                          35\n",
       "     ROBBERY-COMMERCIAL             9\n",
       "     ROBBERY-PEDESTRIAN           143\n",
       "     ROBBERY-RESIDENCE             23\n",
       "2    AGG ASSAULT                   96\n",
       "     AUTO THEFT                   378\n",
       "     BURGLARY-NONRES              115\n",
       "     BURGLARY-RESIDENCE           219\n",
       "     HOMICIDE                       5\n",
       "     LARCENY-FROM VEHICLE        1560\n",
       "     LARCENY-NON VEHICLE         1146\n",
       "     RAPE                          19\n",
       "     ROBBERY-COMMERCIAL            23\n",
       "     ROBBERY-PEDESTRIAN            89\n",
       "     ROBBERY-RESIDENCE              5\n",
       "3    AGG ASSAULT                  337\n",
       "     AUTO THEFT                   452\n",
       "     BURGLARY-NONRES               88\n",
       "     BURGLARY-RESIDENCE           320\n",
       "     HOMICIDE                      12\n",
       "     LARCENY-FROM VEHICLE         732\n",
       "     LARCENY-NON VEHICLE          483\n",
       "     RAPE                          24\n",
       "...                               ...\n",
       "4    ROBBERY-PEDESTRIAN           142\n",
       "     ROBBERY-RESIDENCE             22\n",
       "5    AGG ASSAULT                  140\n",
       "     AUTO THEFT                   254\n",
       "     BURGLARY-NONRES               54\n",
       "     BURGLARY-RESIDENCE            59\n",
       "     HOMICIDE                       5\n",
       "     LARCENY-FROM VEHICLE        1381\n",
       "     LARCENY-NON VEHICLE          775\n",
       "     RAPE                          24\n",
       "     ROBBERY-COMMERCIAL             7\n",
       "     ROBBERY-PEDESTRIAN           114\n",
       "     ROBBERY-RESIDENCE              5\n",
       "6    AGG ASSAULT                  114\n",
       "     AUTO THEFT                   225\n",
       "     BURGLARY-NONRES               87\n",
       "     BURGLARY-RESIDENCE           256\n",
       "     HOMICIDE                       4\n",
       "     LARCENY-FROM VEHICLE        1066\n",
       "     LARCENY-NON VEHICLE          729\n",
       "     RAPE                          12\n",
       "     ROBBERY-COMMERCIAL            13\n",
       "     ROBBERY-PEDESTRIAN           121\n",
       "     ROBBERY-RESIDENCE              9\n",
       "7    AGG ASSAULT                    2\n",
       "     AUTO THEFT                     4\n",
       "     LARCENY-FROM VEHICLE          18\n",
       "     LARCENY-NON VEHICLE          139\n",
       "     RAPE                           1\n",
       "     ROBBERY-PEDESTRIAN             1\n",
       "\n",
       "[72 rows x 1 columns]"
      ]
     },
     "execution_count": 46,
     "metadata": {},
     "output_type": "execute_result"
    }
   ],
   "source": [
    "pd.DataFrame(df.groupby(['Zone','UC2 Literal']).offense_id.count())"
   ]
  }
 ],
 "metadata": {
  "hide_input": false,
  "kernelspec": {
   "display_name": "Python 2",
   "language": "python",
   "name": "python2"
  },
  "language_info": {
   "codemirror_mode": {
    "name": "ipython",
    "version": 2
   },
   "file_extension": ".py",
   "mimetype": "text/x-python",
   "name": "python",
   "nbconvert_exporter": "python",
   "pygments_lexer": "ipython2",
   "version": "2.7.5"
  },
  "toc": {
   "nav_menu": {
    "height": "212px",
    "width": "252px"
   },
   "navigate_menu": true,
   "number_sections": true,
   "sideBar": true,
   "threshold": 4,
   "toc_cell": false,
   "toc_section_display": "block",
   "toc_window_display": false
  }
 },
 "nbformat": 4,
 "nbformat_minor": 0
}
