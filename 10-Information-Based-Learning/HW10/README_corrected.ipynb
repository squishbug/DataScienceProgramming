{
 "cells": [
  {
   "cell_type": "markdown",
   "metadata": {},
   "source": [
    "# Homework 7"
   ]
  },
  {
   "cell_type": "markdown",
   "metadata": {},
   "source": [
    "Use this notebook to work on your answers and check solutions. You can then submit your functions using \"HW7_submission.ipynb\" or directly write your functions in a file named \"hw7_answers.py\". Note that \"hw7_answers.py\" will be the only file collected and graded for this assignment. \n",
    "\n",
    "You will use the cereal dataset from last week."
   ]
  },
  {
   "cell_type": "code",
   "execution_count": 1,
   "metadata": {
    "ExecuteTime": {
     "end_time": "2017-11-06T17:31:28.081840",
     "start_time": "2017-11-06T17:31:27.334345"
    },
    "collapsed": true
   },
   "outputs": [],
   "source": [
    "import pandas as pd\n",
    "import numpy as np\n",
    "from __future__ import division"
   ]
  },
  {
   "cell_type": "code",
   "execution_count": 2,
   "metadata": {
    "ExecuteTime": {
     "end_time": "2017-11-06T17:31:29.439006",
     "start_time": "2017-11-06T17:31:29.399045"
    },
    "collapsed": false
   },
   "outputs": [],
   "source": [
    "%%sh \n",
    "## RUN BUT DO NOT EDIT THIS CELL\n",
    "## run this cell to download the cereal dataset into your current directory\n",
    "cp /home/data/cereal/cereal.csv ."
   ]
  },
  {
   "cell_type": "code",
   "execution_count": 3,
   "metadata": {
    "ExecuteTime": {
     "end_time": "2017-11-06T17:31:30.172502",
     "start_time": "2017-11-06T17:31:30.152865"
    },
    "collapsed": false
   },
   "outputs": [],
   "source": [
    "## RUN BUT DO NOT EDIT THIS CELL\n",
    "\n",
    "# load the data, define ratingID\n",
    "cer = pd.read_csv('cereal.csv', skiprows=[1], delimiter=';')\n",
    "cer['ratingID'] = cer['rating'].apply(lambda x: 0 if x<55 else 1)"
   ]
  },
  {
   "cell_type": "markdown",
   "metadata": {
    "ExecuteTime": {
     "end_time": "2017-10-17T21:06:49.446074",
     "start_time": "2017-10-17T21:06:49.440535"
    }
   },
   "source": [
    "## Question 1\n",
    "\n",
    "Write a function called \"get_corrs\" which takes one argument:\n",
    "\n",
    "* df, which is a pandas data frame\n",
    "\n",
    "and returns:\n",
    "\n",
    "* m, a correlation matrix for the numerical variables in df."
   ]
  },
  {
   "cell_type": "code",
   "execution_count": null,
   "metadata": {
    "ExecuteTime": {
     "end_time": "2017-10-17T21:53:22.812162",
     "start_time": "2017-10-17T21:53:22.808170"
    },
    "collapsed": false
   },
   "outputs": [],
   "source": [
    "#### play with code here #####\n",
    "\n",
    "\n",
    "\n",
    "\n"
   ]
  },
  {
   "cell_type": "markdown",
   "metadata": {},
   "source": [
    "### Sample output:\n",
    "\n",
    "```\n",
    "In [1]: get_corrs(cer[['name','calories','carbo','sugars']])\n",
    "Out[1]:  \tcalories \tcarbo \t    sugars\n",
    "   calories\t1.000000    0.250681 \t0.562340\n",
    "      carbo    0.250681    1.000000    -0.331665\n",
    "     sugars\t0.562340   -0.331665\t 1.000000\n",
    "```"
   ]
  },
  {
   "cell_type": "markdown",
   "metadata": {
    "ExecuteTime": {
     "end_time": "2017-10-17T21:39:52.369611",
     "start_time": "2017-10-17T21:39:52.332791"
    }
   },
   "source": [
    "## Question 2\n",
    "\n",
    "Write a function called \"get_corr_pairs\" which takes one argument:\n",
    "\n",
    "* df, which is a pandas data frame\n",
    "\n",
    "and returns:\n",
    "\n",
    "* corr_pairs, a dictionary where keys are names of columns of df corresponding to numerical features, and values are arrays of names of columns whose correlation coefficient with the key has magnitude 0.3 or greater. \n",
    "\n",
    "You can use your function from question 1 to get the correlation values."
   ]
  },
  {
   "cell_type": "code",
   "execution_count": null,
   "metadata": {
    "ExecuteTime": {
     "end_time": "2017-10-17T21:53:22.812162",
     "start_time": "2017-10-17T21:53:22.808170"
    },
    "collapsed": false
   },
   "outputs": [],
   "source": [
    "#### play with code here #####\n",
    "\n",
    "\n",
    "\n",
    "\n"
   ]
  },
  {
   "cell_type": "markdown",
   "metadata": {},
   "source": [
    "### Sample output:\n",
    "\n",
    "```\n",
    "In [1]: get_corr_pairs(cer[['name','fat','sugars','rating']])\n",
    "Out[1]: {'fat': ['rating'], 'rating': ['fat', 'sugars'], 'sugars': ['rating']}\n",
    "```\n",
    "\n",
    "Short explanation: the correlation between 'fat' and 'rating' is -0.409, 'sugars' and 'rating' is -0.760; the remaining correlations have magnitude < 0.3. "
   ]
  },
  {
   "cell_type": "markdown",
   "metadata": {},
   "source": [
    "## Question 3\n",
    "\n",
    "Write a function called \"sample_cereal\" which takes two arguments:\n",
    "    \n",
    "* df, which is a pandas data frame\n",
    "* kind, which is a string that can take value 'up' or 'down'\n",
    "\n",
    "and returns:\n",
    "\n",
    "* a pandas data frame with balanced target class 'ratingID', using up sampling if kind='up' and downsampling if kind='down'."
   ]
  },
  {
   "cell_type": "code",
   "execution_count": null,
   "metadata": {
    "ExecuteTime": {
     "end_time": "2017-10-17T21:53:22.812162",
     "start_time": "2017-10-17T21:53:22.808170"
    },
    "collapsed": false
   },
   "outputs": [],
   "source": [
    "#### play with code here #####\n",
    "\n",
    "\n",
    "\n",
    "\n"
   ]
  },
  {
   "cell_type": "markdown",
   "metadata": {},
   "source": [
    "### Sample output:\n",
    "\n",
    "```\n",
    "In [1]: sample_cereal(cer.ix[3:5,['name','mfr','type','calories','protein','ratingID']], 'up')\n",
    "Out[1]:  \tname \t            mfr \ttype \tcalories \tprotein \tratingID\n",
    "3 \tAll-Bran with Extra Fiber \tK \tC \t     50 \t      4 \t     1\n",
    "3 \tAll-Bran with Extra Fiber \tK \tC \t     50 \t      4 \t     1\n",
    "4 \tAlmond Delight  \t          R \tC \t     110 \t     2 \t     0\n",
    "5 \tApple Cinnamon Cheerios \t  G \tC \t     110 \t     2 \t     0\n",
    "```\n",
    "\n",
    "Short explanation: The input has only one positive sample and two negative samples; random sampling from a distribution of 1 can only return one possible result, so our up-sampling of the smaller class merely replicates the row for \"All-Bran with Extra Fiber\". "
   ]
  },
  {
   "cell_type": "markdown",
   "metadata": {},
   "source": [
    "## Question 4\n",
    "\n",
    "Write a function called \"find_H\" which takes two arguments:\n",
    "\n",
    "* df, which is a pandas data frame\n",
    "* cname, which is the name of the target column (that should correspond to a categorical variable)\n",
    "\n",
    "and returns:\n",
    "\n",
    "* H, the entropy in the column cname (use logarithm base 2)"
   ]
  },
  {
   "cell_type": "code",
   "execution_count": null,
   "metadata": {
    "ExecuteTime": {
     "end_time": "2017-10-30T23:22:59.175090",
     "start_time": "2017-10-30T23:22:59.167214"
    },
    "collapsed": false
   },
   "outputs": [],
   "source": [
    "#### play with code here #####\n",
    "\n",
    "\n",
    "\n",
    "\n"
   ]
  },
  {
   "cell_type": "markdown",
   "metadata": {},
   "source": [
    "### Sample output:\n",
    "\n",
    "```\n",
    "In [1]: find_H(cer.iloc[:20], 'ratingID')\n",
    "Out[1]: 0.60984030471640038\n",
    "```"
   ]
  },
  {
   "cell_type": "markdown",
   "metadata": {
    "ExecuteTime": {
     "end_time": "2017-10-18T00:17:09.715906",
     "start_time": "2017-10-18T00:17:09.672366"
    }
   },
   "source": [
    "## Question 5\n",
    "\n",
    "Write a function called \"info_gain\" which takes four arguments:\n",
    "\n",
    "* df, which is a pandas data frame\n",
    "* cname, which is the name of the target column (that should correspond to a categorical variable)\n",
    "* csplit, which is the name of a numeric column in df \n",
    "* threshold, which is a numeric value\n",
    "\n",
    "and returns:\n",
    "\n",
    "* info_gain, the information gain you get in column cname by splitting the dataset on the threshold value in column csplit. "
   ]
  },
  {
   "cell_type": "code",
   "execution_count": null,
   "metadata": {
    "ExecuteTime": {
     "end_time": "2017-10-17T21:53:22.812162",
     "start_time": "2017-10-17T21:53:22.808170"
    },
    "collapsed": false
   },
   "outputs": [],
   "source": [
    "#### play with code here #####\n",
    "\n",
    "\n",
    "\n",
    "\n"
   ]
  },
  {
   "cell_type": "markdown",
   "metadata": {},
   "source": [
    "### Sample output:\n",
    "\n",
    "\n",
    "```\n",
    "In [1]: info_gain(cer.iloc[:20], 'ratingID', 'sugars', '7.0')\n",
    "Out[1]: 0.2280667035464144\n",
    "```\n",
    "\n",
    "Note: for a probability of 0, use the fact that lim_(p->0+) p log(p) = 0. "
   ]
  }
 ],
 "metadata": {
  "kernelspec": {
   "display_name": "Python 2",
   "language": "python",
   "name": "python2"
  },
  "language_info": {
   "codemirror_mode": {
    "name": "ipython",
    "version": 2
   },
   "file_extension": ".py",
   "mimetype": "text/x-python",
   "name": "python",
   "nbconvert_exporter": "python",
   "pygments_lexer": "ipython2",
   "version": "2.7.5"
  },
  "toc": {
   "nav_menu": {
    "height": "216px",
    "width": "252px"
   },
   "navigate_menu": true,
   "number_sections": true,
   "sideBar": true,
   "threshold": 4,
   "toc_cell": false,
   "toc_section_display": "block",
   "toc_window_display": false
  }
 },
 "nbformat": 4,
 "nbformat_minor": 0
}
