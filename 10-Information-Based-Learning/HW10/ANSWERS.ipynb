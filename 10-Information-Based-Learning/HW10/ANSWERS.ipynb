{
 "cells": [
  {
   "cell_type": "markdown",
   "metadata": {},
   "source": [
    "# Homework 7"
   ]
  },
  {
   "cell_type": "markdown",
   "metadata": {},
   "source": [
    "Use this notebook to work on your answers and check solutions. You can then submit your functions using \"HW7_submission.ipynb\" or directly write your functions in a file named \"hw7_answers.py\". Note that \"hw7_answers.py\" will be the only file collected and graded for this assignment. \n",
    "\n",
    "You will use the cereal dataset from last week."
   ]
  },
  {
   "cell_type": "code",
   "execution_count": 1,
   "metadata": {
    "ExecuteTime": {
     "end_time": "2017-11-13T19:17:05.023127",
     "start_time": "2017-11-13T19:17:04.424477"
    },
    "collapsed": true
   },
   "outputs": [],
   "source": [
    "import pandas as pd\n",
    "import numpy as np\n",
    "from __future__ import division"
   ]
  },
  {
   "cell_type": "code",
   "execution_count": 2,
   "metadata": {
    "ExecuteTime": {
     "end_time": "2017-11-13T19:17:05.067438",
     "start_time": "2017-11-13T19:17:05.025810"
    },
    "collapsed": false
   },
   "outputs": [],
   "source": [
    "%%sh \n",
    "## RUN BUT DO NOT EDIT THIS CELL\n",
    "## run this cell to download the cereal dataset into your current directory\n",
    "cp /home/data/cereal/cereal.csv ."
   ]
  },
  {
   "cell_type": "code",
   "execution_count": 3,
   "metadata": {
    "ExecuteTime": {
     "end_time": "2017-11-13T19:17:05.079495",
     "start_time": "2017-11-13T19:17:05.069615"
    },
    "collapsed": false
   },
   "outputs": [],
   "source": [
    "## RUN BUT DO NOT EDIT THIS CELL\n",
    "\n",
    "# load the data, define ratingID\n",
    "cer = pd.read_csv('cereal.csv', skiprows=[1], delimiter=';')\n",
    "cer['ratingID'] = cer['rating'].apply(lambda x: 0 if x<55 else 1)"
   ]
  },
  {
   "cell_type": "markdown",
   "metadata": {
    "ExecuteTime": {
     "end_time": "2017-10-17T21:06:49.446074",
     "start_time": "2017-10-17T21:06:49.440535"
    }
   },
   "source": [
    "## Question 1\n",
    "\n",
    "Write a function called \"get_corrs\" which takes one argument:\n",
    "\n",
    "* df, which is a pandas data frame\n",
    "\n",
    "and returns:\n",
    "\n",
    "* m, a correlation matrix for the numerical variables in df."
   ]
  },
  {
   "cell_type": "code",
   "execution_count": 4,
   "metadata": {
    "ExecuteTime": {
     "end_time": "2017-11-13T19:18:29.416444",
     "start_time": "2017-11-13T19:18:29.411534"
    },
    "collapsed": true
   },
   "outputs": [],
   "source": [
    "def get_corrs(df):\n",
    "    return df.corr()"
   ]
  },
  {
   "cell_type": "code",
   "execution_count": 5,
   "metadata": {
    "ExecuteTime": {
     "end_time": "2017-11-13T19:18:47.750416",
     "start_time": "2017-11-13T19:18:47.699788"
    },
    "collapsed": false
   },
   "outputs": [
    {
     "data": {
      "text/html": [
       "<div>\n",
       "<table border=\"1\" class=\"dataframe\">\n",
       "  <thead>\n",
       "    <tr style=\"text-align: right;\">\n",
       "      <th></th>\n",
       "      <th>calories</th>\n",
       "      <th>carbo</th>\n",
       "      <th>sugars</th>\n",
       "    </tr>\n",
       "  </thead>\n",
       "  <tbody>\n",
       "    <tr>\n",
       "      <th>calories</th>\n",
       "      <td>1.000000</td>\n",
       "      <td>0.250681</td>\n",
       "      <td>0.562340</td>\n",
       "    </tr>\n",
       "    <tr>\n",
       "      <th>carbo</th>\n",
       "      <td>0.250681</td>\n",
       "      <td>1.000000</td>\n",
       "      <td>-0.331665</td>\n",
       "    </tr>\n",
       "    <tr>\n",
       "      <th>sugars</th>\n",
       "      <td>0.562340</td>\n",
       "      <td>-0.331665</td>\n",
       "      <td>1.000000</td>\n",
       "    </tr>\n",
       "  </tbody>\n",
       "</table>\n",
       "</div>"
      ],
      "text/plain": [
       "          calories     carbo    sugars\n",
       "calories  1.000000  0.250681  0.562340\n",
       "carbo     0.250681  1.000000 -0.331665\n",
       "sugars    0.562340 -0.331665  1.000000"
      ]
     },
     "execution_count": 5,
     "metadata": {},
     "output_type": "execute_result"
    }
   ],
   "source": [
    "get_corrs(cer[['name','calories','carbo','sugars']])"
   ]
  },
  {
   "cell_type": "markdown",
   "metadata": {},
   "source": [
    "### Sample output:\n",
    "\n",
    "```\n",
    "In [1]: get_corrs(cer[['name','calories','carbo','sugars']])\n",
    "Out[1]:  \tcalories \tcarbo \t    sugars\n",
    "   calories\t1.000000    0.250681 \t0.562340\n",
    "      carbo    0.250681    1.000000    -0.331665\n",
    "     sugars\t0.562340   -0.331665\t 1.000000\n",
    "```"
   ]
  },
  {
   "cell_type": "markdown",
   "metadata": {
    "ExecuteTime": {
     "end_time": "2017-10-17T21:39:52.369611",
     "start_time": "2017-10-17T21:39:52.332791"
    }
   },
   "source": [
    "## Question 2\n",
    "\n",
    "Write a function called \"get_corr_pairs\" which takes one argument:\n",
    "\n",
    "* df, which is a pandas data frame\n",
    "\n",
    "and returns:\n",
    "\n",
    "* corr_pairs, a dictionary where keys are names of columns of df corresponding to numerical features, and values are arrays of names of columns whose correlation coefficient with the key has magnitude 0.3 or greater. \n",
    "\n",
    "You can use your function from question 1 to get the correlation values."
   ]
  },
  {
   "cell_type": "code",
   "execution_count": 17,
   "metadata": {
    "ExecuteTime": {
     "end_time": "2017-11-13T19:28:17.546761",
     "start_time": "2017-11-13T19:28:17.539428"
    },
    "collapsed": true
   },
   "outputs": [],
   "source": [
    "def get_corr_pairs(df):\n",
    "    cmat = get_corrs(df)\n",
    "    d = dict.fromkeys(cmat.columns.values)\n",
    "    for key in d.iterkeys():\n",
    "        d[key] = cmat.loc[key][cmat.loc[key].abs()>=0.3].index.values.tolist()\n",
    "        d[key].remove(key)\n",
    "    return d"
   ]
  },
  {
   "cell_type": "code",
   "execution_count": 18,
   "metadata": {
    "ExecuteTime": {
     "end_time": "2017-11-13T19:28:37.646423",
     "start_time": "2017-11-13T19:28:37.634004"
    },
    "collapsed": false
   },
   "outputs": [
    {
     "data": {
      "text/plain": [
       "{'fat': ['rating'], 'rating': ['fat', 'sugars'], 'sugars': ['rating']}"
      ]
     },
     "execution_count": 18,
     "metadata": {},
     "output_type": "execute_result"
    }
   ],
   "source": [
    "get_corr_pairs(cer[['name','fat','sugars','rating']])"
   ]
  },
  {
   "cell_type": "markdown",
   "metadata": {},
   "source": [
    "### Sample output:\n",
    "\n",
    "```\n",
    "In [1]: get_corr_pairs(cer[['name','fat','sugars','rating']])\n",
    "Out[1]: {'fat': ['rating'], 'rating': ['fat', 'sugars'], 'sugars': ['rating']}\n",
    "```\n",
    "\n",
    "Short explanation: the correlation between 'fat' and 'rating' is -0.409, 'sugars' and 'rating' is -0.760; the remaining correlations have magnitude < 0.3. "
   ]
  },
  {
   "cell_type": "markdown",
   "metadata": {},
   "source": [
    "## Question 3\n",
    "\n",
    "Write a function called \"sample_cereal\" which takes two arguments:\n",
    "    \n",
    "* df, which is a pandas data frame\n",
    "* kind, which is a string that can take value 'up' or 'down'\n",
    "\n",
    "and returns:\n",
    "\n",
    "* a pandas data frame with balanced target class 'ratingID', using up sampling if kind='up' and downsampling if kind='down'."
   ]
  },
  {
   "cell_type": "code",
   "execution_count": 21,
   "metadata": {
    "ExecuteTime": {
     "end_time": "2017-11-13T19:38:43.549290",
     "start_time": "2017-11-13T19:38:43.526721"
    },
    "collapsed": true
   },
   "outputs": [],
   "source": [
    "def sample_cereal(df, kind):\n",
    "    id_counts = df.groupby('ratingID').ratingID.count()\n",
    "    o1 = df[df.ratingID==id_counts.argmax()]\n",
    "    o2 = df[df.ratingID==id_counts.argmin()]\n",
    "    if (kind=='up'):\n",
    "        return o1.append(o2.iloc[np.random.choice(len(o2), len(o1), replace=True)])\n",
    "    elif (kind=='down'):\n",
    "        return o2.append(o1.iloc[np.random.choice(len(o1), len(o2), replace=False)])\n",
    "    else:\n",
    "        print 'This kind of sampling is not recognized! Returning original DataFrame!'\n",
    "        return df"
   ]
  },
  {
   "cell_type": "code",
   "execution_count": 32,
   "metadata": {
    "ExecuteTime": {
     "end_time": "2017-11-13T19:43:13.271838",
     "start_time": "2017-11-13T19:43:13.223959"
    },
    "collapsed": false
   },
   "outputs": [
    {
     "data": {
      "text/html": [
       "<div>\n",
       "<table border=\"1\" class=\"dataframe\">\n",
       "  <thead>\n",
       "    <tr style=\"text-align: right;\">\n",
       "      <th></th>\n",
       "      <th>name</th>\n",
       "      <th>mfr</th>\n",
       "      <th>type</th>\n",
       "      <th>calories</th>\n",
       "      <th>protein</th>\n",
       "      <th>ratingID</th>\n",
       "    </tr>\n",
       "  </thead>\n",
       "  <tbody>\n",
       "    <tr>\n",
       "      <th>4</th>\n",
       "      <td>Almond Delight</td>\n",
       "      <td>R</td>\n",
       "      <td>C</td>\n",
       "      <td>110</td>\n",
       "      <td>2</td>\n",
       "      <td>0</td>\n",
       "    </tr>\n",
       "    <tr>\n",
       "      <th>5</th>\n",
       "      <td>Apple Cinnamon Cheerios</td>\n",
       "      <td>G</td>\n",
       "      <td>C</td>\n",
       "      <td>110</td>\n",
       "      <td>2</td>\n",
       "      <td>0</td>\n",
       "    </tr>\n",
       "    <tr>\n",
       "      <th>3</th>\n",
       "      <td>All-Bran with Extra Fiber</td>\n",
       "      <td>K</td>\n",
       "      <td>C</td>\n",
       "      <td>50</td>\n",
       "      <td>4</td>\n",
       "      <td>1</td>\n",
       "    </tr>\n",
       "    <tr>\n",
       "      <th>3</th>\n",
       "      <td>All-Bran with Extra Fiber</td>\n",
       "      <td>K</td>\n",
       "      <td>C</td>\n",
       "      <td>50</td>\n",
       "      <td>4</td>\n",
       "      <td>1</td>\n",
       "    </tr>\n",
       "  </tbody>\n",
       "</table>\n",
       "</div>"
      ],
      "text/plain": [
       "                        name mfr type  calories  protein  ratingID\n",
       "4             Almond Delight   R    C       110        2         0\n",
       "5    Apple Cinnamon Cheerios   G    C       110        2         0\n",
       "3  All-Bran with Extra Fiber   K    C        50        4         1\n",
       "3  All-Bran with Extra Fiber   K    C        50        4         1"
      ]
     },
     "execution_count": 32,
     "metadata": {},
     "output_type": "execute_result"
    }
   ],
   "source": [
    "sample_cereal(cer.ix[3:5,['name','mfr','type','calories','protein','ratingID']], 'up')"
   ]
  },
  {
   "cell_type": "code",
   "execution_count": 34,
   "metadata": {
    "ExecuteTime": {
     "end_time": "2017-11-13T19:43:29.194300",
     "start_time": "2017-11-13T19:43:29.161713"
    },
    "collapsed": false
   },
   "outputs": [
    {
     "data": {
      "text/html": [
       "<div>\n",
       "<table border=\"1\" class=\"dataframe\">\n",
       "  <thead>\n",
       "    <tr style=\"text-align: right;\">\n",
       "      <th></th>\n",
       "      <th>name</th>\n",
       "      <th>mfr</th>\n",
       "      <th>type</th>\n",
       "      <th>calories</th>\n",
       "      <th>protein</th>\n",
       "      <th>ratingID</th>\n",
       "    </tr>\n",
       "  </thead>\n",
       "  <tbody>\n",
       "    <tr>\n",
       "      <th>3</th>\n",
       "      <td>All-Bran with Extra Fiber</td>\n",
       "      <td>K</td>\n",
       "      <td>C</td>\n",
       "      <td>50</td>\n",
       "      <td>4</td>\n",
       "      <td>1</td>\n",
       "    </tr>\n",
       "    <tr>\n",
       "      <th>4</th>\n",
       "      <td>Almond Delight</td>\n",
       "      <td>R</td>\n",
       "      <td>C</td>\n",
       "      <td>110</td>\n",
       "      <td>2</td>\n",
       "      <td>0</td>\n",
       "    </tr>\n",
       "  </tbody>\n",
       "</table>\n",
       "</div>"
      ],
      "text/plain": [
       "                        name mfr type  calories  protein  ratingID\n",
       "3  All-Bran with Extra Fiber   K    C        50        4         1\n",
       "4             Almond Delight   R    C       110        2         0"
      ]
     },
     "execution_count": 34,
     "metadata": {},
     "output_type": "execute_result"
    }
   ],
   "source": [
    "sample_cereal(cer.ix[3:5,['name','mfr','type','calories','protein','ratingID']], 'down')"
   ]
  },
  {
   "cell_type": "markdown",
   "metadata": {},
   "source": [
    "### Sample output:\n",
    "\n",
    "```\n",
    "In [1]: sample_cereal(cer.ix[3:5,['name','mfr','type','calories','protein','ratingID']], 'up')\n",
    "Out[1]:  \tname \t            mfr \ttype \tcalories \tprotein \tratingID\n",
    "3 \tAll-Bran with Extra Fiber \tK \tC \t     50 \t      4 \t     1\n",
    "3 \tAll-Bran with Extra Fiber \tK \tC \t     50 \t      4 \t     1\n",
    "4 \tAlmond Delight  \t          R \tC \t     110 \t     2 \t     0\n",
    "5 \tApple Cinnamon Cheerios \t  G \tC \t     110 \t     2 \t     0\n",
    "```\n",
    "\n",
    "Short explanation: The input has only one positive sample and two negative samples; random sampling from a distribution of 1 can only return one possible result, so our up-sampling of the smaller class merely replicates the row for \"All-Bran with Extra Fiber\". "
   ]
  },
  {
   "cell_type": "markdown",
   "metadata": {},
   "source": [
    "## Question 4\n",
    "\n",
    "Write a function called \"find_H\" which takes two arguments:\n",
    "\n",
    "* df, which is a pandas data frame\n",
    "* cname, which is the name of the target column (that should correspond to a categorical variable)\n",
    "\n",
    "and returns:\n",
    "\n",
    "* H, the entropy in the column cname (use logarithm base 2)"
   ]
  },
  {
   "cell_type": "code",
   "execution_count": 39,
   "metadata": {
    "ExecuteTime": {
     "end_time": "2017-11-13T19:48:41.817914",
     "start_time": "2017-11-13T19:48:41.811799"
    },
    "collapsed": true
   },
   "outputs": [],
   "source": [
    "def find_H(df, cname):\n",
    "    if (cname not in df.columns.values):\n",
    "        print 'Column name not recognized!'\n",
    "        return 0\n",
    "    p = df.groupby(cname)[cname].count()/len(df)\n",
    "    return -sum(p*np.log2(p))"
   ]
  },
  {
   "cell_type": "code",
   "execution_count": 43,
   "metadata": {
    "ExecuteTime": {
     "end_time": "2017-11-13T19:49:55.469023",
     "start_time": "2017-11-13T19:49:55.461462"
    },
    "collapsed": false
   },
   "outputs": [
    {
     "data": {
      "text/plain": [
       "0.60984030471640038"
      ]
     },
     "execution_count": 43,
     "metadata": {},
     "output_type": "execute_result"
    }
   ],
   "source": [
    "find_H(cer.iloc[:20], 'ratingID')"
   ]
  },
  {
   "cell_type": "markdown",
   "metadata": {},
   "source": [
    "### Sample output:\n",
    "\n",
    "```\n",
    "In [1]: find_H(cer.iloc[:20], 'ratingID')\n",
    "Out[1]: 0.60984030471640038\n",
    "```"
   ]
  },
  {
   "cell_type": "markdown",
   "metadata": {
    "ExecuteTime": {
     "end_time": "2017-10-18T00:17:09.715906",
     "start_time": "2017-10-18T00:17:09.672366"
    }
   },
   "source": [
    "## Question 5\n",
    "\n",
    "Write a function called \"info_gain\" which takes four arguments:\n",
    "\n",
    "* df, which is a pandas data frame\n",
    "* cname, which is the name of the target column (that should correspond to a categorical variable)\n",
    "* csplit, which is the name of a numeric column in df \n",
    "* threshold, which is a numeric value\n",
    "\n",
    "and returns:\n",
    "\n",
    "* info_gain, the information gain you get in column cname by splitting the dataset on the threshold value in column csplit. "
   ]
  },
  {
   "cell_type": "code",
   "execution_count": 47,
   "metadata": {
    "ExecuteTime": {
     "end_time": "2017-11-13T19:55:50.539209",
     "start_time": "2017-11-13T19:55:50.531912"
    },
    "collapsed": false
   },
   "outputs": [],
   "source": [
    "#### play with code here #####\n",
    "\n",
    "def info_gain(df, cname, csplit, thr):\n",
    "    H0 = find_H(df, cname)\n",
    "    o1 = df[df[csplit]<thr]\n",
    "    o2 = df[df[csplit]>=thr]\n",
    "    R1 = find_H(o1, cname)\n",
    "    R2 = find_H(o2, cname)\n",
    "    return H0 - len(o1)/len(df)*R1 - len(o2)/len(df)*R2\n"
   ]
  },
  {
   "cell_type": "code",
   "execution_count": 48,
   "metadata": {
    "ExecuteTime": {
     "end_time": "2017-11-13T19:55:51.398761",
     "start_time": "2017-11-13T19:55:51.386019"
    },
    "collapsed": false
   },
   "outputs": [
    {
     "data": {
      "text/plain": [
       "0.2280667035464144"
      ]
     },
     "execution_count": 48,
     "metadata": {},
     "output_type": "execute_result"
    }
   ],
   "source": [
    "info_gain(cer.iloc[:20], 'ratingID', 'sugars', 7.0)"
   ]
  },
  {
   "cell_type": "markdown",
   "metadata": {},
   "source": [
    "### Sample output:\n",
    "\n",
    "\n",
    "```\n",
    "In [1]: info_gain(cer.iloc[:20], 'ratingID', 'sugars', '7.0')\n",
    "Out[1]: 0.2280667035464144\n",
    "```\n",
    "\n",
    "Note: for a probability of 0, use the fact that lim_(p->0+) p log(p) = 0. "
   ]
  }
 ],
 "metadata": {
  "kernelspec": {
   "display_name": "Python 2",
   "language": "python",
   "name": "python2"
  },
  "language_info": {
   "codemirror_mode": {
    "name": "ipython",
    "version": 2
   },
   "file_extension": ".py",
   "mimetype": "text/x-python",
   "name": "python",
   "nbconvert_exporter": "python",
   "pygments_lexer": "ipython2",
   "version": "2.7.5"
  },
  "toc": {
   "nav_menu": {
    "height": "216px",
    "width": "252px"
   },
   "navigate_menu": true,
   "number_sections": true,
   "sideBar": true,
   "threshold": 4,
   "toc_cell": false,
   "toc_section_display": "block",
   "toc_window_display": false
  }
 },
 "nbformat": 4,
 "nbformat_minor": 0
}
