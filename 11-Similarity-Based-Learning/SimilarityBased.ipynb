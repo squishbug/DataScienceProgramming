{
 "cells": [
  {
   "cell_type": "markdown",
   "metadata": {},
   "source": [
    "# Similarity-based Learning\n",
    "\n",
    "Similiarity-based approaches in machine learning come from the idea that the best way to make predictions is simply to look at what has worked in the past and predict the same thing again. The fundamental concepts required to build a system based on this idea are feature spaces and measures of similarity."
   ]
  },
  {
   "cell_type": "markdown",
   "metadata": {
    "collapsed": true
   },
   "source": [
    "## Reading\n",
    "\n",
    "1. Chapter 5 of [Fundamentals of Machine Learning for Predictive Data Analytics](https://mitpress.mit.edu/books/fundamentals-machine-learning-predictive-data-analytics)\n",
    "3. [Chapter 5 Slides 'A'](http://131.96.197.204/~pmolnar/mlbook/BookSlides_5A_Similarity-based-Learning.pdf) (internal)\n",
    "3. [Chapter 5 Slides 'B'](http://131.96.197.204/~pmolnar/mlbook/BookSlides_5B_Similarity-based-Learning.pdf) (internal)\n",
    "\n",
    "Slides are posted on the internal server http://131.96.197.204/~pmolnar/mlbook\n"
   ]
  },
  {
   "cell_type": "markdown",
   "metadata": {
    "collapsed": true
   },
   "source": [
    "## What is a metric?"
   ]
  },
  {
   "cell_type": "markdown",
   "metadata": {},
   "source": [
    "The \"distance\" $d$ between two points in a vector space must satisfy the following requirements:\n",
    "* It is **non-negative**: $d(x,y) \\geq 0$ for all $x$, $y$, with $d(x,y) = 0$ if and only if $x = y$\n",
    "* It is **symmetric**: $d(x,y) = d(y,x)$\n",
    "* It satisfies the **triangle inequality**: $d(x,y) \\leq d(x,z) + d(z,y)$"
   ]
  },
  {
   "cell_type": "markdown",
   "metadata": {
    "collapsed": true
   },
   "source": [
    "Some common measures of distance:"
   ]
  },
  {
   "cell_type": "markdown",
   "metadata": {},
   "source": [
    "### Euclidean distance\n",
    "\n",
    "This is perhaps the most commonly used distance metric: $d(X,Y) = \\sqrt{(X_0-Y_0)^2 + (X_1-Y_1)^2}$."
   ]
  },
  {
   "cell_type": "code",
   "execution_count": 33,
   "metadata": {
    "ExecuteTime": {
     "end_time": "2017-11-13T17:06:05.406844",
     "start_time": "2017-11-13T17:06:05.400532"
    },
    "collapsed": true
   },
   "outputs": [],
   "source": [
    "import numpy as np\n",
    "import math as ma\n",
    "import matplotlib.pyplot as plt\n",
    "%matplotlib inline"
   ]
  },
  {
   "cell_type": "code",
   "execution_count": 28,
   "metadata": {
    "ExecuteTime": {
     "end_time": "2017-11-06T18:54:37.447771",
     "start_time": "2017-11-06T18:54:37.075923"
    },
    "collapsed": false
   },
   "outputs": [
    {
     "data": {
      "image/png": "[encoded data removed]",
      "text/plain": [
       "<matplotlib.figure.Figure at 0x7f316e77b630>"
      ]
     },
     "metadata": {},
     "output_type": "display_data"
    }
   ],
   "source": [
    "X = np.array([3.3, 1.2])\n",
    "Y = np.array([2.1, -1.8])\n",
    "\n",
    "plt.arrow(0,0,*X, head_width=0.2);\n",
    "plt.arrow(0,0,*Y, head_width=0.2);\n",
    "plt.xlim([0, 4]);\n",
    "plt.ylim([-2,2]);\n",
    "plt.show();"
   ]
  },
  {
   "cell_type": "code",
   "execution_count": 18,
   "metadata": {
    "ExecuteTime": {
     "end_time": "2017-11-06T18:38:27.790016",
     "start_time": "2017-11-06T18:38:27.783091"
    },
    "collapsed": false
   },
   "outputs": [
    {
     "data": {
      "text/plain": [
       "3.2310988842807022"
      ]
     },
     "execution_count": 18,
     "metadata": {},
     "output_type": "execute_result"
    }
   ],
   "source": [
    "# Euclidean distance manually:\n",
    "ma.sqrt(np.sum((X-Y)**2))"
   ]
  },
  {
   "cell_type": "code",
   "execution_count": 15,
   "metadata": {
    "ExecuteTime": {
     "end_time": "2017-11-06T18:37:05.756669",
     "start_time": "2017-11-06T18:37:05.750401"
    },
    "collapsed": false
   },
   "outputs": [
    {
     "data": {
      "text/plain": [
       "3.2310988842807022"
      ]
     },
     "execution_count": 15,
     "metadata": {},
     "output_type": "execute_result"
    }
   ],
   "source": [
    "# numpy norm:\n",
    "np.linalg.norm(X-Y)"
   ]
  },
  {
   "cell_type": "markdown",
   "metadata": {},
   "source": [
    "### More general Minkowski distance"
   ]
  },
  {
   "cell_type": "markdown",
   "metadata": {},
   "source": [
    "In a d-dimensional vector space, the Minkowski distance of order $p$ is defined as:\n",
    "\n",
    "$d_p(X,Y) = \\left(\\sum_{i=1}^{d} \\left|X_i - Y_i\\right|^p \\right)^{1/p}$\n",
    "\n",
    "The Euclidean distance is a special case of the Minkowski distance with $p=2$. \n",
    "\n",
    "Some other common cases include:\n",
    "\n",
    "* The Manhattan distance: $p = 1$\n",
    "* The Chebyshev distance: $p = \\infty$, where $d_\\infty(X,Y) = \\max_{i = 0,\\ldots,n}\\left| X_i - Y_i \\right|$"
   ]
  },
  {
   "cell_type": "code",
   "execution_count": 34,
   "metadata": {
    "ExecuteTime": {
     "end_time": "2017-11-13T17:06:10.761795",
     "start_time": "2017-11-13T17:06:10.758690"
    },
    "collapsed": false
   },
   "outputs": [],
   "source": [
    "import scipy.spatial.distance as dst"
   ]
  },
  {
   "cell_type": "code",
   "execution_count": 25,
   "metadata": {
    "ExecuteTime": {
     "end_time": "2017-11-06T18:52:55.181571",
     "start_time": "2017-11-06T18:52:55.174455"
    },
    "collapsed": false,
    "scrolled": true
   },
   "outputs": [
    {
     "data": {
      "text/plain": [
       "array([[ 4.2]])"
      ]
     },
     "execution_count": 25,
     "metadata": {},
     "output_type": "execute_result"
    }
   ],
   "source": [
    "# Manhattan distance\n",
    "dst.cdist(np.expand_dims(X, axis=0),np.expand_dims(Y, axis=0),'cityblock')"
   ]
  },
  {
   "cell_type": "code",
   "execution_count": 26,
   "metadata": {
    "ExecuteTime": {
     "end_time": "2017-11-06T18:53:38.535341",
     "start_time": "2017-11-06T18:53:38.528972"
    },
    "collapsed": false
   },
   "outputs": [
    {
     "data": {
      "text/plain": [
       "array([[ 3.]])"
      ]
     },
     "execution_count": 26,
     "metadata": {},
     "output_type": "execute_result"
    }
   ],
   "source": [
    "# Chebyshev distance\n",
    "dst.cdist(np.expand_dims(X, axis=0),np.expand_dims(Y, axis=0),'chebyshev')"
   ]
  },
  {
   "cell_type": "markdown",
   "metadata": {},
   "source": [
    "## Scaling the Axes"
   ]
  },
  {
   "cell_type": "markdown",
   "metadata": {},
   "source": [
    "The Euclidean distance can be written in (suggestive) vector notation as:\n",
    "\n",
    "$d^2(X,Y) = (X-Y)^T I_{n \\times n} (X-Y)$\n",
    "\n",
    "Instead of the $n \\times n$ identity matrix, we could use and positive definite matrix. "
   ]
  },
  {
   "cell_type": "markdown",
   "metadata": {},
   "source": [
    "A **positive definite** matrix is defined as a matrix $M$ for which $z^T M z \\geq 0$ for all real vectors $z$, with equality only if $z$ is the vector of all zeros."
   ]
  },
  {
   "cell_type": "markdown",
   "metadata": {},
   "source": [
    "We can use this matrix to appropriately rescale the axes, for example to correct for high variance along a given dimension in our feature space: this gives us the Mahalanobis metric, \n",
    "\n",
    "$d_M(X,Y) = (X-Y)^T \\Sigma^{-1} (X-Y)$,\n",
    "\n",
    "where $\\Sigma$ is the covariance matrix of your data points."
   ]
  },
  {
   "cell_type": "markdown",
   "metadata": {},
   "source": [
    "## Additional reading:\n",
    "\n",
    "Distances between words (taking into account the context):\n",
    "\n",
    "http://mccormickml.com/2016/04/19/word2vec-tutorial-the-skip-gram-model/"
   ]
  },
  {
   "cell_type": "markdown",
   "metadata": {
    "ExecuteTime": {
     "end_time": "2017-11-13T17:05:01.682346",
     "start_time": "2017-11-13T17:05:01.678215"
    }
   },
   "source": [
    "# Let's try some clustering"
   ]
  },
  {
   "cell_type": "code",
   "execution_count": 56,
   "metadata": {
    "ExecuteTime": {
     "end_time": "2017-11-13T17:21:48.524676",
     "start_time": "2017-11-13T17:21:48.521224"
    },
    "collapsed": true
   },
   "outputs": [],
   "source": [
    "import pandas as pd\n",
    "from sklearn.neighbors import NearestNeighbors"
   ]
  },
  {
   "cell_type": "code",
   "execution_count": 54,
   "metadata": {
    "ExecuteTime": {
     "end_time": "2017-11-13T17:17:15.168601",
     "start_time": "2017-11-13T17:17:15.145185"
    },
    "collapsed": false
   },
   "outputs": [
    {
     "data": {
      "text/html": [
       "<div>\n",
       "<table border=\"1\" class=\"dataframe\">\n",
       "  <thead>\n",
       "    <tr style=\"text-align: right;\">\n",
       "      <th></th>\n",
       "      <th>ID</th>\n",
       "      <th>Speed</th>\n",
       "      <th>Agility</th>\n",
       "      <th>Draft</th>\n",
       "    </tr>\n",
       "  </thead>\n",
       "  <tbody>\n",
       "    <tr>\n",
       "      <th>0</th>\n",
       "      <td>1</td>\n",
       "      <td>2.50</td>\n",
       "      <td>6.00</td>\n",
       "      <td>no</td>\n",
       "    </tr>\n",
       "    <tr>\n",
       "      <th>1</th>\n",
       "      <td>2</td>\n",
       "      <td>3.75</td>\n",
       "      <td>8.00</td>\n",
       "      <td>no</td>\n",
       "    </tr>\n",
       "    <tr>\n",
       "      <th>2</th>\n",
       "      <td>3</td>\n",
       "      <td>2.25</td>\n",
       "      <td>5.50</td>\n",
       "      <td>no</td>\n",
       "    </tr>\n",
       "    <tr>\n",
       "      <th>3</th>\n",
       "      <td>4</td>\n",
       "      <td>3.25</td>\n",
       "      <td>8.25</td>\n",
       "      <td>no</td>\n",
       "    </tr>\n",
       "    <tr>\n",
       "      <th>4</th>\n",
       "      <td>5</td>\n",
       "      <td>2.75</td>\n",
       "      <td>7.50</td>\n",
       "      <td>no</td>\n",
       "    </tr>\n",
       "  </tbody>\n",
       "</table>\n",
       "</div>"
      ],
      "text/plain": [
       "   ID  Speed  Agility Draft\n",
       "0   1   2.50     6.00    no\n",
       "1   2   3.75     8.00    no\n",
       "2   3   2.25     5.50    no\n",
       "3   4   3.25     8.25    no\n",
       "4   5   2.75     7.50    no"
      ]
     },
     "execution_count": 54,
     "metadata": {},
     "output_type": "execute_result"
    }
   ],
   "source": [
    "# read in the basketball draft dataset\n",
    "df = pd.read_csv('./Table5-2.csv', names=['ID','Speed','Agility','Draft'], skiprows=[0])\n",
    "\n",
    "df.head()"
   ]
  },
  {
   "cell_type": "code",
   "execution_count": 53,
   "metadata": {
    "ExecuteTime": {
     "end_time": "2017-11-13T17:16:12.846359",
     "start_time": "2017-11-13T17:16:12.307035"
    },
    "collapsed": false,
    "scrolled": true
   },
   "outputs": [
    {
     "data": {
      "image/png": "[encoded data removed]",
      "text/plain": [
       "<matplotlib.figure.Figure at 0x7f31c8851668>"
      ]
     },
     "metadata": {},
     "output_type": "display_data"
    }
   ],
   "source": [
    "fig, ax = plt.subplots()\n",
    "ax.margins(0.05)\n",
    "groups = df.groupby('Draft')\n",
    "for name, group in groups:\n",
    "    ax.plot(group.Speed, group.Agility, marker='o', linestyle='', ms=12, label=name);\n",
    "ax.legend(numpoints=1, loc='lower right');"
   ]
  },
  {
   "cell_type": "markdown",
   "metadata": {},
   "source": [
    "## Nearest-neighbor clustering"
   ]
  },
  {
   "cell_type": "code",
   "execution_count": 60,
   "metadata": {
    "ExecuteTime": {
     "end_time": "2017-11-13T17:25:25.669366",
     "start_time": "2017-11-13T17:25:25.661722"
    },
    "collapsed": true
   },
   "outputs": [],
   "source": [
    "# Let's fit a nearest-neighbor model to our data, using Euclidean distance...\n",
    "nearest_neighbor_model = NearestNeighbors(1, metric='euclidean').fit(df[['Speed','Agility']], df['Draft'])"
   ]
  },
  {
   "cell_type": "code",
   "execution_count": 79,
   "metadata": {
    "ExecuteTime": {
     "end_time": "2017-11-13T17:34:21.321007",
     "start_time": "2017-11-13T17:34:21.310661"
    },
    "collapsed": false
   },
   "outputs": [
    {
     "data": {
      "text/plain": [
       "18      yes\n",
       "5        no\n",
       "Name: Draft, dtype: object"
      ]
     },
     "execution_count": 79,
     "metadata": {},
     "output_type": "execute_result"
    }
   ],
   "source": [
    "# OK, now let's find the nearest neighbors for some new data points!\n",
    "samples = np.array([[7,7],[5,5]]) # samples to classify, in [speed, agility] format"
   ]
  },
  {
   "cell_type": "code",
   "execution_count": 82,
   "metadata": {
    "ExecuteTime": {
     "end_time": "2017-11-13T17:34:50.571551",
     "start_time": "2017-11-13T17:34:50.169816"
    },
    "collapsed": false,
    "scrolled": true
   },
   "outputs": [
    {
     "data": {
      "image/png": "[encoded data removed]",
      "text/plain": [
       "<matplotlib.figure.Figure at 0x7f316184de10>"
      ]
     },
     "metadata": {},
     "output_type": "display_data"
    }
   ],
   "source": [
    "fig, ax = plt.subplots()\n",
    "ax.margins(0.05)\n",
    "groups = df.groupby('Draft')\n",
    "for name, group in groups:\n",
    "    ax.plot(group.Speed, group.Agility, marker='o', linestyle='', ms=12, label=name);\n",
    "ax.legend(numpoints=1, loc='lower right');\n",
    "ax.plot(samples[:,0],samples[:,1], marker='o', linestyle='', ms=12, c='red');"
   ]
  },
  {
   "cell_type": "code",
   "execution_count": 83,
   "metadata": {
    "ExecuteTime": {
     "end_time": "2017-11-13T17:35:06.222118",
     "start_time": "2017-11-13T17:35:06.213744"
    },
    "collapsed": false
   },
   "outputs": [
    {
     "data": {
      "text/plain": [
       "18      yes\n",
       "5        no\n",
       "Name: Draft, dtype: object"
      ]
     },
     "execution_count": 83,
     "metadata": {},
     "output_type": "execute_result"
    }
   ],
   "source": [
    "df.Draft.iloc[nearest_neighbor_model.kneighbors(samples, return_distance=False).ravel()] # the kneighbors method returns the index of the\n",
    "                                                                                         # nearest neighbors...."
   ]
  },
  {
   "cell_type": "code",
   "execution_count": 70,
   "metadata": {
    "ExecuteTime": {
     "end_time": "2017-11-13T17:29:09.071974",
     "start_time": "2017-11-13T17:29:09.064246"
    },
    "collapsed": false
   },
   "outputs": [
    {
     "data": {
      "text/plain": [
       "array([18,  9])"
      ]
     },
     "execution_count": 70,
     "metadata": {},
     "output_type": "execute_result"
    }
   ],
   "source": [
    "nearest_neighbor_model.kneighbors([[7,7],[5,4]], return_distance=False).ravel()"
   ]
  },
  {
   "cell_type": "markdown",
   "metadata": {},
   "source": [
    "## K-Nearest Neighbors Classifier"
   ]
  },
  {
   "cell_type": "markdown",
   "metadata": {},
   "source": [
    "The NearestNeighbors function helps us recover the neighbors that are closest to the desired data point; but if we're interested in using k-nearest neighbors for classification, we can use KNeighborsClassifier."
   ]
  },
  {
   "cell_type": "code",
   "execution_count": 84,
   "metadata": {
    "ExecuteTime": {
     "end_time": "2017-11-13T17:39:53.045060",
     "start_time": "2017-11-13T17:39:53.041447"
    },
    "collapsed": true
   },
   "outputs": [],
   "source": [
    "from sklearn.neighbors import KNeighborsClassifier"
   ]
  },
  {
   "cell_type": "code",
   "execution_count": 88,
   "metadata": {
    "ExecuteTime": {
     "end_time": "2017-11-13T17:41:45.121913",
     "start_time": "2017-11-13T17:41:45.115968"
    },
    "collapsed": true
   },
   "outputs": [],
   "source": [
    "# define model and train it on the input data\n",
    "knn_model = KNeighborsClassifier(n_neighbors=5, metric='euclidean').fit(df[['Speed','Agility']], df['Draft'])"
   ]
  },
  {
   "cell_type": "code",
   "execution_count": 90,
   "metadata": {
    "ExecuteTime": {
     "end_time": "2017-11-13T17:42:32.449290",
     "start_time": "2017-11-13T17:42:32.443114"
    },
    "collapsed": false,
    "scrolled": true
   },
   "outputs": [
    {
     "data": {
      "text/plain": [
       "array(['  yes', '  no'], dtype=object)"
      ]
     },
     "execution_count": 90,
     "metadata": {},
     "output_type": "execute_result"
    }
   ],
   "source": [
    "# predict classes for \"samples\", using k nearest neighbors\n",
    "knn_model.predict(samples)"
   ]
  },
  {
   "cell_type": "code",
   "execution_count": 91,
   "metadata": {
    "ExecuteTime": {
     "end_time": "2017-11-13T20:10:51.478034",
     "start_time": "2017-11-13T20:10:51.473989"
    },
    "collapsed": true
   },
   "outputs": [],
   "source": [
    "from nltk.cluster.kmeans import KMeansClusterer"
   ]
  },
  {
   "cell_type": "code",
   "execution_count": 92,
   "metadata": {
    "ExecuteTime": {
     "end_time": "2017-11-13T20:10:56.461548",
     "start_time": "2017-11-13T20:10:56.447381"
    },
    "collapsed": false
   },
   "outputs": [
    {
     "name": "stdout",
     "output_type": "stream",
     "text": [
      "Help on class KMeansClusterer in module nltk.cluster.kmeans:\n",
      "\n",
      "class KMeansClusterer(nltk.cluster.util.VectorSpaceClusterer)\n",
      " |  The K-means clusterer starts with k arbitrary chosen means then allocates\n",
      " |  each vector to the cluster with the closest mean. It then recalculates the\n",
      " |  means of each cluster as the centroid of the vectors in the cluster. This\n",
      " |  process repeats until the cluster memberships stabilise. This is a\n",
      " |  hill-climbing algorithm which may converge to a local maximum. Hence the\n",
      " |  clustering is often repeated with random initial means and the most\n",
      " |  commonly occurring output means are chosen.\n",
      " |  \n",
      " |  Method resolution order:\n",
      " |      KMeansClusterer\n",
      " |      nltk.cluster.util.VectorSpaceClusterer\n",
      " |      nltk.cluster.api.ClusterI\n",
      " |      builtins.object\n",
      " |  \n",
      " |  Methods defined here:\n",
      " |  \n",
      " |  __init__(self, num_means, distance, repeats=1, conv_test=1e-06, initial_means=None, normalise=False, svd_dimensions=None, rng=None, avoid_empty_clusters=False)\n",
      " |      :param  num_means:  the number of means to use (may use fewer)\n",
      " |      :type   num_means:  int\n",
      " |      :param  distance:   measure of distance between two vectors\n",
      " |      :type   distance:   function taking two vectors and returing a float\n",
      " |      :param  repeats:    number of randomised clustering trials to use\n",
      " |      :type   repeats:    int\n",
      " |      :param  conv_test:  maximum variation in mean differences before\n",
      " |                          deemed convergent\n",
      " |      :type   conv_test:  number\n",
      " |      :param  initial_means: set of k initial means\n",
      " |      :type   initial_means: sequence of vectors\n",
      " |      :param  normalise:  should vectors be normalised to length 1\n",
      " |      :type   normalise:  boolean\n",
      " |      :param svd_dimensions: number of dimensions to use in reducing vector\n",
      " |                             dimensionsionality with SVD\n",
      " |      :type svd_dimensions: int\n",
      " |      :param  rng:        random number generator (or None)\n",
      " |      :type   rng:        Random\n",
      " |      :param avoid_empty_clusters: include current centroid in computation\n",
      " |                                   of next one; avoids undefined behavior\n",
      " |                                   when clusters become empty\n",
      " |      :type avoid_empty_clusters: boolean\n",
      " |  \n",
      " |  __repr__(self)\n",
      " |  \n",
      " |  __unicode__ = __str__(self, /)\n",
      " |      Return str(self).\n",
      " |  \n",
      " |  classify_vectorspace(self, vector)\n",
      " |  \n",
      " |  cluster_vectorspace(self, vectors, trace=False)\n",
      " |  \n",
      " |  means(self)\n",
      " |      The means used for clustering.\n",
      " |  \n",
      " |  num_clusters(self)\n",
      " |  \n",
      " |  unicode_repr = __repr__(self)\n",
      " |  \n",
      " |  ----------------------------------------------------------------------\n",
      " |  Methods inherited from nltk.cluster.util.VectorSpaceClusterer:\n",
      " |  \n",
      " |  classify(self, vector)\n",
      " |  \n",
      " |  cluster(self, vectors, assign_clusters=False, trace=False)\n",
      " |  \n",
      " |  likelihood(self, vector, label)\n",
      " |  \n",
      " |  likelihood_vectorspace(self, vector, cluster)\n",
      " |      Returns the likelihood of the vector belonging to the cluster.\n",
      " |  \n",
      " |  vector(self, vector)\n",
      " |      Returns the vector after normalisation and dimensionality reduction\n",
      " |  \n",
      " |  ----------------------------------------------------------------------\n",
      " |  Methods inherited from nltk.cluster.api.ClusterI:\n",
      " |  \n",
      " |  classification_probdist(self, vector)\n",
      " |      Classifies the token into a cluster, returning\n",
      " |      a probability distribution over the cluster identifiers.\n",
      " |  \n",
      " |  cluster_name(self, index)\n",
      " |      Returns the names of the cluster at index.\n",
      " |  \n",
      " |  cluster_names(self)\n",
      " |      Returns the names of the clusters.\n",
      " |  \n",
      " |  ----------------------------------------------------------------------\n",
      " |  Data descriptors inherited from nltk.cluster.api.ClusterI:\n",
      " |  \n",
      " |  __dict__\n",
      " |      dictionary for instance variables (if defined)\n",
      " |  \n",
      " |  __weakref__\n",
      " |      list of weak references to the object (if defined)\n",
      "\n"
     ]
    }
   ],
   "source": [
    "help(KMeansClusterer)"
   ]
  }
 ],
 "metadata": {
  "kernelspec": {
   "display_name": "Python 3",
   "language": "python",
   "name": "python3"
  },
  "language_info": {
   "codemirror_mode": {
    "name": "ipython",
    "version": 3
   },
   "file_extension": ".py",
   "mimetype": "text/x-python",
   "name": "python",
   "nbconvert_exporter": "python",
   "pygments_lexer": "ipython3",
   "version": "3.4.3"
  },
  "toc": {
   "nav_menu": {
    "height": "133px",
    "width": "252px"
   },
   "navigate_menu": true,
   "number_sections": true,
   "sideBar": true,
   "threshold": 4,
   "toc_cell": false,
   "toc_section_display": "block",
   "toc_window_display": false
  }
 },
 "nbformat": 4,
 "nbformat_minor": 0
}
