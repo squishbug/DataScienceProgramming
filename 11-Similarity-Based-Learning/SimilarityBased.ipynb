{
 "cells": [
  {
   "cell_type": "markdown",
   "metadata": {},
   "source": [
    "# Similarity-based Learning\n",
    "\n",
    "Similiarity-based approaches in machine learning come from the idea that the best way to make predictions is simply to look at what has worked in the past and predict the same thing again. The fundamental concepts required to build a system based on this idea are feature spaces and measures of similarity."
   ]
  },
  {
   "cell_type": "markdown",
   "metadata": {
    "collapsed": true
   },
   "source": [
    "## Reading\n",
    "\n",
    "1. Chapter 5 of [Fundamentals of Machine Learning for Predictive Data Analytics](https://mitpress.mit.edu/books/fundamentals-machine-learning-predictive-data-analytics)\n",
    "3. [Chapter 5 Slides 'A'](http://131.96.197.204/~pmolnar/mlbook/BookSlides_5A_Similarity-based-Learning.pdf) (internal)\n",
    "3. [Chapter 5 Slides 'B'](http://131.96.197.204/~pmolnar/mlbook/BookSlides_5B_Similarity-based-Learning.pdf) (internal)\n",
    "\n",
    "Slides are posted on the internal server http://131.96.197.204/~pmolnar/mlbook\n"
   ]
  },
  {
   "cell_type": "markdown",
   "metadata": {
    "collapsed": true
   },
   "source": [
    "## What is a metric?"
   ]
  },
  {
   "cell_type": "markdown",
   "metadata": {},
   "source": [
    "The \"distance\" $d$ between two points in a vector space must satisfy the following requirements:\n",
    "* It is **non-negative**: $d(x,y) \\geq 0$ for all $x$, $y$, with $d(x,y) = 0$ if and only if $x = y$\n",
    "* It is **symmetric**: $d(x,y) = d(y,x)$\n",
    "* It satisfies the **triangle inequality**: $d(x,y) \\leq d(x,z) + d(z,y)$"
   ]
  },
  {
   "cell_type": "markdown",
   "metadata": {
    "collapsed": true
   },
   "source": [
    "Some common measures of distance:"
   ]
  },
  {
   "cell_type": "markdown",
   "metadata": {},
   "source": [
    "### Euclidean distance\n",
    "\n",
    "This is perhaps the most commonly used distance metric: $d(X,Y) = \\sqrt{(X_0-Y_0)^2 + (X_1-Y_1)^2}$."
   ]
  },
  {
   "cell_type": "code",
   "execution_count": 16,
   "metadata": {
    "ExecuteTime": {
     "end_time": "2017-11-06T18:37:20.303987",
     "start_time": "2017-11-06T18:37:20.295563"
    },
    "collapsed": true
   },
   "outputs": [],
   "source": [
    "import numpy as np\n",
    "import math as ma\n",
    "import matplotlib.pyplot as plt\n",
    "%matplotlib inline"
   ]
  },
  {
   "cell_type": "code",
   "execution_count": 28,
   "metadata": {
    "ExecuteTime": {
     "end_time": "2017-11-06T18:54:37.447771",
     "start_time": "2017-11-06T18:54:37.075923"
    },
    "collapsed": false
   },
   "outputs": [
    {
     "data": {
      "image/png": "[encoded data removed]",
      "text/plain": [
       "<matplotlib.figure.Figure at 0x7f316e77b630>"
      ]
     },
     "metadata": {},
     "output_type": "display_data"
    }
   ],
   "source": [
    "X = np.array([3.3, 1.2])\n",
    "Y = np.array([2.1, -1.8])\n",
    "\n",
    "plt.arrow(0,0,*X, head_width=0.2);\n",
    "plt.arrow(0,0,*Y, head_width=0.2);\n",
    "plt.xlim([0, 4]);\n",
    "plt.ylim([-2,2]);\n",
    "plt.show();"
   ]
  },
  {
   "cell_type": "code",
   "execution_count": 18,
   "metadata": {
    "ExecuteTime": {
     "end_time": "2017-11-06T18:38:27.790016",
     "start_time": "2017-11-06T18:38:27.783091"
    },
    "collapsed": false
   },
   "outputs": [
    {
     "data": {
      "text/plain": [
       "3.2310988842807022"
      ]
     },
     "execution_count": 18,
     "metadata": {},
     "output_type": "execute_result"
    }
   ],
   "source": [
    "# Euclidean distance manually:\n",
    "ma.sqrt(np.sum((X-Y)**2))"
   ]
  },
  {
   "cell_type": "code",
   "execution_count": 15,
   "metadata": {
    "ExecuteTime": {
     "end_time": "2017-11-06T18:37:05.756669",
     "start_time": "2017-11-06T18:37:05.750401"
    },
    "collapsed": false
   },
   "outputs": [
    {
     "data": {
      "text/plain": [
       "3.2310988842807022"
      ]
     },
     "execution_count": 15,
     "metadata": {},
     "output_type": "execute_result"
    }
   ],
   "source": [
    "# numpy norm:\n",
    "np.linalg.norm(X-Y)"
   ]
  },
  {
   "cell_type": "markdown",
   "metadata": {},
   "source": [
    "### More general Minkowski distance"
   ]
  },
  {
   "cell_type": "markdown",
   "metadata": {},
   "source": [
    "In a d-dimensional vector space, the Minkowski distance of order $p$ is defined as:\n",
    "\n",
    "$d_p(X,Y) = \\left(\\sum_{i=1}^{d} \\left|X_i - Y_i\\right|^p \\right)^{1/p}$\n",
    "\n",
    "The Euclidean distance is a special case of the Minkowski distance with $p=2$. \n",
    "\n",
    "Some other common cases include:\n",
    "\n",
    "* The Manhattan distance: $p = 1$\n",
    "* The Chebyshev distance: $p = \\infty$, where $d_\\infty(X,Y) = \\max_{i = 0,\\ldots,n}\\left| X_i - Y_i \\right|$"
   ]
  },
  {
   "cell_type": "code",
   "execution_count": 23,
   "metadata": {
    "ExecuteTime": {
     "end_time": "2017-11-06T18:50:48.923877",
     "start_time": "2017-11-06T18:50:48.817253"
    },
    "collapsed": false
   },
   "outputs": [],
   "source": [
    "import scipy.spatial.distance as dst"
   ]
  },
  {
   "cell_type": "code",
   "execution_count": 25,
   "metadata": {
    "ExecuteTime": {
     "end_time": "2017-11-06T18:52:55.181571",
     "start_time": "2017-11-06T18:52:55.174455"
    },
    "collapsed": false,
    "scrolled": true
   },
   "outputs": [
    {
     "data": {
      "text/plain": [
       "array([[ 4.2]])"
      ]
     },
     "execution_count": 25,
     "metadata": {},
     "output_type": "execute_result"
    }
   ],
   "source": [
    "# Manhattan distance\n",
    "dst.cdist(np.expand_dims(X, axis=0),np.expand_dims(Y, axis=0),'cityblock')"
   ]
  },
  {
   "cell_type": "code",
   "execution_count": 26,
   "metadata": {
    "ExecuteTime": {
     "end_time": "2017-11-06T18:53:38.535341",
     "start_time": "2017-11-06T18:53:38.528972"
    },
    "collapsed": false
   },
   "outputs": [
    {
     "data": {
      "text/plain": [
       "array([[ 3.]])"
      ]
     },
     "execution_count": 26,
     "metadata": {},
     "output_type": "execute_result"
    }
   ],
   "source": [
    "# Chebyshev distance\n",
    "dst.cdist(np.expand_dims(X, axis=0),np.expand_dims(Y, axis=0),'chebyshev')"
   ]
  },
  {
   "cell_type": "markdown",
   "metadata": {},
   "source": [
    "## Scaling the Axes"
   ]
  },
  {
   "cell_type": "markdown",
   "metadata": {},
   "source": [
    "The Euclidean distance can be written in (suggestive) vector notation as:\n",
    "\n",
    "$d^2(X,Y) = (X-Y)^T I_{n \\times n} (X-Y)$\n",
    "\n",
    "Instead of the $n \\times n$ identity matrix, we could use and positive definite matrix. "
   ]
  },
  {
   "cell_type": "markdown",
   "metadata": {},
   "source": [
    "A **positive definite** matrix is defined as a matrix $M$ for which $z^T M z \\geq 0$ for all real vectors $z$, with equality only if $z$ is the vector of all zeros."
   ]
  },
  {
   "cell_type": "markdown",
   "metadata": {},
   "source": [
    "We can use this matrix to appropriately rescale the axes, for example to correct for high variance along a given dimension in our feature space: this gives us the Mahalanobis metric, \n",
    "\n",
    "$d_M(X,Y) = (X-Y)^T \\Sigma^{-1} (X-Y)$,\n",
    "\n",
    "where $\\Sigma$ is the covariance matrix of your data points."
   ]
  }
 ],
 "metadata": {
  "kernelspec": {
   "display_name": "Python 3",
   "language": "python",
   "name": "python3"
  },
  "language_info": {
   "codemirror_mode": {
    "name": "ipython",
    "version": 3
   },
   "file_extension": ".py",
   "mimetype": "text/x-python",
   "name": "python",
   "nbconvert_exporter": "python",
   "pygments_lexer": "ipython3",
   "version": "3.4.3"
  },
  "toc": {
   "nav_menu": {
    "height": "133px",
    "width": "252px"
   },
   "navigate_menu": true,
   "number_sections": true,
   "sideBar": true,
   "threshold": 4,
   "toc_cell": false,
   "toc_section_display": "block",
   "toc_window_display": false
  }
 },
 "nbformat": 4,
 "nbformat_minor": 0
}
