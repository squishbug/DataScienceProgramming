{
 "cells": [
  {
   "cell_type": "code",
   "execution_count": 1,
   "metadata": {
    "ExecuteTime": {
     "end_time": "2017-09-24T14:54:54.188542",
     "start_time": "2017-09-24T14:54:53.299857"
    },
    "collapsed": true
   },
   "outputs": [],
   "source": [
    "import pandas as pd\n",
    "import numpy as np"
   ]
  },
  {
   "cell_type": "code",
   "execution_count": null,
   "metadata": {
    "collapsed": true
   },
   "outputs": [],
   "source": [
    "Employees = pd.read_excel('/home/data/AdventureWorks/Employees.xls')\n",
    "Territory = pd.read_excel('/home/data/AdventureWorks/SalesTerritory.xls')\n",
    "Customers = pd.read_excel('/home/data/AdventureWorks/Customers.xls')\n",
    "Orders = pd.read_excel('/home/data/AdventureWorks/ItemsOrdered.xls')"
   ]
  },
  {
   "cell_type": "code",
   "execution_count": null,
   "metadata": {
    "collapsed": true
   },
   "outputs": [],
   "source": [
    "# import pandas and numpy in answer file:"
   ]
  },
  {
   "cell_type": "code",
   "execution_count": 2,
   "metadata": {
    "ExecuteTime": {
     "end_time": "2017-10-02T20:06:32.668746",
     "start_time": "2017-10-02T20:06:32.628628"
    },
    "code_folding": [],
    "collapsed": true
   },
   "outputs": [],
   "source": [
    "%%sh\n",
    "cat << EOF > hw5_answers.py\n",
    "\n",
    "import pandas as pd\n",
    "import numpy as np\n",
    "\n",
    "EOF"
   ]
  },
  {
   "cell_type": "code",
   "execution_count": 4,
   "metadata": {
    "ExecuteTime": {
     "end_time": "2017-10-02T20:07:07.509933",
     "start_time": "2017-10-02T20:07:07.474052"
    },
    "collapsed": false
   },
   "outputs": [],
   "source": [
    "%%sh \n",
    "# Question 1\n",
    "cat << EOF >> hw5_answers.py\n",
    "\n",
    "def get_manager(Employees):\n",
    "    pass # your code goes here\n",
    "\n",
    "EOF"
   ]
  },
  {
   "cell_type": "code",
   "execution_count": null,
   "metadata": {
    "collapsed": true
   },
   "outputs": [],
   "source": [
    "%%sh\n",
    "# Question 2\n",
    "cat << EOF >> hw5_answers.py\n",
    "\n",
    "def get_spend_by_order(Orders, Customers):\n",
    "    pass # your code goes here\n",
    "\n",
    "EOF"
   ]
  },
  {
   "cell_type": "code",
   "execution_count": null,
   "metadata": {
    "collapsed": true
   },
   "outputs": [],
   "source": [
    "%%sh\n",
    "# Question 3\n",
    "cat << EOF >> hw5_answers.py\n",
    "\n",
    "def get_order_location(Orders, Customers, Territory):\n",
    "    pass # your code goes here\n",
    "\n",
    "EOF"
   ]
  },
  {
   "cell_type": "code",
   "execution_count": null,
   "metadata": {
    "collapsed": true
   },
   "outputs": [],
   "source": [
    "%%sh\n",
    "# Question 4\n",
    "cat << EOF >> hw5_answers.py\n",
    "\n",
    "def employee_info(Employees):\n",
    "    pass # your code goes here\n",
    "\n",
    "EOF"
   ]
  }
 ],
 "metadata": {
  "kernelspec": {
   "display_name": "Python 2",
   "language": "python",
   "name": "python2"
  },
  "toc": {
   "nav_menu": {
    "height": "12px",
    "width": "252px"
   },
   "navigate_menu": true,
   "number_sections": true,
   "sideBar": true,
   "threshold": 4,
   "toc_cell": false,
   "toc_section_display": "block",
   "toc_window_display": false
  }
 },
 "nbformat": 4,
 "nbformat_minor": 0
}
