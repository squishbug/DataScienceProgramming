{
 "cells": [
  {
   "cell_type": "markdown",
   "metadata": {},
   "source": [
    "# Tables --- Data Frames"
   ]
  },
  {
   "cell_type": "markdown",
   "metadata": {
    "collapsed": true
   },
   "source": [
    "![SQL History](http://1.bp.blogspot.com/-TSHXgRINTU4/VPakcc4zatI/AAAAAAAAAC0/pPh9e8lcMzQ/s1600/SQL-History.png)"
   ]
  },
  {
   "cell_type": "markdown",
   "metadata": {},
   "source": [
    "# SELECT Statement\n",
    "\n",
    "![SELECT](http://cdn.ttgtmedia.com/digitalguide/images/Misc/casq_1.jpg)\n",
    "\n",
    "<pre>\n",
    "SELECT e.EmployeeID, e.FirstName, e.LastName\n",
    "FROM Employees\n",
    "WHERE e.HireingDate BETWEEN '2010-1-1' AND '2015-12-31'\n",
    "</pre>"
   ]
  },
  {
   "cell_type": "markdown",
   "metadata": {},
   "source": [
    "# Grouping\n",
    "![Grouping](http://www.w3resource.com/sql/sql-root-images/group-by.gif)\n"
   ]
  },
  {
   "cell_type": "markdown",
   "metadata": {},
   "source": [
    "# Joining Tables\n",
    "![JOINS](http://i.imgur.com/hhRDO4d.png)"
   ]
  },
  {
   "cell_type": "code",
   "execution_count": null,
   "metadata": {
    "collapsed": true
   },
   "outputs": [],
   "source": []
  }
 ],
 "metadata": {
  "kernelspec": {
   "display_name": "Python 3",
   "language": "python",
   "name": "python3"
  },
  "language_info": {
   "codemirror_mode": {
    "name": "ipython",
    "version": 3
   },
   "file_extension": ".py",
   "mimetype": "text/x-python",
   "name": "python",
   "nbconvert_exporter": "python",
   "pygments_lexer": "ipython3",
   "version": "3.4.3"
  }
 },
 "nbformat": 4,
 "nbformat_minor": 0
}
