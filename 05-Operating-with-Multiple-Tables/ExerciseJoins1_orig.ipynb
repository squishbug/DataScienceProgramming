{
 "cells": [
  {
   "cell_type": "markdown",
   "metadata": {},
   "source": [
    "<div style=\"float:right; color:red; font-weight:bold;\">Rename this file before you work on it!</div>\n",
    "# Exercise on Joins :: Part 1\n",
    "Use the Adventure Works dataset to create the following reports. The dataset is availablt for download in it's original format at https://msdn.microsoft.com/en-us/library/hh403424.aspx (follow instructions to download).\n",
    "\n",
    "## Task\n",
    "1. write the Python Pandas expression to produce a table as described in the problem statements.\n",
    "2. The SQL expression may give you a hint. It also allows you to see both systems side-by-side.\n",
    "3. If you don't know SQL just ignore the SQL code."
   ]
  },
  {
   "cell_type": "code",
   "execution_count": 3,
   "metadata": {
    "collapsed": true
   },
   "outputs": [],
   "source": [
    "import pandas as pd\n",
    "import numpy as np"
   ]
  },
  {
   "cell_type": "code",
   "execution_count": 4,
   "metadata": {
    "collapsed": true
   },
   "outputs": [],
   "source": [
    "Empoyees = pd.read_excel('/home/data/AdventureWorks/Employees.xls')\n",
    "Territory = pd.read_excel('/home/data/AdventureWorks/SalesTerritory.xls')\n",
    "Customers = pd.read_excel('/home/data/AdventureWorks/Customers.xls')\n",
    "Orders = pd.read_excel('/home/data/AdventureWorks/ItemsOrdered.xls')"
   ]
  },
  {
   "cell_type": "markdown",
   "metadata": {},
   "source": [
    "### 1a. Show me all the employees, and if any are salespeople then show me the details about their sales territory"
   ]
  },
  {
   "cell_type": "raw",
   "metadata": {},
   "source": [
    "SELECT e.EmployeeID\n",
    "\t\t,e.FirstName + ' ' + e.LastName AS EmployeeName\n",
    "\t\t,st.*\n",
    "\tFROM dbo.Employees AS e\n",
    "\t\tINNER JOIN dbo.SalesTerritory AS st\n",
    "\t\tON e.TerritoryID = st.TerritoryID\n",
    "\t;"
   ]
  },
  {
   "cell_type": "code",
   "execution_count": null,
   "metadata": {
    "collapsed": true
   },
   "outputs": [],
   "source": []
  },
  {
   "cell_type": "markdown",
   "metadata": {},
   "source": [
    "### 1b. Change the columns above\n",
    "From Employees table use: EmployeeID, FirstName, LastName, TerritoryID\n",
    "From the SalesTerritory table use: show all the columns except for the TerritoryID"
   ]
  },
  {
   "cell_type": "raw",
   "metadata": {},
   "source": [
    "SELECT e.EmployeeID\n",
    "\t\t,e.FirstName + ' ' + e.LastName AS EmployeeName\n",
    "\t\t,e.TerritoryID\n",
    "\t\t,st.Name\n",
    "\t\t,st.CountryCode\n",
    "\t\t,st.Region\n",
    "\t\t,st.SalesYTD\n",
    "\t\t,st.SalesLastYear\n",
    "\tFROM dbo.Employees AS e\n",
    "\t\tLEFT OUTER JOIN dbo.SalesTerritory AS st\n",
    "\t\tON e.TerritoryID = st.TerritoryID\n",
    "\t;"
   ]
  },
  {
   "cell_type": "code",
   "execution_count": null,
   "metadata": {
    "collapsed": true
   },
   "outputs": [],
   "source": []
  },
  {
   "cell_type": "markdown",
   "metadata": {},
   "source": [
    "### 1c. For the list above, limit the results to just salespeople"
   ]
  },
  {
   "cell_type": "raw",
   "metadata": {},
   "source": [
    "SELECT e.EmployeeID\n",
    "\t\t,e.FirstName + ' ' + e.LastName AS EmployeeName\n",
    "\t\t,e.TerritoryID\n",
    "\t\t,st.Name\n",
    "\t\t,st.CountryCode\n",
    "\t\t,st.Region\n",
    "\t\t,st.SalesYTD\n",
    "\t\t,st.SalesLastYear\n",
    "\tFROM dbo.Employees AS e\n",
    "\t\tINNER JOIN dbo.SalesTerritory AS st\n",
    "\t\tON e.TerritoryID = st.TerritoryID\n",
    "\t;"
   ]
  },
  {
   "cell_type": "code",
   "execution_count": null,
   "metadata": {
    "collapsed": true
   },
   "outputs": [],
   "source": []
  },
  {
   "cell_type": "markdown",
   "metadata": {},
   "source": [
    "### 2a. Give me a list of customers"
   ]
  },
  {
   "cell_type": "raw",
   "metadata": {},
   "source": [
    "SELECT * \n",
    "\tFROM dbo.Customers as c\n",
    "\t;"
   ]
  },
  {
   "cell_type": "code",
   "execution_count": null,
   "metadata": {
    "collapsed": true
   },
   "outputs": [],
   "source": []
  },
  {
   "cell_type": "markdown",
   "metadata": {},
   "source": [
    "### 2b. For those customers, also tell me which sales territory they fall in"
   ]
  },
  {
   "cell_type": "raw",
   "metadata": {},
   "source": [
    "SELECT * \n",
    "\tFROM dbo.Customers as c\n",
    "\tINNER JOIN dbo.SalesTerritory as st\n",
    "\tON c.SalesTerritoryID = st.TerritoryID\n",
    "\t;"
   ]
  },
  {
   "cell_type": "code",
   "execution_count": null,
   "metadata": {
    "collapsed": true
   },
   "outputs": [],
   "source": []
  },
  {
   "cell_type": "markdown",
   "metadata": {},
   "source": [
    "### 3a. Give me a list of sales territories"
   ]
  },
  {
   "cell_type": "raw",
   "metadata": {},
   "source": [
    "SELECT * \n",
    "\tFROM dbo.SalesTerritory as st\n",
    "\t;"
   ]
  },
  {
   "cell_type": "code",
   "execution_count": null,
   "metadata": {
    "collapsed": true
   },
   "outputs": [],
   "source": []
  },
  {
   "cell_type": "markdown",
   "metadata": {},
   "source": [
    "### 3b. For those sales territories, also show what customers fall under them"
   ]
  },
  {
   "cell_type": "raw",
   "metadata": {},
   "source": [
    "SELECT * \n",
    "\tFROM dbo.SalesTerritory AS st\n",
    "\tLEFT OUTER JOIN dbo.Customers AS c\n",
    "\t\tON c.SalesTerritoryID = st.TerritoryID\n",
    "\t;"
   ]
  },
  {
   "cell_type": "code",
   "execution_count": null,
   "metadata": {
    "collapsed": true
   },
   "outputs": [],
   "source": []
  },
  {
   "cell_type": "markdown",
   "metadata": {},
   "source": [
    "### 3c. Make sure, if you didn't already, that any sales territories with 0 customers are also shown in the list"
   ]
  },
  {
   "cell_type": "raw",
   "metadata": {},
   "source": [
    "SELECT * \n",
    "\tFROM dbo.SalesTerritory AS st\n",
    "\tLEFT OUTER JOIN dbo.Customers AS c\n",
    "\t\tON c.SalesTerritoryID = st.TerritoryID\n",
    "\t;"
   ]
  },
  {
   "cell_type": "code",
   "execution_count": null,
   "metadata": {
    "collapsed": true
   },
   "outputs": [],
   "source": []
  },
  {
   "cell_type": "markdown",
   "metadata": {},
   "source": [
    "### 4a. Give me a list of the customers we have in North Carolina, and note how many there are."
   ]
  },
  {
   "cell_type": "raw",
   "metadata": {},
   "source": [
    "SELECT c.StateName, COUNT(*)\n",
    "\tFROM dbo.Customers as c\n",
    "\tGROUP BY c.StateName\n",
    "\t;"
   ]
  },
  {
   "cell_type": "raw",
   "metadata": {},
   "source": [
    "SELECT *\n",
    "\tFROM dbo.Customers as c\n",
    "\tWHERE c.StateName = 'North Carolina'\n",
    "\t;"
   ]
  },
  {
   "cell_type": "code",
   "execution_count": null,
   "metadata": {
    "collapsed": true
   },
   "outputs": [],
   "source": []
  },
  {
   "cell_type": "markdown",
   "metadata": {},
   "source": [
    "\t\n",
    "### 4b. For our North Carolina customers, show me the items they have ordered"
   ]
  },
  {
   "cell_type": "raw",
   "metadata": {},
   "source": [
    "SELECT *\n",
    "\tFROM dbo.Customers as c\n",
    "\tLEFT OUTER JOIN dbo.ItemsOrdered as ords\n",
    "\t\tON c.CustomerID = ords.CustomerID\n",
    "\tWHERE c.StateName = 'North Carolina'\n",
    "\t;"
   ]
  },
  {
   "cell_type": "code",
   "execution_count": null,
   "metadata": {
    "collapsed": true
   },
   "outputs": [],
   "source": []
  },
  {
   "cell_type": "markdown",
   "metadata": {},
   "source": [
    "### 4c. Change it so we're only looking at customers who are in Arizona"
   ]
  },
  {
   "cell_type": "raw",
   "metadata": {},
   "source": [
    "SELECT *\n",
    "\tFROM dbo.Customers as c\n",
    "\tLEFT OUTER JOIN dbo.ItemsOrdered as ords\n",
    "\t\tON c.CustomerID = ords.CustomerID\n",
    "\tWHERE c.StateName = 'Arizona'\n",
    "\t;"
   ]
  },
  {
   "cell_type": "code",
   "execution_count": null,
   "metadata": {
    "collapsed": true
   },
   "outputs": [],
   "source": []
  },
  {
   "cell_type": "markdown",
   "metadata": {},
   "source": [
    "### 4d. For each of the items ordered, show the total price of the order (sometimes they ordered more than 1 item)"
   ]
  },
  {
   "cell_type": "raw",
   "metadata": {},
   "source": [
    "SELECT *, ords.Quantity*ords.Price AS Total\n",
    "\tFROM dbo.Customers as c\n",
    "\tLEFT OUTER JOIN dbo.ItemsOrdered as ords\n",
    "\t\tON c.CustomerID = ords.CustomerID\n",
    "\t;"
   ]
  },
  {
   "cell_type": "code",
   "execution_count": null,
   "metadata": {
    "collapsed": true
   },
   "outputs": [],
   "source": []
  },
  {
   "cell_type": "markdown",
   "metadata": {},
   "source": [
    "### 4e. For the Arizona customers above, show the maximum total price per customer. Choose the columns wisely"
   ]
  },
  {
   "cell_type": "raw",
   "metadata": {},
   "source": [
    "SELECT c.CustomerID, c.FirstName+' '+c.LastName AS Name, MAX(ords.Quantity*ords.Price) AS MaxTotalOrder\n",
    "\tFROM dbo.Customers as c\n",
    "\tINNER JOIN dbo.ItemsOrdered as ords\n",
    "\t\tON c.CustomerID = ords.CustomerID\n",
    "\tWHERE c.StateName = 'Arizona'\n",
    "\tGROUP BY c.CustomerID, c.FirstName+' '+c.LastName\n",
    "\t;"
   ]
  },
  {
   "cell_type": "code",
   "execution_count": null,
   "metadata": {
    "collapsed": true
   },
   "outputs": [],
   "source": []
  },
  {
   "cell_type": "markdown",
   "metadata": {},
   "source": [
    "### 4f. For the results above, only show the ones where the MaxTotalPrice is more than $5.00"
   ]
  },
  {
   "cell_type": "raw",
   "metadata": {},
   "source": [
    "SELECT c.CustomerID, c.FirstName+' '+c.LastName AS Name, MAX(ords.Quantity*ords.Price) AS MaxTotalOrder\n",
    "\tFROM dbo.Customers as c\n",
    "\tINNER JOIN dbo.ItemsOrdered as ords\n",
    "\t\tON c.CustomerID = ords.CustomerID\n",
    "\tWHERE c.StateName = 'Arizona'\n",
    "\tGROUP BY c.CustomerID, c.FirstName+' '+c.LastName\n",
    "\tHAVING MAX(ords.Quantity*ords.Price)>5.0\n",
    "\t;"
   ]
  },
  {
   "cell_type": "code",
   "execution_count": null,
   "metadata": {
    "collapsed": true
   },
   "outputs": [],
   "source": []
  },
  {
   "cell_type": "markdown",
   "metadata": {},
   "source": [
    "### BONUS 1: Take the query from #3c and add a column called \"CityRegion\" that combines dbo.Customers.City and "
   ]
  },
  {
   "cell_type": "raw",
   "metadata": {},
   "source": [
    "dbo.SalesTerritory.Region (in the format \"City - Region\")\n",
    "SELECT *\n",
    "\t\t,COALESCE(c.City, 'n/a') -- , CONCAT(c.City, ' - ', st.Region) AS CityRegion\n",
    "\tFROM dbo.SalesTerritory AS st\n",
    "\tLEFT OUTER JOIN dbo.Customers AS c\n",
    "\t\tON c.SalesTerritoryID = st.TerritoryID\n",
    "\t;"
   ]
  },
  {
   "cell_type": "code",
   "execution_count": null,
   "metadata": {
    "collapsed": true
   },
   "outputs": [],
   "source": []
  },
  {
   "cell_type": "markdown",
   "metadata": {},
   "source": [
    "### BONUS 2: Fix the problem above where CityRegion is NULL sometimes; change it to, for example, \"n/a - North America\""
   ]
  },
  {
   "cell_type": "raw",
   "metadata": {},
   "source": [
    "SELECT *, CONCAT(COALESCE(c.City, 'n/a'), ' - ', st.Region) AS CityRegion\n",
    "\tFROM dbo.SalesTerritory AS st\n",
    "\tLEFT OUTER JOIN dbo.Customers AS c\n",
    "\t\tON c.SalesTerritoryID = st.TerritoryID\n",
    "\t;"
   ]
  },
  {
   "cell_type": "code",
   "execution_count": null,
   "metadata": {
    "collapsed": true
   },
   "outputs": [],
   "source": []
  },
  {
   "cell_type": "markdown",
   "metadata": {},
   "source": [
    "### OVERACHIEVER 1: Why do you think a database is designed so the data is split up into different tables?  Why not just put it all in one table?"
   ]
  },
  {
   "cell_type": "raw",
   "metadata": {},
   "source": []
  },
  {
   "cell_type": "code",
   "execution_count": null,
   "metadata": {
    "collapsed": true
   },
   "outputs": [],
   "source": []
  },
  {
   "cell_type": "markdown",
   "metadata": {},
   "source": [
    "### OVERACHIEVER 2a: Take the query from 1b and sort it by the sales region so that all the salespeople are the top of the list"
   ]
  },
  {
   "cell_type": "raw",
   "metadata": {},
   "source": [
    "SELECT e.EmployeeID\n",
    "\t\t,e.FirstName + ' ' + e.LastName AS EmployeeName\n",
    "\t\t,e.TerritoryID\n",
    "\t\t,st.Name\n",
    "\t\t,st.CountryCode\n",
    "\t\t,st.Region\n",
    "\t\t,st.SalesYTD\n",
    "\t\t,st.SalesLastYear\n",
    "\tFROM dbo.Employees AS e\n",
    "\t\tLEFT OUTER JOIN dbo.SalesTerritory AS st\n",
    "\t\tON e.TerritoryID = st.TerritoryID\n",
    "\tORDER BY COALESCE(e.TerritoryID, 99999)\n",
    "\t;"
   ]
  },
  {
   "cell_type": "code",
   "execution_count": null,
   "metadata": {
    "collapsed": true
   },
   "outputs": [],
   "source": []
  },
  {
   "cell_type": "markdown",
   "metadata": {},
   "source": [
    "### OVERACHIEVER 2b: From the query above, if the sales territory is outside Europe, do not display it (but we still want to see all the employees in the company!)"
   ]
  },
  {
   "cell_type": "raw",
   "metadata": {},
   "source": [
    "SELECT e.EmployeeID\n",
    "\t\t,e.FirstName + ' ' + e.LastName AS EmployeeName\n",
    "\t\t,e.TerritoryID\n",
    "\t\t,st.Name\n",
    "\t\t,st.CountryCode\n",
    "\t\t,st.Region\n",
    "\t\t,st.SalesYTD\n",
    "\t\t,st.SalesLastYear\n",
    "\tFROM dbo.Employees AS e\n",
    "\t\tLEFT OUTER JOIN dbo.SalesTerritory AS st\n",
    "\t\tON e.TerritoryID = st.TerritoryID AND st.Region = 'Europe'\n",
    "\tORDER BY COALESCE(e.TerritoryID, 99999)\n",
    "\t;"
   ]
  },
  {
   "cell_type": "code",
   "execution_count": null,
   "metadata": {
    "collapsed": true
   },
   "outputs": [],
   "source": []
  }
 ],
 "metadata": {
  "kernelspec": {
   "display_name": "Python 3",
   "language": "python",
   "name": "python3"
  },
  "language_info": {
   "codemirror_mode": {
    "name": "ipython",
    "version": 3
   },
   "file_extension": ".py",
   "mimetype": "text/x-python",
   "name": "python",
   "nbconvert_exporter": "python",
   "pygments_lexer": "ipython3",
   "version": "3.4.3"
  },
  "toc": {
   "nav_menu": {
    "height": "412px",
    "width": "252px"
   },
   "navigate_menu": true,
   "number_sections": true,
   "sideBar": true,
   "threshold": 4,
   "toc_cell": false,
   "toc_section_display": "block",
   "toc_window_display": false
  }
 },
 "nbformat": 4,
 "nbformat_minor": 0
}
