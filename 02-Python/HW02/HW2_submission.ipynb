{
 "cells": [
  {
   "cell_type": "code",
   "execution_count": 6,
   "metadata": {
    "ExecuteTime": {
     "end_time": "2017-09-25T19:35:34.762178",
     "start_time": "2017-09-25T19:35:34.731915"
    },
    "collapsed": true
   },
   "outputs": [],
   "source": [
    "%%sh\n",
    "cat << EOF > hw2_answers.py\n",
    "\n",
    "def operate(): # add your arguments!\n",
    "    lsdakfjasldkjf\n",
    "    lsdkfjsldkjf\n",
    "\n",
    "EOF"
   ]
  },
  {
   "cell_type": "code",
   "execution_count": 7,
   "metadata": {
    "ExecuteTime": {
     "end_time": "2017-09-25T19:35:34.809350",
     "start_time": "2017-09-25T19:35:34.764392"
    },
    "collapsed": true
   },
   "outputs": [],
   "source": [
    "%%sh\n",
    "cat << EOF >> hw2_answers.py\n",
    "\n",
    "def fib(): # add your arguments!\n",
    "    pass # replace this line with your code for question 2\n",
    "\n",
    "EOF"
   ]
  },
  {
   "cell_type": "code",
   "execution_count": 8,
   "metadata": {
    "ExecuteTime": {
     "end_time": "2017-09-25T19:35:34.857094",
     "start_time": "2017-09-25T19:35:34.811654"
    },
    "collapsed": true
   },
   "outputs": [],
   "source": [
    "%%sh\n",
    "cat << EOF >> hw2_answers.py\n",
    "\n",
    "def encode(): # add your arguments!\n",
    "    pass # replace this line with your code for question 3\n",
    "\n",
    "EOF"
   ]
  },
  {
   "cell_type": "code",
   "execution_count": 9,
   "metadata": {
    "ExecuteTime": {
     "end_time": "2017-09-25T19:35:34.907306",
     "start_time": "2017-09-25T19:35:34.859397"
    },
    "collapsed": true
   },
   "outputs": [],
   "source": [
    "%%sh\n",
    "cat << EOF >> hw2_answers.py\n",
    "\n",
    "def get_n(): # add your arguments!\n",
    "    pass # replace this line with your code for question 4\n",
    "\n",
    "EOF"
   ]
  },
  {
   "cell_type": "code",
   "execution_count": 10,
   "metadata": {
    "ExecuteTime": {
     "end_time": "2017-09-25T19:35:34.946652",
     "start_time": "2017-09-25T19:35:34.909603"
    },
    "collapsed": true
   },
   "outputs": [],
   "source": [
    "%%sh\n",
    "cat << EOF >> hw2_answers.py\n",
    "\n",
    "def describe(): # add your arguments!\n",
    "    pass # replace this line with your code for question 5\n",
    "\n",
    "EOF"
   ]
  }
 ],
 "metadata": {
  "kernelspec": {
   "display_name": "Python 2",
   "language": "python",
   "name": "python2"
  },
  "language_info": {
   "codemirror_mode": {
    "name": "ipython",
    "version": 2
   },
   "file_extension": ".py",
   "mimetype": "text/x-python",
   "name": "python",
   "nbconvert_exporter": "python",
   "pygments_lexer": "ipython2",
   "version": "2.7.5"
  },
  "toc": {
   "nav_menu": {
    "height": "12px",
    "width": "252px"
   },
   "navigate_menu": true,
   "number_sections": true,
   "sideBar": true,
   "threshold": 4,
   "toc_cell": false,
   "toc_section_display": "block",
   "toc_window_display": false
  }
 },
 "nbformat": 4,
 "nbformat_minor": 0
}
